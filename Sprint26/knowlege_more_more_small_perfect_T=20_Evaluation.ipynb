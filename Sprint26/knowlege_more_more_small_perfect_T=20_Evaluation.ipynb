{
 "cells": [
  {
   "cell_type": "markdown",
   "metadata": {},
   "source": [
    "蒸留検証"
   ]
  },
  {
   "cell_type": "code",
   "execution_count": 1,
   "metadata": {},
   "outputs": [
    {
     "name": "stderr",
     "output_type": "stream",
     "text": [
      "Using TensorFlow backend.\n"
     ]
    }
   ],
   "source": [
    "import os\n",
    "import sys\n",
    "import random\n",
    "import warnings\n",
    "\n",
    "import pandas as pd\n",
    "import numpy as np\n",
    "import cupy as cp\n",
    "import matplotlib.pyplot as plt\n",
    "%matplotlib inline\n",
    "\n",
    "import cv2\n",
    "\n",
    "from tqdm import tqdm_notebook, tnrange\n",
    "from itertools import chain\n",
    "from skimage.io import imread, imshow, concatenate_images\n",
    "from skimage.transform import resize\n",
    "from skimage.morphology import label\n",
    "\n",
    "from keras.models import Model, load_model\n",
    "from keras.layers import Input\n",
    "from keras.layers.core import Lambda\n",
    "from keras.layers.convolutional import Conv2D, Conv2DTranspose\n",
    "from keras.layers.pooling import MaxPooling2D\n",
    "from keras.layers.merge import concatenate\n",
    "from keras.callbacks import EarlyStopping, ModelCheckpoint\n",
    "from keras import backend as K\n",
    "from keras.layers.core import Activation\n",
    "\n",
    "import tensorflow as tf\n",
    "\n",
    "from keras.preprocessing.image import ImageDataGenerator, array_to_img, img_to_array, load_img"
   ]
  },
  {
   "cell_type": "code",
   "execution_count": 2,
   "metadata": {},
   "outputs": [],
   "source": [
    "im_width = 128\n",
    "im_height = 128\n",
    "im_chan = 1\n",
    "path_train = \"./data/kaggle/train/\"\n",
    "path_test = './data/kaggle/test/'"
   ]
  },
  {
   "cell_type": "code",
   "execution_count": 3,
   "metadata": {},
   "outputs": [],
   "source": [
    "# 特定のディレクトリのファイルをリストで読み込む\n",
    "train_ids = next(os.walk(path_train+\"images\"))[2]\n",
    "test_ids = next(os.walk(path_test+\"images\"))[2]"
   ]
  },
  {
   "cell_type": "code",
   "execution_count": 4,
   "metadata": {},
   "outputs": [
    {
     "name": "stdout",
     "output_type": "stream",
     "text": [
      "Getting and resizing train images and masks ...\n"
     ]
    },
    {
     "data": {
      "application/vnd.jupyter.widget-view+json": {
       "model_id": "bf8e9650d7d248799d2617bce6749834",
       "version_major": 2,
       "version_minor": 0
      },
      "text/plain": [
       "HBox(children=(IntProgress(value=0, max=4000), HTML(value='')))"
      ]
     },
     "metadata": {},
     "output_type": "display_data"
    },
    {
     "name": "stderr",
     "output_type": "stream",
     "text": [
      "C:\\Users\\G2\\Anaconda3\\lib\\site-packages\\skimage\\transform\\_warps.py:110: UserWarning: Anti-aliasing will be enabled by default in skimage 0.15 to avoid aliasing artifacts when down-sampling images.\n",
      "  warn(\"Anti-aliasing will be enabled by default in skimage 0.15 to \"\n"
     ]
    },
    {
     "name": "stdout",
     "output_type": "stream",
     "text": [
      "\n",
      "Done!\n"
     ]
    }
   ],
   "source": [
    "# test imgase , masks のサイズ変更\n",
    "X_train = np.zeros((len(train_ids), im_height, im_width, im_chan), dtype=np.uint8)\n",
    "Y_train = np.zeros((len(train_ids), im_height, im_width, im_chan), dtype=np.bool)\n",
    "print(\"Getting and resizing train images and masks ...\")\n",
    "\n",
    "#sys.stdout.flush()\n",
    "# tqdm_notebook 進捗表示関数\n",
    "\n",
    "for n, id_ in tqdm_notebook(enumerate(train_ids), total=len(train_ids)):\n",
    "    path = path_train\n",
    "    # 画像のロード\n",
    "    img = load_img(path+\"/images/\"+id_)\n",
    "    # RGBの3チャンネルとれるので1チャンネルを取得\n",
    "    x = img_to_array(img)[:,:,1]\n",
    "    x = resize(x, (128, 128, 1), mode=\"constant\", preserve_range=True)\n",
    "    X_train[n] = x\n",
    "    mask = img_to_array(load_img(path + \"/masks/\" + id_))[:,:,1]\n",
    "    Y_train[n] = resize(mask, (128, 128, 1), mode=\"constant\", preserve_range=True)\n",
    "\n",
    "print(\"Done!\")"
   ]
  },
  {
   "cell_type": "code",
   "execution_count": 5,
   "metadata": {},
   "outputs": [],
   "source": [
    "# IoUメトリックを定義する\n",
    "def mean_iou(y_true, y_pred):\n",
    "    prec = []\n",
    "    for t in np.arange(0.5, 1.0, 0.05):\n",
    "        y_pred_ = tf.to_int32(y_pred > t)\n",
    "        score, up_opt = tf.metrics.mean_iou(y_true, y_pred_, 2)\n",
    "        K.get_session().run(tf.local_variables_initializer())\n",
    "        with tf.control_dependencies([up_opt]):\n",
    "            score = tf.identity(score)\n",
    "        prec.append(score)\n",
    "    return K.mean(K.stack(prec), axis=0)"
   ]
  },
  {
   "cell_type": "code",
   "execution_count": 22,
   "metadata": {
    "code_folding": [],
    "scrolled": true
   },
   "outputs": [
    {
     "name": "stdout",
     "output_type": "stream",
     "text": [
      "__________________________________________________________________________________________________\n",
      "Layer (type)                    Output Shape         Param #     Connected to                     \n",
      "==================================================================================================\n",
      "input_1 (InputLayer)            (None, 128, 128, 1)  0                                            \n",
      "__________________________________________________________________________________________________\n",
      "lambda_13 (Lambda)              (None, 128, 128, 1)  0           input_1[0][0]                    \n",
      "__________________________________________________________________________________________________\n",
      "conv2d_1 (Conv2D)               (None, 128, 128, 8)  80          lambda_13[0][0]                  \n",
      "__________________________________________________________________________________________________\n",
      "conv2d_2 (Conv2D)               (None, 128, 128, 8)  584         conv2d_1[0][0]                   \n",
      "__________________________________________________________________________________________________\n",
      "max_pooling2d_1 (MaxPooling2D)  (None, 64, 64, 8)    0           conv2d_2[0][0]                   \n",
      "__________________________________________________________________________________________________\n",
      "conv2d_3 (Conv2D)               (None, 64, 64, 16)   1168        max_pooling2d_1[0][0]            \n",
      "__________________________________________________________________________________________________\n",
      "conv2d_4 (Conv2D)               (None, 64, 64, 16)   2320        conv2d_3[0][0]                   \n",
      "__________________________________________________________________________________________________\n",
      "max_pooling2d_2 (MaxPooling2D)  (None, 32, 32, 16)   0           conv2d_4[0][0]                   \n",
      "__________________________________________________________________________________________________\n",
      "conv2d_5 (Conv2D)               (None, 32, 32, 32)   4640        max_pooling2d_2[0][0]            \n",
      "__________________________________________________________________________________________________\n",
      "conv2d_6 (Conv2D)               (None, 32, 32, 32)   9248        conv2d_5[0][0]                   \n",
      "__________________________________________________________________________________________________\n",
      "max_pooling2d_3 (MaxPooling2D)  (None, 16, 16, 32)   0           conv2d_6[0][0]                   \n",
      "__________________________________________________________________________________________________\n",
      "conv2d_7 (Conv2D)               (None, 16, 16, 64)   18496       max_pooling2d_3[0][0]            \n",
      "__________________________________________________________________________________________________\n",
      "conv2d_8 (Conv2D)               (None, 16, 16, 64)   36928       conv2d_7[0][0]                   \n",
      "__________________________________________________________________________________________________\n",
      "max_pooling2d_4 (MaxPooling2D)  (None, 8, 8, 64)     0           conv2d_8[0][0]                   \n",
      "__________________________________________________________________________________________________\n",
      "conv2d_9 (Conv2D)               (None, 8, 8, 128)    73856       max_pooling2d_4[0][0]            \n",
      "__________________________________________________________________________________________________\n",
      "conv2d_10 (Conv2D)              (None, 8, 8, 128)    147584      conv2d_9[0][0]                   \n",
      "__________________________________________________________________________________________________\n",
      "conv2d_transpose_1 (Conv2DTrans (None, 16, 16, 64)   32832       conv2d_10[0][0]                  \n",
      "__________________________________________________________________________________________________\n",
      "concatenate_5 (Concatenate)     (None, 16, 16, 128)  0           conv2d_transpose_1[0][0]         \n",
      "                                                                 conv2d_8[0][0]                   \n",
      "__________________________________________________________________________________________________\n",
      "conv2d_11 (Conv2D)              (None, 16, 16, 64)   73792       concatenate_5[0][0]              \n",
      "__________________________________________________________________________________________________\n",
      "conv2d_12 (Conv2D)              (None, 16, 16, 64)   36928       conv2d_11[0][0]                  \n",
      "__________________________________________________________________________________________________\n",
      "conv2d_transpose_2 (Conv2DTrans (None, 32, 32, 32)   8224        conv2d_12[0][0]                  \n",
      "__________________________________________________________________________________________________\n",
      "concatenate_6 (Concatenate)     (None, 32, 32, 64)   0           conv2d_transpose_2[0][0]         \n",
      "                                                                 conv2d_6[0][0]                   \n",
      "__________________________________________________________________________________________________\n",
      "conv2d_13 (Conv2D)              (None, 32, 32, 32)   18464       concatenate_6[0][0]              \n",
      "__________________________________________________________________________________________________\n",
      "conv2d_14 (Conv2D)              (None, 32, 32, 32)   9248        conv2d_13[0][0]                  \n",
      "__________________________________________________________________________________________________\n",
      "conv2d_transpose_3 (Conv2DTrans (None, 64, 64, 16)   2064        conv2d_14[0][0]                  \n",
      "__________________________________________________________________________________________________\n",
      "concatenate_7 (Concatenate)     (None, 64, 64, 32)   0           conv2d_transpose_3[0][0]         \n",
      "                                                                 conv2d_4[0][0]                   \n",
      "__________________________________________________________________________________________________\n",
      "conv2d_15 (Conv2D)              (None, 64, 64, 16)   4624        concatenate_7[0][0]              \n",
      "__________________________________________________________________________________________________\n",
      "conv2d_16 (Conv2D)              (None, 64, 64, 16)   2320        conv2d_15[0][0]                  \n",
      "__________________________________________________________________________________________________\n",
      "conv2d_transpose_4 (Conv2DTrans (None, 128, 128, 8)  520         conv2d_16[0][0]                  \n",
      "__________________________________________________________________________________________________\n",
      "concatenate_8 (Concatenate)     (None, 128, 128, 16) 0           conv2d_transpose_4[0][0]         \n",
      "                                                                 conv2d_2[0][0]                   \n",
      "__________________________________________________________________________________________________\n",
      "conv2d_17 (Conv2D)              (None, 128, 128, 8)  1160        concatenate_8[0][0]              \n",
      "__________________________________________________________________________________________________\n",
      "conv2d_18 (Conv2D)              (None, 128, 128, 8)  584         conv2d_17[0][0]                  \n",
      "__________________________________________________________________________________________________\n",
      "conv2d_19 (Conv2D)              (None, 128, 128, 1)  9           conv2d_18[0][0]                  \n",
      "__________________________________________________________________________________________________\n",
      "activation_5 (Activation)       (None, 128, 128, 1)  0           conv2d_19[0][0]                  \n",
      "==================================================================================================\n",
      "Total params: 485,673\n",
      "Trainable params: 485,673\n",
      "Non-trainable params: 0\n",
      "__________________________________________________________________________________________________\n"
     ]
    }
   ],
   "source": [
    "def theacher_model():\n",
    "    # Bulid U-Net model\n",
    "    # shape(128, 128, 1)\n",
    "    inputs = Input((im_height, im_width, im_chan))\n",
    "    # 画素値を0～1に変換\n",
    "    s = Lambda(lambda x:x /255)(inputs)\n",
    "\n",
    "    # フィルタ:(3✕3) フィルタ数:8\n",
    "    # N_out = (N_in + 2P - F)/s +1 \n",
    "    #          = (128 +0 - 2)/2 + 1 \n",
    "    #          = 64\n",
    "    tc1 = Conv2D(8, (3, 3), activation='relu', padding='same') (s)\n",
    "    tc1 = Conv2D(8, (3, 3), activation='relu', padding='same') (tc1)\n",
    "    tp1 = MaxPooling2D((2, 2)) (tc1)\n",
    "    # shape(64,64,8)\n",
    "\n",
    "    # N_in(64,64,8)\n",
    "    tc2 = Conv2D(16, (3, 3), activation='relu', padding='same') (tp1)\n",
    "    tc2 = Conv2D(16, (3, 3), activation='relu', padding='same') (tc2)\n",
    "    tp2 = MaxPooling2D((2, 2)) (tc2)\n",
    "    # N_out(32,32,16)\n",
    "\n",
    "    tc3 = Conv2D(32, (3, 3), activation='relu', padding='same') (tp2)\n",
    "    tc3 = Conv2D(32, (3, 3), activation='relu', padding='same') (tc3)\n",
    "    tp3 = MaxPooling2D((2, 2)) (tc3)\n",
    "    # N_out(16, 16, 32)\n",
    "\n",
    "    tc4 = Conv2D(64, (3, 3), activation='relu', padding='same') (tp3)\n",
    "    tc4 = Conv2D(64, (3, 3), activation='relu', padding='same') (tc4)\n",
    "    tp4 = MaxPooling2D(pool_size=(2, 2)) (tc4)\n",
    "    # N_out(8,8,64)\n",
    "\n",
    "    tc5 = Conv2D(128, (3, 3), activation='relu', padding='same') (tp4)\n",
    "    tc5 = Conv2D(128, (3, 3), activation='relu', padding='same') (tc5)\n",
    "    # N_out(8, 8, 128)\n",
    "\n",
    "    tu6 = Conv2DTranspose(64, (2, 2), strides=(2, 2), padding='same') (tc5)\n",
    "    tu6 = concatenate([tu6, tc4])\n",
    "    tc6 = Conv2D(64, (3, 3), activation='relu', padding='same') (tu6)\n",
    "    tc6 = Conv2D(64, (3, 3), activation='relu', padding='same') (tc6)\n",
    "    # N_out(16,16, 64)\n",
    "\n",
    "    tu7 = Conv2DTranspose(32, (2, 2), strides=(2, 2), padding='same') (tc6)\n",
    "    tu7 = concatenate([tu7, tc3])\n",
    "    tc7 = Conv2D(32, (3, 3), activation='relu', padding='same') (tu7)\n",
    "    tc7 = Conv2D(32, (3, 3), activation='relu', padding='same') (tc7)\n",
    "    # N_out(32,32, 32)\n",
    "\n",
    "    tu8 = Conv2DTranspose(16, (2, 2), strides=(2, 2), padding='same') (tc7)\n",
    "    tu8 = concatenate([tu8, tc2])\n",
    "    tc8 = Conv2D(16, (3, 3), activation='relu', padding='same') (tu8)\n",
    "    tc8 = Conv2D(16, (3, 3), activation='relu', padding='same') (tc8)\n",
    "    # N_out(64, 64, 16)\n",
    "\n",
    "    tu9 = Conv2DTranspose(8, (2, 2), strides=(2, 2), padding='same') (tc8)\n",
    "    # N_out(128, 128, 8)\n",
    "    tu9 = concatenate([tu9, tc1], axis=3)\n",
    "    tc9 = Conv2D(8, (3, 3), activation='relu', padding='same') (tu9)\n",
    "    tc9 = Conv2D(8, (3, 3), activation='relu', padding='same') (tc9)\n",
    "\n",
    "    tc10 = Conv2D(1, (1,1))(tc9)\n",
    "    teacher_outputs = Activation('sigmoid')(tc10)\n",
    "    \n",
    "    return Model(inputs=[inputs], outputs=[teacher_outputs])\n",
    "\n",
    "teacher_model = theacher_model()\n",
    "teacher_model.compile(optimizer='adam', loss='binary_crossentropy', metrics=[\"accuracy\"])\n",
    "teacher_model.summary()"
   ]
  },
  {
   "cell_type": "code",
   "execution_count": 23,
   "metadata": {
    "scrolled": true
   },
   "outputs": [
    {
     "name": "stdout",
     "output_type": "stream",
     "text": [
      "Train on 3600 samples, validate on 400 samples\n",
      "Epoch 1/30\n",
      "3600/3600 [==============================] - ETA: 23:09 - loss: 0.6944 - acc: 0.30 - ETA: 5:52 - loss: 0.6923 - acc: 0.6003 - ETA: 3:23 - loss: 0.6898 - acc: 0.670 - ETA: 2:24 - loss: 0.6875 - acc: 0.674 - ETA: 1:52 - loss: 0.6819 - acc: 0.686 - ETA: 1:32 - loss: 0.6719 - acc: 0.693 - ETA: 1:18 - loss: 0.6220 - acc: 0.723 - ETA: 1:08 - loss: 0.6138 - acc: 0.736 - ETA: 1:00 - loss: 0.6140 - acc: 0.732 - ETA: 54s - loss: 0.6053 - acc: 0.744 - ETA: 50s - loss: 0.6026 - acc: 0.74 - ETA: 47s - loss: 0.6006 - acc: 0.74 - ETA: 44s - loss: 0.5954 - acc: 0.74 - ETA: 42s - loss: 0.5946 - acc: 0.74 - ETA: 39s - loss: 0.5849 - acc: 0.75 - ETA: 36s - loss: 0.5789 - acc: 0.75 - ETA: 35s - loss: 0.5897 - acc: 0.75 - ETA: 34s - loss: 0.5939 - acc: 0.74 - ETA: 32s - loss: 0.5954 - acc: 0.74 - ETA: 31s - loss: 0.5948 - acc: 0.74 - ETA: 30s - loss: 0.5950 - acc: 0.74 - ETA: 28s - loss: 0.5947 - acc: 0.74 - ETA: 27s - loss: 0.5928 - acc: 0.75 - ETA: 26s - loss: 0.5911 - acc: 0.75 - ETA: 25s - loss: 0.5915 - acc: 0.75 - ETA: 24s - loss: 0.5909 - acc: 0.75 - ETA: 23s - loss: 0.5874 - acc: 0.75 - ETA: 23s - loss: 0.5879 - acc: 0.75 - ETA: 22s - loss: 0.5887 - acc: 0.75 - ETA: 21s - loss: 0.5871 - acc: 0.75 - ETA: 21s - loss: 0.5895 - acc: 0.75 - ETA: 20s - loss: 0.5884 - acc: 0.75 - ETA: 20s - loss: 0.5882 - acc: 0.75 - ETA: 19s - loss: 0.5897 - acc: 0.74 - ETA: 18s - loss: 0.5905 - acc: 0.74 - ETA: 18s - loss: 0.5878 - acc: 0.75 - ETA: 17s - loss: 0.5892 - acc: 0.74 - ETA: 17s - loss: 0.5883 - acc: 0.74 - ETA: 17s - loss: 0.5853 - acc: 0.75 - ETA: 16s - loss: 0.5824 - acc: 0.75 - ETA: 16s - loss: 0.5886 - acc: 0.74 - ETA: 15s - loss: 0.5878 - acc: 0.74 - ETA: 15s - loss: 0.5869 - acc: 0.74 - ETA: 15s - loss: 0.5836 - acc: 0.75 - ETA: 14s - loss: 0.5848 - acc: 0.74 - ETA: 14s - loss: 0.5852 - acc: 0.74 - ETA: 14s - loss: 0.5861 - acc: 0.74 - ETA: 14s - loss: 0.5879 - acc: 0.74 - ETA: 13s - loss: 0.5872 - acc: 0.74 - ETA: 13s - loss: 0.5858 - acc: 0.74 - ETA: 13s - loss: 0.5834 - acc: 0.74 - ETA: 13s - loss: 0.5834 - acc: 0.74 - ETA: 12s - loss: 0.5843 - acc: 0.74 - ETA: 12s - loss: 0.5827 - acc: 0.74 - ETA: 12s - loss: 0.5825 - acc: 0.74 - ETA: 12s - loss: 0.5812 - acc: 0.74 - ETA: 11s - loss: 0.5829 - acc: 0.74 - ETA: 11s - loss: 0.5847 - acc: 0.74 - ETA: 11s - loss: 0.5833 - acc: 0.74 - ETA: 11s - loss: 0.5847 - acc: 0.74 - ETA: 11s - loss: 0.5846 - acc: 0.74 - ETA: 10s - loss: 0.5842 - acc: 0.74 - ETA: 10s - loss: 0.5825 - acc: 0.74 - ETA: 10s - loss: 0.5828 - acc: 0.74 - ETA: 10s - loss: 0.5845 - acc: 0.74 - ETA: 10s - loss: 0.5835 - acc: 0.74 - ETA: 9s - loss: 0.5830 - acc: 0.7428 - ETA: 9s - loss: 0.5825 - acc: 0.743 - ETA: 9s - loss: 0.5826 - acc: 0.742 - ETA: 9s - loss: 0.5834 - acc: 0.741 - ETA: 9s - loss: 0.5840 - acc: 0.740 - ETA: 9s - loss: 0.5843 - acc: 0.740 - ETA: 9s - loss: 0.5841 - acc: 0.740 - ETA: 8s - loss: 0.5832 - acc: 0.741 - ETA: 8s - loss: 0.5825 - acc: 0.741 - ETA: 8s - loss: 0.5818 - acc: 0.741 - ETA: 8s - loss: 0.5809 - acc: 0.742 - ETA: 8s - loss: 0.5793 - acc: 0.743 - ETA: 8s - loss: 0.5794 - acc: 0.743 - ETA: 8s - loss: 0.5800 - acc: 0.743 - ETA: 8s - loss: 0.5796 - acc: 0.743 - ETA: 7s - loss: 0.5804 - acc: 0.742 - ETA: 7s - loss: 0.5802 - acc: 0.742 - ETA: 7s - loss: 0.5798 - acc: 0.742 - ETA: 7s - loss: 0.5783 - acc: 0.744 - ETA: 7s - loss: 0.5787 - acc: 0.743 - ETA: 7s - loss: 0.5776 - acc: 0.744 - ETA: 7s - loss: 0.5782 - acc: 0.743 - ETA: 6s - loss: 0.5793 - acc: 0.742 - ETA: 6s - loss: 0.5800 - acc: 0.741 - ETA: 6s - loss: 0.5795 - acc: 0.741 - ETA: 6s - loss: 0.5787 - acc: 0.743 - ETA: 6s - loss: 0.5784 - acc: 0.743 - ETA: 6s - loss: 0.5782 - acc: 0.743 - ETA: 6s - loss: 0.5788 - acc: 0.742 - ETA: 6s - loss: 0.5783 - acc: 0.742 - ETA: 5s - loss: 0.5777 - acc: 0.743 - ETA: 5s - loss: 0.5770 - acc: 0.743 - ETA: 5s - loss: 0.5772 - acc: 0.743 - ETA: 5s - loss: 0.5766 - acc: 0.743 - ETA: 5s - loss: 0.5781 - acc: 0.742 - ETA: 5s - loss: 0.5772 - acc: 0.742 - ETA: 5s - loss: 0.5775 - acc: 0.742 - ETA: 5s - loss: 0.5773 - acc: 0.742 - ETA: 4s - loss: 0.5767 - acc: 0.743 - ETA: 4s - loss: 0.5755 - acc: 0.744 - ETA: 4s - loss: 0.5748 - acc: 0.744 - ETA: 4s - loss: 0.5773 - acc: 0.742 - ETA: 4s - loss: 0.5777 - acc: 0.742 - ETA: 4s - loss: 0.5779 - acc: 0.742 - ETA: 4s - loss: 0.5774 - acc: 0.743 - ETA: 4s - loss: 0.5776 - acc: 0.742 - ETA: 4s - loss: 0.5775 - acc: 0.742 - ETA: 3s - loss: 0.5773 - acc: 0.742 - ETA: 3s - loss: 0.5782 - acc: 0.741 - ETA: 3s - loss: 0.5777 - acc: 0.742 - ETA: 3s - loss: 0.5773 - acc: 0.742 - ETA: 3s - loss: 0.5774 - acc: 0.742 - ETA: 3s - loss: 0.5768 - acc: 0.742 - ETA: 3s - loss: 0.5751 - acc: 0.743 - ETA: 3s - loss: 0.5750 - acc: 0.743 - ETA: 3s - loss: 0.5730 - acc: 0.745 - ETA: 3s - loss: 0.5725 - acc: 0.745 - ETA: 2s - loss: 0.5731 - acc: 0.745 - ETA: 2s - loss: 0.5727 - acc: 0.745 - ETA: 2s - loss: 0.5728 - acc: 0.745 - ETA: 2s - loss: 0.5728 - acc: 0.745 - ETA: 2s - loss: 0.5727 - acc: 0.745 - ETA: 2s - loss: 0.5731 - acc: 0.744 - ETA: 2s - loss: 0.5728 - acc: 0.745 - ETA: 2s - loss: 0.5729 - acc: 0.745 - ETA: 2s - loss: 0.5728 - acc: 0.744 - ETA: 2s - loss: 0.5723 - acc: 0.745 - ETA: 2s - loss: 0.5728 - acc: 0.744 - ETA: 2s - loss: 0.5721 - acc: 0.745 - ETA: 1s - loss: 0.5721 - acc: 0.745 - ETA: 1s - loss: 0.5717 - acc: 0.745 - ETA: 1s - loss: 0.5718 - acc: 0.745 - ETA: 1s - loss: 0.5709 - acc: 0.745 - ETA: 1s - loss: 0.5718 - acc: 0.745 - ETA: 1s - loss: 0.5721 - acc: 0.744 - ETA: 1s - loss: 0.5719 - acc: 0.744 - ETA: 1s - loss: 0.5726 - acc: 0.743 - ETA: 1s - loss: 0.5723 - acc: 0.744 - ETA: 1s - loss: 0.5727 - acc: 0.743 - ETA: 1s - loss: 0.5729 - acc: 0.743 - ETA: 0s - loss: 0.5733 - acc: 0.742 - ETA: 0s - loss: 0.5732 - acc: 0.742 - ETA: 0s - loss: 0.5727 - acc: 0.743 - ETA: 0s - loss: 0.5728 - acc: 0.743 - ETA: 0s - loss: 0.5726 - acc: 0.743 - ETA: 0s - loss: 0.5726 - acc: 0.743 - ETA: 0s - loss: 0.5721 - acc: 0.743 - ETA: 0s - loss: 0.5716 - acc: 0.743 - ETA: 0s - loss: 0.5718 - acc: 0.743 - ETA: 0s - loss: 0.5716 - acc: 0.743 - ETA: 0s - loss: 0.5716 - acc: 0.743 - ETA: 0s - loss: 0.5711 - acc: 0.743 - 13s 4ms/step - loss: 0.5711 - acc: 0.7439 - val_loss: 0.5181 - val_acc: 0.7721\n",
      "\n",
      "Epoch 00001: val_loss improved from inf to 0.51807, saving model to model-tgs-salt-1.h5\n",
      "Epoch 2/30\n",
      "3600/3600 [==============================] - ETA: 10s - loss: 0.5760 - acc: 0.71 - ETA: 12s - loss: 0.5232 - acc: 0.76 - ETA: 11s - loss: 0.5057 - acc: 0.77 - ETA: 11s - loss: 0.4787 - acc: 0.79 - ETA: 11s - loss: 0.5126 - acc: 0.77 - ETA: 11s - loss: 0.5190 - acc: 0.76 - ETA: 10s - loss: 0.5171 - acc: 0.76 - ETA: 10s - loss: 0.5008 - acc: 0.78 - ETA: 10s - loss: 0.4975 - acc: 0.78 - ETA: 10s - loss: 0.5096 - acc: 0.77 - ETA: 10s - loss: 0.5162 - acc: 0.76 - ETA: 10s - loss: 0.5121 - acc: 0.77 - ETA: 9s - loss: 0.5123 - acc: 0.7719 - ETA: 9s - loss: 0.5263 - acc: 0.759 - ETA: 9s - loss: 0.5249 - acc: 0.761 - ETA: 9s - loss: 0.5233 - acc: 0.763 - ETA: 9s - loss: 0.5250 - acc: 0.762 - ETA: 9s - loss: 0.5240 - acc: 0.764 - ETA: 8s - loss: 0.5326 - acc: 0.757 - ETA: 8s - loss: 0.5363 - acc: 0.754 - ETA: 8s - loss: 0.5393 - acc: 0.751 - ETA: 8s - loss: 0.5423 - acc: 0.749 - ETA: 8s - loss: 0.5411 - acc: 0.752 - ETA: 8s - loss: 0.5424 - acc: 0.751 - ETA: 8s - loss: 0.5434 - acc: 0.750 - ETA: 8s - loss: 0.5412 - acc: 0.751 - ETA: 8s - loss: 0.5457 - acc: 0.749 - ETA: 8s - loss: 0.5465 - acc: 0.748 - ETA: 8s - loss: 0.5470 - acc: 0.748 - ETA: 8s - loss: 0.5466 - acc: 0.748 - ETA: 8s - loss: 0.5464 - acc: 0.748 - ETA: 7s - loss: 0.5461 - acc: 0.749 - ETA: 7s - loss: 0.5447 - acc: 0.751 - ETA: 7s - loss: 0.5528 - acc: 0.745 - ETA: 7s - loss: 0.5529 - acc: 0.745 - ETA: 7s - loss: 0.5531 - acc: 0.746 - ETA: 7s - loss: 0.5547 - acc: 0.745 - ETA: 7s - loss: 0.5543 - acc: 0.746 - ETA: 7s - loss: 0.5544 - acc: 0.746 - ETA: 7s - loss: 0.5547 - acc: 0.745 - ETA: 7s - loss: 0.5547 - acc: 0.745 - ETA: 7s - loss: 0.5551 - acc: 0.745 - ETA: 7s - loss: 0.5547 - acc: 0.746 - ETA: 7s - loss: 0.5549 - acc: 0.746 - ETA: 7s - loss: 0.5557 - acc: 0.745 - ETA: 7s - loss: 0.5549 - acc: 0.746 - ETA: 7s - loss: 0.5546 - acc: 0.746 - ETA: 6s - loss: 0.5552 - acc: 0.744 - ETA: 6s - loss: 0.5572 - acc: 0.742 - ETA: 6s - loss: 0.5568 - acc: 0.743 - ETA: 6s - loss: 0.5554 - acc: 0.745 - ETA: 6s - loss: 0.5544 - acc: 0.746 - ETA: 6s - loss: 0.5524 - acc: 0.747 - ETA: 6s - loss: 0.5509 - acc: 0.749 - ETA: 6s - loss: 0.5472 - acc: 0.751 - ETA: 6s - loss: 0.5474 - acc: 0.751 - ETA: 6s - loss: 0.5445 - acc: 0.753 - ETA: 6s - loss: 0.5414 - acc: 0.755 - ETA: 6s - loss: 0.5385 - acc: 0.757 - ETA: 6s - loss: 0.5405 - acc: 0.756 - ETA: 6s - loss: 0.5425 - acc: 0.754 - ETA: 5s - loss: 0.5425 - acc: 0.754 - ETA: 5s - loss: 0.5428 - acc: 0.754 - ETA: 5s - loss: 0.5442 - acc: 0.753 - ETA: 5s - loss: 0.5441 - acc: 0.754 - ETA: 5s - loss: 0.5439 - acc: 0.754 - ETA: 5s - loss: 0.5450 - acc: 0.753 - ETA: 5s - loss: 0.5458 - acc: 0.752 - ETA: 5s - loss: 0.5462 - acc: 0.752 - ETA: 5s - loss: 0.5461 - acc: 0.753 - ETA: 5s - loss: 0.5468 - acc: 0.753 - ETA: 5s - loss: 0.5455 - acc: 0.754 - ETA: 5s - loss: 0.5451 - acc: 0.754 - ETA: 5s - loss: 0.5461 - acc: 0.754 - ETA: 5s - loss: 0.5454 - acc: 0.754 - ETA: 4s - loss: 0.5465 - acc: 0.753 - ETA: 4s - loss: 0.5481 - acc: 0.752 - ETA: 4s - loss: 0.5470 - acc: 0.753 - ETA: 4s - loss: 0.5476 - acc: 0.752 - ETA: 4s - loss: 0.5464 - acc: 0.753 - ETA: 4s - loss: 0.5473 - acc: 0.752 - ETA: 4s - loss: 0.5466 - acc: 0.753 - ETA: 4s - loss: 0.5464 - acc: 0.753 - ETA: 4s - loss: 0.5463 - acc: 0.753 - ETA: 4s - loss: 0.5473 - acc: 0.752 - ETA: 4s - loss: 0.5465 - acc: 0.752 - ETA: 4s - loss: 0.5450 - acc: 0.754 - ETA: 4s - loss: 0.5463 - acc: 0.753 - ETA: 4s - loss: 0.5471 - acc: 0.751 - ETA: 4s - loss: 0.5471 - acc: 0.751 - ETA: 4s - loss: 0.5473 - acc: 0.751 - ETA: 4s - loss: 0.5471 - acc: 0.752 - ETA: 3s - loss: 0.5460 - acc: 0.753 - ETA: 3s - loss: 0.5462 - acc: 0.753 - ETA: 3s - loss: 0.5448 - acc: 0.753 - ETA: 3s - loss: 0.5455 - acc: 0.753 - ETA: 3s - loss: 0.5470 - acc: 0.752 - ETA: 3s - loss: 0.5468 - acc: 0.752 - ETA: 3s - loss: 0.5469 - acc: 0.752 - ETA: 3s - loss: 0.5472 - acc: 0.751 - ETA: 3s - loss: 0.5471 - acc: 0.750 - ETA: 3s - loss: 0.5478 - acc: 0.749 - ETA: 3s - loss: 0.5476 - acc: 0.749 - ETA: 3s - loss: 0.5470 - acc: 0.750 - ETA: 3s - loss: 0.5458 - acc: 0.750 - ETA: 3s - loss: 0.5476 - acc: 0.749 - ETA: 3s - loss: 0.5477 - acc: 0.750 - ETA: 3s - loss: 0.5482 - acc: 0.749 - ETA: 2s - loss: 0.5488 - acc: 0.748 - ETA: 2s - loss: 0.5498 - acc: 0.747 - ETA: 2s - loss: 0.5497 - acc: 0.748 - ETA: 2s - loss: 0.5502 - acc: 0.747 - ETA: 2s - loss: 0.5506 - acc: 0.747 - ETA: 2s - loss: 0.5503 - acc: 0.747 - ETA: 2s - loss: 0.5498 - acc: 0.748 - ETA: 2s - loss: 0.5499 - acc: 0.748 - ETA: 2s - loss: 0.5501 - acc: 0.748 - ETA: 2s - loss: 0.5500 - acc: 0.748 - ETA: 2s - loss: 0.5502 - acc: 0.748 - ETA: 2s - loss: 0.5505 - acc: 0.748 - ETA: 2s - loss: 0.5501 - acc: 0.748 - ETA: 2s - loss: 0.5496 - acc: 0.748 - ETA: 1s - loss: 0.5483 - acc: 0.749 - ETA: 1s - loss: 0.5495 - acc: 0.749 - ETA: 1s - loss: 0.5489 - acc: 0.749 - ETA: 1s - loss: 0.5483 - acc: 0.749 - ETA: 1s - loss: 0.5483 - acc: 0.749 - ETA: 1s - loss: 0.5475 - acc: 0.750 - ETA: 1s - loss: 0.5479 - acc: 0.749 - ETA: 1s - loss: 0.5484 - acc: 0.749 - ETA: 1s - loss: 0.5485 - acc: 0.748 - ETA: 1s - loss: 0.5484 - acc: 0.748 - ETA: 1s - loss: 0.5483 - acc: 0.748 - ETA: 1s - loss: 0.5485 - acc: 0.748 - ETA: 1s - loss: 0.5488 - acc: 0.747 - ETA: 1s - loss: 0.5482 - acc: 0.748 - ETA: 1s - loss: 0.5486 - acc: 0.747 - ETA: 1s - loss: 0.5491 - acc: 0.746 - ETA: 0s - loss: 0.5493 - acc: 0.746 - ETA: 0s - loss: 0.5491 - acc: 0.746 - ETA: 0s - loss: 0.5481 - acc: 0.747 - ETA: 0s - loss: 0.5486 - acc: 0.747 - ETA: 0s - loss: 0.5486 - acc: 0.747 - ETA: 0s - loss: 0.5491 - acc: 0.746 - ETA: 0s - loss: 0.5495 - acc: 0.745 - ETA: 0s - loss: 0.5501 - acc: 0.744 - ETA: 0s - loss: 0.5503 - acc: 0.745 - ETA: 0s - loss: 0.5506 - acc: 0.744 - ETA: 0s - loss: 0.5503 - acc: 0.744 - ETA: 0s - loss: 0.5497 - acc: 0.744 - ETA: 0s - loss: 0.5489 - acc: 0.745 - ETA: 0s - loss: 0.5489 - acc: 0.745 - ETA: 0s - loss: 0.5490 - acc: 0.745 - ETA: 0s - loss: 0.5488 - acc: 0.745 - 9s 3ms/step - loss: 0.5485 - acc: 0.7456 - val_loss: 0.5040 - val_acc: 0.7721\n",
      "\n",
      "Epoch 00002: val_loss improved from 0.51807 to 0.50397, saving model to model-tgs-salt-1.h5\n",
      "Epoch 3/30\n"
     ]
    },
    {
     "name": "stdout",
     "output_type": "stream",
     "text": [
      "3600/3600 [==============================] - ETA: 8s - loss: 0.7147 - acc: 0.671 - ETA: 8s - loss: 0.6231 - acc: 0.667 - ETA: 8s - loss: 0.5854 - acc: 0.699 - ETA: 8s - loss: 0.5770 - acc: 0.694 - ETA: 8s - loss: 0.5489 - acc: 0.727 - ETA: 8s - loss: 0.5547 - acc: 0.718 - ETA: 8s - loss: 0.5489 - acc: 0.718 - ETA: 8s - loss: 0.5483 - acc: 0.720 - ETA: 8s - loss: 0.5483 - acc: 0.724 - ETA: 8s - loss: 0.5530 - acc: 0.722 - ETA: 7s - loss: 0.5462 - acc: 0.725 - ETA: 7s - loss: 0.5389 - acc: 0.727 - ETA: 7s - loss: 0.5379 - acc: 0.725 - ETA: 7s - loss: 0.5351 - acc: 0.723 - ETA: 7s - loss: 0.5326 - acc: 0.726 - ETA: 7s - loss: 0.5209 - acc: 0.733 - ETA: 7s - loss: 0.5205 - acc: 0.736 - ETA: 7s - loss: 0.5190 - acc: 0.737 - ETA: 7s - loss: 0.5137 - acc: 0.738 - ETA: 7s - loss: 0.5065 - acc: 0.743 - ETA: 7s - loss: 0.4968 - acc: 0.750 - ETA: 6s - loss: 0.4945 - acc: 0.752 - ETA: 6s - loss: 0.4994 - acc: 0.749 - ETA: 6s - loss: 0.5016 - acc: 0.746 - ETA: 6s - loss: 0.5039 - acc: 0.746 - ETA: 6s - loss: 0.5027 - acc: 0.747 - ETA: 6s - loss: 0.4989 - acc: 0.750 - ETA: 6s - loss: 0.4964 - acc: 0.752 - ETA: 6s - loss: 0.4937 - acc: 0.754 - ETA: 6s - loss: 0.4941 - acc: 0.752 - ETA: 6s - loss: 0.4945 - acc: 0.750 - ETA: 6s - loss: 0.4928 - acc: 0.751 - ETA: 6s - loss: 0.4926 - acc: 0.750 - ETA: 6s - loss: 0.4949 - acc: 0.748 - ETA: 6s - loss: 0.4966 - acc: 0.747 - ETA: 6s - loss: 0.4949 - acc: 0.749 - ETA: 6s - loss: 0.4982 - acc: 0.747 - ETA: 6s - loss: 0.4973 - acc: 0.746 - ETA: 6s - loss: 0.4958 - acc: 0.747 - ETA: 6s - loss: 0.4950 - acc: 0.749 - ETA: 6s - loss: 0.4979 - acc: 0.746 - ETA: 6s - loss: 0.4986 - acc: 0.746 - ETA: 6s - loss: 0.4990 - acc: 0.746 - ETA: 5s - loss: 0.4983 - acc: 0.747 - ETA: 5s - loss: 0.4984 - acc: 0.747 - ETA: 5s - loss: 0.4967 - acc: 0.748 - ETA: 5s - loss: 0.4946 - acc: 0.750 - ETA: 5s - loss: 0.4929 - acc: 0.752 - ETA: 5s - loss: 0.4926 - acc: 0.752 - ETA: 5s - loss: 0.4932 - acc: 0.753 - ETA: 5s - loss: 0.4937 - acc: 0.754 - ETA: 5s - loss: 0.4916 - acc: 0.756 - ETA: 5s - loss: 0.4946 - acc: 0.755 - ETA: 5s - loss: 0.4944 - acc: 0.755 - ETA: 5s - loss: 0.4943 - acc: 0.756 - ETA: 5s - loss: 0.4943 - acc: 0.757 - ETA: 5s - loss: 0.4926 - acc: 0.758 - ETA: 5s - loss: 0.4928 - acc: 0.757 - ETA: 4s - loss: 0.4911 - acc: 0.759 - ETA: 4s - loss: 0.4908 - acc: 0.760 - ETA: 4s - loss: 0.4891 - acc: 0.762 - ETA: 4s - loss: 0.4922 - acc: 0.760 - ETA: 4s - loss: 0.4911 - acc: 0.761 - ETA: 4s - loss: 0.4917 - acc: 0.761 - ETA: 4s - loss: 0.4906 - acc: 0.762 - ETA: 4s - loss: 0.4899 - acc: 0.763 - ETA: 4s - loss: 0.4886 - acc: 0.765 - ETA: 4s - loss: 0.4871 - acc: 0.766 - ETA: 4s - loss: 0.4852 - acc: 0.767 - ETA: 4s - loss: 0.4835 - acc: 0.768 - ETA: 4s - loss: 0.4823 - acc: 0.769 - ETA: 4s - loss: 0.4808 - acc: 0.770 - ETA: 4s - loss: 0.4818 - acc: 0.770 - ETA: 4s - loss: 0.4818 - acc: 0.770 - ETA: 4s - loss: 0.4807 - acc: 0.771 - ETA: 4s - loss: 0.4787 - acc: 0.773 - ETA: 3s - loss: 0.4755 - acc: 0.775 - ETA: 3s - loss: 0.4763 - acc: 0.775 - ETA: 3s - loss: 0.4785 - acc: 0.774 - ETA: 3s - loss: 0.4825 - acc: 0.772 - ETA: 3s - loss: 0.4823 - acc: 0.772 - ETA: 3s - loss: 0.4843 - acc: 0.771 - ETA: 3s - loss: 0.4844 - acc: 0.772 - ETA: 3s - loss: 0.4850 - acc: 0.772 - ETA: 3s - loss: 0.4873 - acc: 0.770 - ETA: 3s - loss: 0.4878 - acc: 0.770 - ETA: 3s - loss: 0.4879 - acc: 0.771 - ETA: 3s - loss: 0.4888 - acc: 0.770 - ETA: 3s - loss: 0.4896 - acc: 0.770 - ETA: 3s - loss: 0.4898 - acc: 0.770 - ETA: 3s - loss: 0.4888 - acc: 0.771 - ETA: 3s - loss: 0.4892 - acc: 0.772 - ETA: 3s - loss: 0.4909 - acc: 0.770 - ETA: 2s - loss: 0.4909 - acc: 0.771 - ETA: 2s - loss: 0.4920 - acc: 0.770 - ETA: 2s - loss: 0.4924 - acc: 0.770 - ETA: 2s - loss: 0.4925 - acc: 0.770 - ETA: 2s - loss: 0.4929 - acc: 0.770 - ETA: 2s - loss: 0.4935 - acc: 0.769 - ETA: 2s - loss: 0.4948 - acc: 0.768 - ETA: 2s - loss: 0.4964 - acc: 0.767 - ETA: 2s - loss: 0.4974 - acc: 0.766 - ETA: 2s - loss: 0.4980 - acc: 0.766 - ETA: 2s - loss: 0.4984 - acc: 0.766 - ETA: 2s - loss: 0.4980 - acc: 0.766 - ETA: 2s - loss: 0.4986 - acc: 0.766 - ETA: 2s - loss: 0.4984 - acc: 0.766 - ETA: 2s - loss: 0.4993 - acc: 0.766 - ETA: 2s - loss: 0.4991 - acc: 0.766 - ETA: 2s - loss: 0.4999 - acc: 0.765 - ETA: 1s - loss: 0.4995 - acc: 0.765 - ETA: 1s - loss: 0.4991 - acc: 0.765 - ETA: 1s - loss: 0.4984 - acc: 0.765 - ETA: 1s - loss: 0.4991 - acc: 0.765 - ETA: 1s - loss: 0.4993 - acc: 0.765 - ETA: 1s - loss: 0.4986 - acc: 0.765 - ETA: 1s - loss: 0.4975 - acc: 0.766 - ETA: 1s - loss: 0.4983 - acc: 0.766 - ETA: 1s - loss: 0.4979 - acc: 0.767 - ETA: 1s - loss: 0.4975 - acc: 0.767 - ETA: 1s - loss: 0.4970 - acc: 0.768 - ETA: 1s - loss: 0.4968 - acc: 0.768 - ETA: 1s - loss: 0.4962 - acc: 0.769 - ETA: 1s - loss: 0.4963 - acc: 0.769 - ETA: 1s - loss: 0.4954 - acc: 0.769 - ETA: 1s - loss: 0.4955 - acc: 0.769 - ETA: 1s - loss: 0.4950 - acc: 0.770 - ETA: 0s - loss: 0.4949 - acc: 0.770 - ETA: 0s - loss: 0.4952 - acc: 0.770 - ETA: 0s - loss: 0.4950 - acc: 0.770 - ETA: 0s - loss: 0.4945 - acc: 0.770 - ETA: 0s - loss: 0.4945 - acc: 0.771 - ETA: 0s - loss: 0.4952 - acc: 0.770 - ETA: 0s - loss: 0.4954 - acc: 0.770 - ETA: 0s - loss: 0.4951 - acc: 0.770 - ETA: 0s - loss: 0.4939 - acc: 0.770 - ETA: 0s - loss: 0.4928 - acc: 0.771 - ETA: 0s - loss: 0.4917 - acc: 0.771 - ETA: 0s - loss: 0.4917 - acc: 0.771 - ETA: 0s - loss: 0.4922 - acc: 0.771 - ETA: 0s - loss: 0.4924 - acc: 0.771 - ETA: 0s - loss: 0.4926 - acc: 0.771 - ETA: 0s - loss: 0.4930 - acc: 0.771 - ETA: 0s - loss: 0.4925 - acc: 0.772 - ETA: 0s - loss: 0.4924 - acc: 0.772 - 8s 2ms/step - loss: 0.4921 - acc: 0.7724 - val_loss: 0.4902 - val_acc: 0.7721\n",
      "\n",
      "Epoch 00003: val_loss improved from 0.50397 to 0.49019, saving model to model-tgs-salt-1.h5\n",
      "Epoch 4/30\n",
      "3600/3600 [==============================] - ETA: 7s - loss: 0.4155 - acc: 0.825 - ETA: 7s - loss: 0.3963 - acc: 0.831 - ETA: 7s - loss: 0.4207 - acc: 0.808 - ETA: 7s - loss: 0.4410 - acc: 0.805 - ETA: 7s - loss: 0.4254 - acc: 0.815 - ETA: 7s - loss: 0.4201 - acc: 0.818 - ETA: 7s - loss: 0.4138 - acc: 0.821 - ETA: 7s - loss: 0.3983 - acc: 0.832 - ETA: 7s - loss: 0.4065 - acc: 0.831 - ETA: 7s - loss: 0.3967 - acc: 0.840 - ETA: 7s - loss: 0.3984 - acc: 0.838 - ETA: 7s - loss: 0.4056 - acc: 0.834 - ETA: 7s - loss: 0.3983 - acc: 0.839 - ETA: 7s - loss: 0.3966 - acc: 0.839 - ETA: 7s - loss: 0.4019 - acc: 0.836 - ETA: 7s - loss: 0.3986 - acc: 0.837 - ETA: 7s - loss: 0.4003 - acc: 0.838 - ETA: 7s - loss: 0.4057 - acc: 0.836 - ETA: 7s - loss: 0.4089 - acc: 0.834 - ETA: 7s - loss: 0.4169 - acc: 0.830 - ETA: 6s - loss: 0.4183 - acc: 0.829 - ETA: 6s - loss: 0.4169 - acc: 0.829 - ETA: 6s - loss: 0.4212 - acc: 0.826 - ETA: 6s - loss: 0.4170 - acc: 0.829 - ETA: 6s - loss: 0.4141 - acc: 0.830 - ETA: 6s - loss: 0.4112 - acc: 0.832 - ETA: 6s - loss: 0.4106 - acc: 0.832 - ETA: 6s - loss: 0.4166 - acc: 0.830 - ETA: 6s - loss: 0.4173 - acc: 0.829 - ETA: 6s - loss: 0.4176 - acc: 0.828 - ETA: 6s - loss: 0.4237 - acc: 0.824 - ETA: 6s - loss: 0.4276 - acc: 0.819 - ETA: 6s - loss: 0.4290 - acc: 0.819 - ETA: 6s - loss: 0.4275 - acc: 0.820 - ETA: 5s - loss: 0.4297 - acc: 0.817 - ETA: 5s - loss: 0.4294 - acc: 0.818 - ETA: 5s - loss: 0.4276 - acc: 0.819 - ETA: 5s - loss: 0.4272 - acc: 0.818 - ETA: 5s - loss: 0.4282 - acc: 0.817 - ETA: 5s - loss: 0.4298 - acc: 0.817 - ETA: 5s - loss: 0.4315 - acc: 0.815 - ETA: 5s - loss: 0.4336 - acc: 0.812 - ETA: 5s - loss: 0.4336 - acc: 0.813 - ETA: 5s - loss: 0.4338 - acc: 0.813 - ETA: 5s - loss: 0.4324 - acc: 0.813 - ETA: 5s - loss: 0.4346 - acc: 0.811 - ETA: 5s - loss: 0.4353 - acc: 0.811 - ETA: 5s - loss: 0.4354 - acc: 0.810 - ETA: 5s - loss: 0.4374 - acc: 0.809 - ETA: 5s - loss: 0.4374 - acc: 0.809 - ETA: 4s - loss: 0.4355 - acc: 0.810 - ETA: 4s - loss: 0.4347 - acc: 0.811 - ETA: 4s - loss: 0.4356 - acc: 0.810 - ETA: 4s - loss: 0.4357 - acc: 0.811 - ETA: 4s - loss: 0.4359 - acc: 0.811 - ETA: 4s - loss: 0.4353 - acc: 0.812 - ETA: 4s - loss: 0.4363 - acc: 0.812 - ETA: 4s - loss: 0.4338 - acc: 0.813 - ETA: 4s - loss: 0.4343 - acc: 0.813 - ETA: 4s - loss: 0.4346 - acc: 0.813 - ETA: 4s - loss: 0.4354 - acc: 0.813 - ETA: 4s - loss: 0.4344 - acc: 0.814 - ETA: 4s - loss: 0.4350 - acc: 0.813 - ETA: 4s - loss: 0.4369 - acc: 0.812 - ETA: 4s - loss: 0.4364 - acc: 0.812 - ETA: 4s - loss: 0.4355 - acc: 0.813 - ETA: 4s - loss: 0.4347 - acc: 0.814 - ETA: 4s - loss: 0.4368 - acc: 0.813 - ETA: 4s - loss: 0.4358 - acc: 0.814 - ETA: 3s - loss: 0.4362 - acc: 0.814 - ETA: 3s - loss: 0.4371 - acc: 0.813 - ETA: 3s - loss: 0.4365 - acc: 0.814 - ETA: 3s - loss: 0.4358 - acc: 0.815 - ETA: 3s - loss: 0.4345 - acc: 0.815 - ETA: 3s - loss: 0.4335 - acc: 0.816 - ETA: 3s - loss: 0.4336 - acc: 0.816 - ETA: 3s - loss: 0.4348 - acc: 0.815 - ETA: 3s - loss: 0.4345 - acc: 0.815 - ETA: 3s - loss: 0.4342 - acc: 0.816 - ETA: 3s - loss: 0.4337 - acc: 0.816 - ETA: 3s - loss: 0.4327 - acc: 0.817 - ETA: 3s - loss: 0.4317 - acc: 0.817 - ETA: 3s - loss: 0.4337 - acc: 0.817 - ETA: 3s - loss: 0.4347 - acc: 0.817 - ETA: 3s - loss: 0.4340 - acc: 0.817 - ETA: 2s - loss: 0.4339 - acc: 0.817 - ETA: 2s - loss: 0.4347 - acc: 0.817 - ETA: 2s - loss: 0.4337 - acc: 0.818 - ETA: 2s - loss: 0.4338 - acc: 0.817 - ETA: 2s - loss: 0.4324 - acc: 0.818 - ETA: 2s - loss: 0.4321 - acc: 0.818 - ETA: 2s - loss: 0.4310 - acc: 0.819 - ETA: 2s - loss: 0.4316 - acc: 0.819 - ETA: 2s - loss: 0.4318 - acc: 0.819 - ETA: 2s - loss: 0.4329 - acc: 0.818 - ETA: 2s - loss: 0.4331 - acc: 0.818 - ETA: 2s - loss: 0.4322 - acc: 0.819 - ETA: 2s - loss: 0.4314 - acc: 0.819 - ETA: 2s - loss: 0.4307 - acc: 0.820 - ETA: 2s - loss: 0.4306 - acc: 0.820 - ETA: 2s - loss: 0.4296 - acc: 0.820 - ETA: 2s - loss: 0.4291 - acc: 0.820 - ETA: 2s - loss: 0.4276 - acc: 0.821 - ETA: 1s - loss: 0.4271 - acc: 0.822 - ETA: 1s - loss: 0.4270 - acc: 0.822 - ETA: 1s - loss: 0.4266 - acc: 0.822 - ETA: 1s - loss: 0.4260 - acc: 0.822 - ETA: 1s - loss: 0.4252 - acc: 0.822 - ETA: 1s - loss: 0.4251 - acc: 0.822 - ETA: 1s - loss: 0.4241 - acc: 0.823 - ETA: 1s - loss: 0.4249 - acc: 0.823 - ETA: 1s - loss: 0.4238 - acc: 0.824 - ETA: 1s - loss: 0.4238 - acc: 0.824 - ETA: 1s - loss: 0.4232 - acc: 0.824 - ETA: 1s - loss: 0.4222 - acc: 0.824 - ETA: 1s - loss: 0.4218 - acc: 0.825 - ETA: 1s - loss: 0.4207 - acc: 0.826 - ETA: 1s - loss: 0.4216 - acc: 0.825 - ETA: 1s - loss: 0.4209 - acc: 0.826 - ETA: 1s - loss: 0.4212 - acc: 0.826 - ETA: 1s - loss: 0.4206 - acc: 0.826 - ETA: 1s - loss: 0.4205 - acc: 0.826 - ETA: 0s - loss: 0.4198 - acc: 0.827 - ETA: 0s - loss: 0.4196 - acc: 0.827 - ETA: 0s - loss: 0.4201 - acc: 0.827 - ETA: 0s - loss: 0.4193 - acc: 0.827 - ETA: 0s - loss: 0.4178 - acc: 0.828 - ETA: 0s - loss: 0.4164 - acc: 0.829 - ETA: 0s - loss: 0.4161 - acc: 0.829 - ETA: 0s - loss: 0.4153 - acc: 0.829 - ETA: 0s - loss: 0.4158 - acc: 0.829 - ETA: 0s - loss: 0.4156 - acc: 0.830 - ETA: 0s - loss: 0.4159 - acc: 0.829 - ETA: 0s - loss: 0.4165 - acc: 0.829 - ETA: 0s - loss: 0.4171 - acc: 0.828 - ETA: 0s - loss: 0.4172 - acc: 0.828 - ETA: 0s - loss: 0.4166 - acc: 0.828 - ETA: 0s - loss: 0.4156 - acc: 0.829 - ETA: 0s - loss: 0.4159 - acc: 0.828 - ETA: 0s - loss: 0.4163 - acc: 0.828 - 8s 2ms/step - loss: 0.4163 - acc: 0.8284 - val_loss: 0.3394 - val_acc: 0.8618\n",
      "\n",
      "Epoch 00004: val_loss improved from 0.49019 to 0.33936, saving model to model-tgs-salt-1.h5\n",
      "Epoch 5/30\n"
     ]
    },
    {
     "name": "stdout",
     "output_type": "stream",
     "text": [
      "3600/3600 [==============================] - ETA: 8s - loss: 0.3698 - acc: 0.884 - ETA: 8s - loss: 0.3247 - acc: 0.869 - ETA: 8s - loss: 0.3226 - acc: 0.874 - ETA: 7s - loss: 0.3435 - acc: 0.864 - ETA: 7s - loss: 0.3579 - acc: 0.863 - ETA: 7s - loss: 0.3595 - acc: 0.866 - ETA: 7s - loss: 0.3535 - acc: 0.866 - ETA: 7s - loss: 0.3433 - acc: 0.873 - ETA: 7s - loss: 0.3426 - acc: 0.872 - ETA: 7s - loss: 0.3406 - acc: 0.874 - ETA: 7s - loss: 0.3360 - acc: 0.874 - ETA: 7s - loss: 0.3253 - acc: 0.880 - ETA: 7s - loss: 0.3399 - acc: 0.875 - ETA: 7s - loss: 0.3422 - acc: 0.875 - ETA: 7s - loss: 0.3512 - acc: 0.870 - ETA: 7s - loss: 0.3501 - acc: 0.871 - ETA: 7s - loss: 0.3545 - acc: 0.868 - ETA: 7s - loss: 0.3560 - acc: 0.866 - ETA: 7s - loss: 0.3707 - acc: 0.861 - ETA: 6s - loss: 0.3816 - acc: 0.853 - ETA: 6s - loss: 0.3941 - acc: 0.843 - ETA: 6s - loss: 0.4039 - acc: 0.837 - ETA: 6s - loss: 0.4020 - acc: 0.839 - ETA: 6s - loss: 0.4390 - acc: 0.837 - ETA: 6s - loss: 0.4465 - acc: 0.829 - ETA: 6s - loss: 0.4483 - acc: 0.831 - ETA: 6s - loss: 0.4508 - acc: 0.831 - ETA: 6s - loss: 0.4528 - acc: 0.829 - ETA: 6s - loss: 0.4524 - acc: 0.830 - ETA: 6s - loss: 0.4575 - acc: 0.826 - ETA: 6s - loss: 0.4561 - acc: 0.828 - ETA: 6s - loss: 0.4514 - acc: 0.830 - ETA: 5s - loss: 0.4464 - acc: 0.833 - ETA: 5s - loss: 0.4569 - acc: 0.827 - ETA: 5s - loss: 0.4573 - acc: 0.825 - ETA: 5s - loss: 0.4561 - acc: 0.825 - ETA: 5s - loss: 0.4546 - acc: 0.826 - ETA: 5s - loss: 0.4556 - acc: 0.825 - ETA: 5s - loss: 0.4556 - acc: 0.825 - ETA: 5s - loss: 0.4541 - acc: 0.826 - ETA: 5s - loss: 0.4535 - acc: 0.826 - ETA: 5s - loss: 0.4537 - acc: 0.826 - ETA: 5s - loss: 0.4530 - acc: 0.826 - ETA: 5s - loss: 0.4521 - acc: 0.826 - ETA: 5s - loss: 0.4538 - acc: 0.826 - ETA: 5s - loss: 0.4532 - acc: 0.825 - ETA: 5s - loss: 0.4521 - acc: 0.826 - ETA: 5s - loss: 0.4517 - acc: 0.826 - ETA: 5s - loss: 0.4528 - acc: 0.825 - ETA: 5s - loss: 0.4511 - acc: 0.826 - ETA: 5s - loss: 0.4505 - acc: 0.826 - ETA: 4s - loss: 0.4483 - acc: 0.827 - ETA: 4s - loss: 0.4466 - acc: 0.828 - ETA: 4s - loss: 0.4433 - acc: 0.829 - ETA: 4s - loss: 0.4421 - acc: 0.830 - ETA: 4s - loss: 0.4392 - acc: 0.832 - ETA: 4s - loss: 0.4394 - acc: 0.831 - ETA: 4s - loss: 0.4403 - acc: 0.832 - ETA: 4s - loss: 0.4398 - acc: 0.832 - ETA: 4s - loss: 0.4408 - acc: 0.831 - ETA: 4s - loss: 0.4409 - acc: 0.830 - ETA: 4s - loss: 0.4402 - acc: 0.831 - ETA: 4s - loss: 0.4399 - acc: 0.831 - ETA: 4s - loss: 0.4421 - acc: 0.830 - ETA: 4s - loss: 0.4431 - acc: 0.829 - ETA: 4s - loss: 0.4424 - acc: 0.830 - ETA: 4s - loss: 0.4401 - acc: 0.831 - ETA: 4s - loss: 0.4411 - acc: 0.830 - ETA: 3s - loss: 0.4420 - acc: 0.829 - ETA: 3s - loss: 0.4423 - acc: 0.829 - ETA: 3s - loss: 0.4428 - acc: 0.828 - ETA: 3s - loss: 0.4441 - acc: 0.827 - ETA: 3s - loss: 0.4427 - acc: 0.828 - ETA: 3s - loss: 0.4411 - acc: 0.829 - ETA: 3s - loss: 0.4406 - acc: 0.829 - ETA: 3s - loss: 0.4395 - acc: 0.830 - ETA: 3s - loss: 0.4389 - acc: 0.830 - ETA: 3s - loss: 0.4380 - acc: 0.830 - ETA: 3s - loss: 0.4376 - acc: 0.830 - ETA: 3s - loss: 0.4363 - acc: 0.831 - ETA: 3s - loss: 0.4360 - acc: 0.831 - ETA: 3s - loss: 0.4352 - acc: 0.831 - ETA: 3s - loss: 0.4344 - acc: 0.831 - ETA: 3s - loss: 0.4376 - acc: 0.830 - ETA: 2s - loss: 0.4404 - acc: 0.827 - ETA: 2s - loss: 0.4409 - acc: 0.828 - ETA: 2s - loss: 0.4437 - acc: 0.825 - ETA: 2s - loss: 0.4447 - acc: 0.825 - ETA: 2s - loss: 0.4464 - acc: 0.823 - ETA: 2s - loss: 0.4475 - acc: 0.823 - ETA: 2s - loss: 0.4487 - acc: 0.822 - ETA: 2s - loss: 0.4498 - acc: 0.821 - ETA: 2s - loss: 0.4515 - acc: 0.819 - ETA: 2s - loss: 0.4524 - acc: 0.819 - ETA: 2s - loss: 0.4529 - acc: 0.819 - ETA: 2s - loss: 0.4522 - acc: 0.819 - ETA: 2s - loss: 0.4541 - acc: 0.818 - ETA: 2s - loss: 0.4549 - acc: 0.818 - ETA: 2s - loss: 0.4537 - acc: 0.819 - ETA: 2s - loss: 0.4546 - acc: 0.818 - ETA: 2s - loss: 0.4550 - acc: 0.817 - ETA: 2s - loss: 0.4542 - acc: 0.818 - ETA: 1s - loss: 0.4555 - acc: 0.817 - ETA: 1s - loss: 0.4557 - acc: 0.816 - ETA: 1s - loss: 0.4561 - acc: 0.816 - ETA: 1s - loss: 0.4557 - acc: 0.816 - ETA: 1s - loss: 0.4555 - acc: 0.816 - ETA: 1s - loss: 0.4558 - acc: 0.816 - ETA: 1s - loss: 0.4556 - acc: 0.816 - ETA: 1s - loss: 0.4555 - acc: 0.817 - ETA: 1s - loss: 0.4541 - acc: 0.817 - ETA: 1s - loss: 0.4538 - acc: 0.817 - ETA: 1s - loss: 0.4538 - acc: 0.817 - ETA: 1s - loss: 0.4548 - acc: 0.817 - ETA: 1s - loss: 0.4546 - acc: 0.817 - ETA: 1s - loss: 0.4553 - acc: 0.816 - ETA: 1s - loss: 0.4557 - acc: 0.815 - ETA: 1s - loss: 0.4552 - acc: 0.816 - ETA: 1s - loss: 0.4558 - acc: 0.816 - ETA: 1s - loss: 0.4554 - acc: 0.816 - ETA: 1s - loss: 0.4559 - acc: 0.816 - ETA: 0s - loss: 0.4558 - acc: 0.815 - ETA: 0s - loss: 0.4554 - acc: 0.816 - ETA: 0s - loss: 0.4559 - acc: 0.815 - ETA: 0s - loss: 0.4547 - acc: 0.816 - ETA: 0s - loss: 0.4541 - acc: 0.816 - ETA: 0s - loss: 0.4544 - acc: 0.816 - ETA: 0s - loss: 0.4544 - acc: 0.816 - ETA: 0s - loss: 0.4535 - acc: 0.816 - ETA: 0s - loss: 0.4538 - acc: 0.816 - ETA: 0s - loss: 0.4538 - acc: 0.816 - ETA: 0s - loss: 0.4534 - acc: 0.816 - ETA: 0s - loss: 0.4531 - acc: 0.817 - ETA: 0s - loss: 0.4527 - acc: 0.817 - ETA: 0s - loss: 0.4529 - acc: 0.817 - ETA: 0s - loss: 0.4527 - acc: 0.816 - ETA: 0s - loss: 0.4527 - acc: 0.817 - ETA: 0s - loss: 0.4525 - acc: 0.817 - ETA: 0s - loss: 0.4512 - acc: 0.817 - 8s 2ms/step - loss: 0.4510 - acc: 0.8179 - val_loss: 0.3675 - val_acc: 0.8638\n",
      "\n",
      "Epoch 00005: val_loss did not improve from 0.33936\n",
      "Epoch 6/30\n",
      "3600/3600 [==============================] - ETA: 8s - loss: 0.6540 - acc: 0.683 - ETA: 7s - loss: 0.4927 - acc: 0.788 - ETA: 8s - loss: 0.4396 - acc: 0.822 - ETA: 8s - loss: 0.4633 - acc: 0.814 - ETA: 7s - loss: 0.4310 - acc: 0.833 - ETA: 7s - loss: 0.4468 - acc: 0.829 - ETA: 7s - loss: 0.4319 - acc: 0.833 - ETA: 7s - loss: 0.4285 - acc: 0.835 - ETA: 7s - loss: 0.4238 - acc: 0.839 - ETA: 7s - loss: 0.4079 - acc: 0.846 - ETA: 7s - loss: 0.3938 - acc: 0.853 - ETA: 7s - loss: 0.4025 - acc: 0.847 - ETA: 7s - loss: 0.4067 - acc: 0.845 - ETA: 7s - loss: 0.4113 - acc: 0.842 - ETA: 7s - loss: 0.4072 - acc: 0.845 - ETA: 7s - loss: 0.4099 - acc: 0.843 - ETA: 7s - loss: 0.4117 - acc: 0.840 - ETA: 7s - loss: 0.4114 - acc: 0.837 - ETA: 7s - loss: 0.4106 - acc: 0.838 - ETA: 7s - loss: 0.4092 - acc: 0.839 - ETA: 6s - loss: 0.4047 - acc: 0.842 - ETA: 6s - loss: 0.4140 - acc: 0.839 - ETA: 6s - loss: 0.4126 - acc: 0.841 - ETA: 6s - loss: 0.4095 - acc: 0.842 - ETA: 6s - loss: 0.4069 - acc: 0.843 - ETA: 6s - loss: 0.4060 - acc: 0.842 - ETA: 6s - loss: 0.4091 - acc: 0.841 - ETA: 6s - loss: 0.4045 - acc: 0.843 - ETA: 6s - loss: 0.4117 - acc: 0.841 - ETA: 6s - loss: 0.4108 - acc: 0.841 - ETA: 6s - loss: 0.4105 - acc: 0.841 - ETA: 6s - loss: 0.4102 - acc: 0.842 - ETA: 5s - loss: 0.4102 - acc: 0.843 - ETA: 5s - loss: 0.4125 - acc: 0.842 - ETA: 5s - loss: 0.4139 - acc: 0.840 - ETA: 5s - loss: 0.4111 - acc: 0.842 - ETA: 5s - loss: 0.4109 - acc: 0.843 - ETA: 5s - loss: 0.4100 - acc: 0.843 - ETA: 5s - loss: 0.4064 - acc: 0.845 - ETA: 5s - loss: 0.4041 - acc: 0.846 - ETA: 5s - loss: 0.4058 - acc: 0.846 - ETA: 5s - loss: 0.4040 - acc: 0.846 - ETA: 5s - loss: 0.4017 - acc: 0.847 - ETA: 5s - loss: 0.4039 - acc: 0.847 - ETA: 5s - loss: 0.4054 - acc: 0.846 - ETA: 5s - loss: 0.4022 - acc: 0.848 - ETA: 5s - loss: 0.4016 - acc: 0.849 - ETA: 5s - loss: 0.4023 - acc: 0.848 - ETA: 5s - loss: 0.4043 - acc: 0.847 - ETA: 5s - loss: 0.4062 - acc: 0.846 - ETA: 5s - loss: 0.4107 - acc: 0.844 - ETA: 5s - loss: 0.4117 - acc: 0.843 - ETA: 4s - loss: 0.4136 - acc: 0.841 - ETA: 4s - loss: 0.4160 - acc: 0.839 - ETA: 4s - loss: 0.4166 - acc: 0.838 - ETA: 4s - loss: 0.4177 - acc: 0.837 - ETA: 4s - loss: 0.4182 - acc: 0.837 - ETA: 4s - loss: 0.4186 - acc: 0.837 - ETA: 4s - loss: 0.4175 - acc: 0.837 - ETA: 4s - loss: 0.4160 - acc: 0.838 - ETA: 4s - loss: 0.4159 - acc: 0.838 - ETA: 4s - loss: 0.4133 - acc: 0.840 - ETA: 4s - loss: 0.4108 - acc: 0.841 - ETA: 4s - loss: 0.4121 - acc: 0.840 - ETA: 4s - loss: 0.4127 - acc: 0.839 - ETA: 4s - loss: 0.4115 - acc: 0.840 - ETA: 4s - loss: 0.4108 - acc: 0.840 - ETA: 4s - loss: 0.4103 - acc: 0.840 - ETA: 4s - loss: 0.4091 - acc: 0.841 - ETA: 4s - loss: 0.4070 - acc: 0.842 - ETA: 4s - loss: 0.4087 - acc: 0.841 - ETA: 4s - loss: 0.4081 - acc: 0.841 - ETA: 4s - loss: 0.4082 - acc: 0.841 - ETA: 4s - loss: 0.4077 - acc: 0.842 - ETA: 3s - loss: 0.4067 - acc: 0.842 - ETA: 3s - loss: 0.4053 - acc: 0.843 - ETA: 3s - loss: 0.4069 - acc: 0.843 - ETA: 3s - loss: 0.4059 - acc: 0.844 - ETA: 3s - loss: 0.4061 - acc: 0.844 - ETA: 3s - loss: 0.4075 - acc: 0.843 - ETA: 3s - loss: 0.4082 - acc: 0.842 - ETA: 3s - loss: 0.4086 - acc: 0.842 - ETA: 3s - loss: 0.4102 - acc: 0.841 - ETA: 3s - loss: 0.4103 - acc: 0.841 - ETA: 3s - loss: 0.4107 - acc: 0.841 - ETA: 3s - loss: 0.4101 - acc: 0.841 - ETA: 3s - loss: 0.4093 - acc: 0.842 - ETA: 3s - loss: 0.4087 - acc: 0.842 - ETA: 3s - loss: 0.4080 - acc: 0.842 - ETA: 3s - loss: 0.4074 - acc: 0.842 - ETA: 3s - loss: 0.4073 - acc: 0.842 - ETA: 3s - loss: 0.4085 - acc: 0.842 - ETA: 3s - loss: 0.4075 - acc: 0.843 - ETA: 2s - loss: 0.4060 - acc: 0.844 - ETA: 2s - loss: 0.4049 - acc: 0.844 - ETA: 2s - loss: 0.4060 - acc: 0.843 - ETA: 2s - loss: 0.4039 - acc: 0.845 - ETA: 2s - loss: 0.4039 - acc: 0.845 - ETA: 2s - loss: 0.4041 - acc: 0.844 - ETA: 2s - loss: 0.4043 - acc: 0.844 - ETA: 2s - loss: 0.4027 - acc: 0.845 - ETA: 2s - loss: 0.4015 - acc: 0.845 - ETA: 2s - loss: 0.4014 - acc: 0.845 - ETA: 2s - loss: 0.4012 - acc: 0.846 - ETA: 2s - loss: 0.4011 - acc: 0.846 - ETA: 2s - loss: 0.4011 - acc: 0.846 - ETA: 2s - loss: 0.4033 - acc: 0.844 - ETA: 2s - loss: 0.4031 - acc: 0.844 - ETA: 2s - loss: 0.4031 - acc: 0.844 - ETA: 2s - loss: 0.4056 - acc: 0.842 - ETA: 2s - loss: 0.4054 - acc: 0.842 - ETA: 2s - loss: 0.4055 - acc: 0.842 - ETA: 1s - loss: 0.4059 - acc: 0.842 - ETA: 1s - loss: 0.4049 - acc: 0.843 - ETA: 1s - loss: 0.4048 - acc: 0.843 - ETA: 1s - loss: 0.4045 - acc: 0.843 - ETA: 1s - loss: 0.4047 - acc: 0.843 - ETA: 1s - loss: 0.4036 - acc: 0.844 - ETA: 1s - loss: 0.4035 - acc: 0.844 - ETA: 1s - loss: 0.4037 - acc: 0.843 - ETA: 1s - loss: 0.4031 - acc: 0.844 - ETA: 1s - loss: 0.4046 - acc: 0.843 - ETA: 1s - loss: 0.4048 - acc: 0.842 - ETA: 1s - loss: 0.4052 - acc: 0.842 - ETA: 1s - loss: 0.4052 - acc: 0.842 - ETA: 1s - loss: 0.4056 - acc: 0.842 - ETA: 1s - loss: 0.4051 - acc: 0.842 - ETA: 1s - loss: 0.4039 - acc: 0.843 - ETA: 1s - loss: 0.4041 - acc: 0.843 - ETA: 1s - loss: 0.4029 - acc: 0.844 - ETA: 0s - loss: 0.4023 - acc: 0.844 - ETA: 0s - loss: 0.4022 - acc: 0.844 - ETA: 0s - loss: 0.4013 - acc: 0.845 - ETA: 0s - loss: 0.4009 - acc: 0.845 - ETA: 0s - loss: 0.4001 - acc: 0.845 - ETA: 0s - loss: 0.3990 - acc: 0.846 - ETA: 0s - loss: 0.3988 - acc: 0.846 - ETA: 0s - loss: 0.3991 - acc: 0.846 - ETA: 0s - loss: 0.3984 - acc: 0.846 - ETA: 0s - loss: 0.3983 - acc: 0.846 - ETA: 0s - loss: 0.3995 - acc: 0.846 - ETA: 0s - loss: 0.3988 - acc: 0.846 - ETA: 0s - loss: 0.3985 - acc: 0.846 - ETA: 0s - loss: 0.3999 - acc: 0.845 - ETA: 0s - loss: 0.3992 - acc: 0.846 - ETA: 0s - loss: 0.3984 - acc: 0.846 - ETA: 0s - loss: 0.3977 - acc: 0.847 - ETA: 0s - loss: 0.3972 - acc: 0.847 - ETA: 0s - loss: 0.3977 - acc: 0.847 - 9s 2ms/step - loss: 0.3995 - acc: 0.8466 - val_loss: 0.3487 - val_acc: 0.8546\n",
      "\n",
      "Epoch 00006: val_loss did not improve from 0.33936\n",
      "Epoch 7/30\n"
     ]
    },
    {
     "name": "stdout",
     "output_type": "stream",
     "text": [
      "3600/3600 [==============================] - ETA: 9s - loss: 0.2769 - acc: 0.896 - ETA: 8s - loss: 0.3290 - acc: 0.896 - ETA: 7s - loss: 0.3406 - acc: 0.906 - ETA: 7s - loss: 0.3368 - acc: 0.908 - ETA: 7s - loss: 0.3648 - acc: 0.887 - ETA: 7s - loss: 0.3571 - acc: 0.887 - ETA: 7s - loss: 0.3625 - acc: 0.879 - ETA: 7s - loss: 0.3804 - acc: 0.866 - ETA: 8s - loss: 0.3919 - acc: 0.859 - ETA: 8s - loss: 0.4005 - acc: 0.851 - ETA: 8s - loss: 0.3906 - acc: 0.856 - ETA: 8s - loss: 0.3899 - acc: 0.854 - ETA: 8s - loss: 0.3916 - acc: 0.854 - ETA: 7s - loss: 0.3947 - acc: 0.852 - ETA: 7s - loss: 0.3855 - acc: 0.856 - ETA: 7s - loss: 0.3854 - acc: 0.856 - ETA: 7s - loss: 0.3799 - acc: 0.857 - ETA: 7s - loss: 0.3875 - acc: 0.854 - ETA: 7s - loss: 0.3891 - acc: 0.853 - ETA: 7s - loss: 0.3893 - acc: 0.853 - ETA: 7s - loss: 0.3887 - acc: 0.853 - ETA: 7s - loss: 0.3890 - acc: 0.853 - ETA: 7s - loss: 0.3904 - acc: 0.852 - ETA: 7s - loss: 0.3911 - acc: 0.851 - ETA: 7s - loss: 0.3854 - acc: 0.854 - ETA: 7s - loss: 0.3856 - acc: 0.853 - ETA: 7s - loss: 0.3830 - acc: 0.854 - ETA: 7s - loss: 0.3865 - acc: 0.852 - ETA: 7s - loss: 0.3836 - acc: 0.854 - ETA: 7s - loss: 0.3840 - acc: 0.853 - ETA: 7s - loss: 0.3840 - acc: 0.853 - ETA: 6s - loss: 0.3806 - acc: 0.856 - ETA: 6s - loss: 0.3836 - acc: 0.854 - ETA: 6s - loss: 0.3815 - acc: 0.855 - ETA: 6s - loss: 0.3834 - acc: 0.854 - ETA: 6s - loss: 0.3906 - acc: 0.851 - ETA: 6s - loss: 0.3883 - acc: 0.852 - ETA: 6s - loss: 0.3856 - acc: 0.853 - ETA: 6s - loss: 0.3850 - acc: 0.854 - ETA: 6s - loss: 0.3851 - acc: 0.854 - ETA: 6s - loss: 0.3844 - acc: 0.854 - ETA: 6s - loss: 0.3810 - acc: 0.856 - ETA: 6s - loss: 0.3790 - acc: 0.857 - ETA: 6s - loss: 0.3787 - acc: 0.857 - ETA: 6s - loss: 0.3785 - acc: 0.858 - ETA: 6s - loss: 0.3801 - acc: 0.857 - ETA: 6s - loss: 0.3802 - acc: 0.857 - ETA: 6s - loss: 0.3792 - acc: 0.858 - ETA: 6s - loss: 0.3764 - acc: 0.859 - ETA: 5s - loss: 0.3761 - acc: 0.860 - ETA: 5s - loss: 0.3784 - acc: 0.859 - ETA: 5s - loss: 0.3780 - acc: 0.859 - ETA: 5s - loss: 0.3784 - acc: 0.859 - ETA: 5s - loss: 0.3791 - acc: 0.859 - ETA: 5s - loss: 0.3775 - acc: 0.860 - ETA: 5s - loss: 0.3759 - acc: 0.861 - ETA: 5s - loss: 0.3756 - acc: 0.862 - ETA: 5s - loss: 0.3750 - acc: 0.862 - ETA: 5s - loss: 0.3754 - acc: 0.862 - ETA: 5s - loss: 0.3729 - acc: 0.863 - ETA: 5s - loss: 0.3714 - acc: 0.863 - ETA: 5s - loss: 0.3698 - acc: 0.864 - ETA: 5s - loss: 0.3677 - acc: 0.865 - ETA: 5s - loss: 0.3714 - acc: 0.863 - ETA: 5s - loss: 0.3718 - acc: 0.863 - ETA: 5s - loss: 0.3708 - acc: 0.864 - ETA: 5s - loss: 0.3688 - acc: 0.865 - ETA: 5s - loss: 0.3668 - acc: 0.866 - ETA: 5s - loss: 0.3692 - acc: 0.864 - ETA: 5s - loss: 0.3675 - acc: 0.865 - ETA: 4s - loss: 0.3680 - acc: 0.864 - ETA: 4s - loss: 0.3684 - acc: 0.865 - ETA: 4s - loss: 0.3659 - acc: 0.866 - ETA: 4s - loss: 0.3681 - acc: 0.865 - ETA: 4s - loss: 0.3672 - acc: 0.866 - ETA: 4s - loss: 0.3661 - acc: 0.866 - ETA: 4s - loss: 0.3667 - acc: 0.866 - ETA: 4s - loss: 0.3658 - acc: 0.867 - ETA: 4s - loss: 0.3666 - acc: 0.866 - ETA: 4s - loss: 0.3669 - acc: 0.866 - ETA: 4s - loss: 0.3656 - acc: 0.867 - ETA: 4s - loss: 0.3659 - acc: 0.866 - ETA: 4s - loss: 0.3644 - acc: 0.867 - ETA: 4s - loss: 0.3628 - acc: 0.868 - ETA: 4s - loss: 0.3631 - acc: 0.868 - ETA: 4s - loss: 0.3612 - acc: 0.869 - ETA: 4s - loss: 0.3608 - acc: 0.869 - ETA: 3s - loss: 0.3625 - acc: 0.868 - ETA: 3s - loss: 0.3621 - acc: 0.868 - ETA: 3s - loss: 0.3627 - acc: 0.867 - ETA: 3s - loss: 0.3637 - acc: 0.866 - ETA: 3s - loss: 0.3651 - acc: 0.865 - ETA: 3s - loss: 0.3650 - acc: 0.865 - ETA: 3s - loss: 0.3639 - acc: 0.866 - ETA: 3s - loss: 0.3636 - acc: 0.866 - ETA: 3s - loss: 0.3651 - acc: 0.865 - ETA: 3s - loss: 0.3645 - acc: 0.865 - ETA: 3s - loss: 0.3628 - acc: 0.866 - ETA: 3s - loss: 0.3639 - acc: 0.866 - ETA: 3s - loss: 0.3646 - acc: 0.865 - ETA: 3s - loss: 0.3637 - acc: 0.866 - ETA: 3s - loss: 0.3625 - acc: 0.866 - ETA: 3s - loss: 0.3634 - acc: 0.866 - ETA: 3s - loss: 0.3624 - acc: 0.866 - ETA: 3s - loss: 0.3613 - acc: 0.867 - ETA: 3s - loss: 0.3616 - acc: 0.867 - ETA: 2s - loss: 0.3612 - acc: 0.867 - ETA: 2s - loss: 0.3600 - acc: 0.867 - ETA: 2s - loss: 0.3589 - acc: 0.868 - ETA: 2s - loss: 0.3598 - acc: 0.868 - ETA: 2s - loss: 0.3589 - acc: 0.868 - ETA: 2s - loss: 0.3574 - acc: 0.869 - ETA: 2s - loss: 0.3562 - acc: 0.869 - ETA: 2s - loss: 0.3544 - acc: 0.870 - ETA: 2s - loss: 0.3536 - acc: 0.870 - ETA: 2s - loss: 0.3518 - acc: 0.871 - ETA: 2s - loss: 0.3526 - acc: 0.871 - ETA: 2s - loss: 0.3554 - acc: 0.870 - ETA: 2s - loss: 0.3562 - acc: 0.869 - ETA: 2s - loss: 0.3561 - acc: 0.869 - ETA: 2s - loss: 0.3553 - acc: 0.870 - ETA: 2s - loss: 0.3554 - acc: 0.870 - ETA: 1s - loss: 0.3555 - acc: 0.870 - ETA: 1s - loss: 0.3543 - acc: 0.870 - ETA: 1s - loss: 0.3559 - acc: 0.870 - ETA: 1s - loss: 0.3556 - acc: 0.870 - ETA: 1s - loss: 0.3553 - acc: 0.870 - ETA: 1s - loss: 0.3554 - acc: 0.870 - ETA: 1s - loss: 0.3557 - acc: 0.870 - ETA: 1s - loss: 0.3553 - acc: 0.870 - ETA: 1s - loss: 0.3551 - acc: 0.870 - ETA: 1s - loss: 0.3553 - acc: 0.870 - ETA: 1s - loss: 0.3543 - acc: 0.870 - ETA: 1s - loss: 0.3542 - acc: 0.870 - ETA: 1s - loss: 0.3537 - acc: 0.871 - ETA: 1s - loss: 0.3533 - acc: 0.871 - ETA: 1s - loss: 0.3525 - acc: 0.871 - ETA: 1s - loss: 0.3523 - acc: 0.871 - ETA: 1s - loss: 0.3524 - acc: 0.871 - ETA: 1s - loss: 0.3515 - acc: 0.871 - ETA: 0s - loss: 0.3518 - acc: 0.872 - ETA: 0s - loss: 0.3507 - acc: 0.872 - ETA: 0s - loss: 0.3508 - acc: 0.872 - ETA: 0s - loss: 0.3499 - acc: 0.873 - ETA: 0s - loss: 0.3498 - acc: 0.873 - ETA: 0s - loss: 0.3505 - acc: 0.873 - ETA: 0s - loss: 0.3506 - acc: 0.873 - ETA: 0s - loss: 0.3506 - acc: 0.872 - ETA: 0s - loss: 0.3506 - acc: 0.872 - ETA: 0s - loss: 0.3498 - acc: 0.873 - ETA: 0s - loss: 0.3507 - acc: 0.872 - ETA: 0s - loss: 0.3505 - acc: 0.872 - ETA: 0s - loss: 0.3498 - acc: 0.873 - ETA: 0s - loss: 0.3492 - acc: 0.873 - ETA: 0s - loss: 0.3481 - acc: 0.874 - ETA: 0s - loss: 0.3475 - acc: 0.874 - 9s 3ms/step - loss: 0.3472 - acc: 0.8745 - val_loss: 0.2650 - val_acc: 0.9108\n",
      "\n",
      "Epoch 00007: val_loss improved from 0.33936 to 0.26504, saving model to model-tgs-salt-1.h5\n",
      "Epoch 8/30\n",
      "3600/3600 [==============================] - ETA: 8s - loss: 0.2401 - acc: 0.901 - ETA: 9s - loss: 0.4102 - acc: 0.870 - ETA: 8s - loss: 0.4360 - acc: 0.855 - ETA: 8s - loss: 0.4178 - acc: 0.856 - ETA: 8s - loss: 0.3847 - acc: 0.873 - ETA: 8s - loss: 0.3648 - acc: 0.883 - ETA: 8s - loss: 0.3823 - acc: 0.870 - ETA: 7s - loss: 0.3961 - acc: 0.854 - ETA: 7s - loss: 0.3784 - acc: 0.863 - ETA: 7s - loss: 0.3691 - acc: 0.869 - ETA: 7s - loss: 0.3577 - acc: 0.874 - ETA: 7s - loss: 0.3538 - acc: 0.875 - ETA: 7s - loss: 0.3375 - acc: 0.882 - ETA: 7s - loss: 0.3329 - acc: 0.883 - ETA: 7s - loss: 0.3473 - acc: 0.880 - ETA: 7s - loss: 0.3359 - acc: 0.885 - ETA: 7s - loss: 0.3466 - acc: 0.879 - ETA: 7s - loss: 0.3444 - acc: 0.881 - ETA: 7s - loss: 0.3443 - acc: 0.881 - ETA: 6s - loss: 0.3442 - acc: 0.881 - ETA: 6s - loss: 0.3416 - acc: 0.881 - ETA: 6s - loss: 0.3377 - acc: 0.882 - ETA: 6s - loss: 0.3397 - acc: 0.882 - ETA: 6s - loss: 0.3338 - acc: 0.884 - ETA: 6s - loss: 0.3334 - acc: 0.884 - ETA: 6s - loss: 0.3364 - acc: 0.883 - ETA: 6s - loss: 0.3366 - acc: 0.883 - ETA: 6s - loss: 0.3379 - acc: 0.883 - ETA: 6s - loss: 0.3340 - acc: 0.884 - ETA: 6s - loss: 0.3293 - acc: 0.886 - ETA: 6s - loss: 0.3292 - acc: 0.886 - ETA: 6s - loss: 0.3273 - acc: 0.887 - ETA: 6s - loss: 0.3273 - acc: 0.887 - ETA: 6s - loss: 0.3251 - acc: 0.888 - ETA: 6s - loss: 0.3217 - acc: 0.889 - ETA: 6s - loss: 0.3188 - acc: 0.890 - ETA: 6s - loss: 0.3154 - acc: 0.892 - ETA: 6s - loss: 0.3113 - acc: 0.893 - ETA: 6s - loss: 0.3095 - acc: 0.895 - ETA: 5s - loss: 0.3071 - acc: 0.896 - ETA: 5s - loss: 0.3140 - acc: 0.894 - ETA: 5s - loss: 0.3142 - acc: 0.894 - ETA: 5s - loss: 0.3116 - acc: 0.895 - ETA: 5s - loss: 0.3145 - acc: 0.893 - ETA: 5s - loss: 0.3168 - acc: 0.892 - ETA: 5s - loss: 0.3163 - acc: 0.892 - ETA: 5s - loss: 0.3175 - acc: 0.891 - ETA: 5s - loss: 0.3164 - acc: 0.892 - ETA: 5s - loss: 0.3163 - acc: 0.892 - ETA: 5s - loss: 0.3186 - acc: 0.891 - ETA: 5s - loss: 0.3165 - acc: 0.892 - ETA: 5s - loss: 0.3138 - acc: 0.893 - ETA: 5s - loss: 0.3159 - acc: 0.892 - ETA: 5s - loss: 0.3150 - acc: 0.893 - ETA: 5s - loss: 0.3136 - acc: 0.893 - ETA: 5s - loss: 0.3133 - acc: 0.893 - ETA: 5s - loss: 0.3164 - acc: 0.892 - ETA: 5s - loss: 0.3200 - acc: 0.890 - ETA: 5s - loss: 0.3186 - acc: 0.891 - ETA: 5s - loss: 0.3182 - acc: 0.891 - ETA: 5s - loss: 0.3209 - acc: 0.890 - ETA: 5s - loss: 0.3217 - acc: 0.889 - ETA: 5s - loss: 0.3215 - acc: 0.889 - ETA: 5s - loss: 0.3196 - acc: 0.890 - ETA: 5s - loss: 0.3201 - acc: 0.890 - ETA: 4s - loss: 0.3186 - acc: 0.891 - ETA: 4s - loss: 0.3205 - acc: 0.889 - ETA: 4s - loss: 0.3230 - acc: 0.887 - ETA: 4s - loss: 0.3240 - acc: 0.886 - ETA: 4s - loss: 0.3213 - acc: 0.888 - ETA: 4s - loss: 0.3202 - acc: 0.888 - ETA: 4s - loss: 0.3194 - acc: 0.888 - ETA: 4s - loss: 0.3184 - acc: 0.889 - ETA: 4s - loss: 0.3191 - acc: 0.889 - ETA: 4s - loss: 0.3198 - acc: 0.888 - ETA: 4s - loss: 0.3184 - acc: 0.889 - ETA: 4s - loss: 0.3210 - acc: 0.887 - ETA: 4s - loss: 0.3202 - acc: 0.888 - ETA: 4s - loss: 0.3192 - acc: 0.888 - ETA: 4s - loss: 0.3206 - acc: 0.887 - ETA: 4s - loss: 0.3212 - acc: 0.886 - ETA: 4s - loss: 0.3194 - acc: 0.887 - ETA: 4s - loss: 0.3192 - acc: 0.887 - ETA: 3s - loss: 0.3184 - acc: 0.888 - ETA: 3s - loss: 0.3194 - acc: 0.887 - ETA: 3s - loss: 0.3203 - acc: 0.887 - ETA: 3s - loss: 0.3196 - acc: 0.887 - ETA: 3s - loss: 0.3186 - acc: 0.888 - ETA: 3s - loss: 0.3177 - acc: 0.888 - ETA: 3s - loss: 0.3175 - acc: 0.888 - ETA: 3s - loss: 0.3181 - acc: 0.888 - ETA: 3s - loss: 0.3187 - acc: 0.887 - ETA: 3s - loss: 0.3185 - acc: 0.887 - ETA: 3s - loss: 0.3189 - acc: 0.887 - ETA: 3s - loss: 0.3193 - acc: 0.887 - ETA: 3s - loss: 0.3185 - acc: 0.887 - ETA: 3s - loss: 0.3168 - acc: 0.888 - ETA: 3s - loss: 0.3165 - acc: 0.888 - ETA: 3s - loss: 0.3163 - acc: 0.888 - ETA: 3s - loss: 0.3162 - acc: 0.888 - ETA: 2s - loss: 0.3157 - acc: 0.888 - ETA: 2s - loss: 0.3155 - acc: 0.888 - ETA: 2s - loss: 0.3148 - acc: 0.888 - ETA: 2s - loss: 0.3139 - acc: 0.889 - ETA: 2s - loss: 0.3151 - acc: 0.888 - ETA: 2s - loss: 0.3161 - acc: 0.887 - ETA: 2s - loss: 0.3150 - acc: 0.888 - ETA: 2s - loss: 0.3143 - acc: 0.888 - ETA: 2s - loss: 0.3139 - acc: 0.888 - ETA: 2s - loss: 0.3130 - acc: 0.889 - ETA: 2s - loss: 0.3130 - acc: 0.889 - ETA: 2s - loss: 0.3136 - acc: 0.888 - ETA: 2s - loss: 0.3140 - acc: 0.888 - ETA: 2s - loss: 0.3138 - acc: 0.888 - ETA: 2s - loss: 0.3146 - acc: 0.887 - ETA: 2s - loss: 0.3139 - acc: 0.888 - ETA: 1s - loss: 0.3145 - acc: 0.887 - ETA: 1s - loss: 0.3144 - acc: 0.887 - ETA: 1s - loss: 0.3136 - acc: 0.888 - ETA: 1s - loss: 0.3130 - acc: 0.888 - ETA: 1s - loss: 0.3136 - acc: 0.888 - ETA: 1s - loss: 0.3142 - acc: 0.887 - ETA: 1s - loss: 0.3147 - acc: 0.887 - ETA: 1s - loss: 0.3153 - acc: 0.887 - ETA: 1s - loss: 0.3147 - acc: 0.887 - ETA: 1s - loss: 0.3153 - acc: 0.887 - ETA: 1s - loss: 0.3147 - acc: 0.887 - ETA: 1s - loss: 0.3144 - acc: 0.887 - ETA: 1s - loss: 0.3137 - acc: 0.887 - ETA: 1s - loss: 0.3137 - acc: 0.887 - ETA: 1s - loss: 0.3132 - acc: 0.887 - ETA: 1s - loss: 0.3140 - acc: 0.887 - ETA: 1s - loss: 0.3142 - acc: 0.887 - ETA: 0s - loss: 0.3142 - acc: 0.887 - ETA: 0s - loss: 0.3150 - acc: 0.886 - ETA: 0s - loss: 0.3142 - acc: 0.887 - ETA: 0s - loss: 0.3136 - acc: 0.887 - ETA: 0s - loss: 0.3146 - acc: 0.887 - ETA: 0s - loss: 0.3143 - acc: 0.887 - ETA: 0s - loss: 0.3145 - acc: 0.887 - ETA: 0s - loss: 0.3132 - acc: 0.887 - ETA: 0s - loss: 0.3128 - acc: 0.887 - ETA: 0s - loss: 0.3135 - acc: 0.887 - ETA: 0s - loss: 0.3128 - acc: 0.887 - ETA: 0s - loss: 0.3131 - acc: 0.887 - ETA: 0s - loss: 0.3127 - acc: 0.887 - ETA: 0s - loss: 0.3125 - acc: 0.887 - ETA: 0s - loss: 0.3118 - acc: 0.888 - ETA: 0s - loss: 0.3117 - acc: 0.888 - ETA: 0s - loss: 0.3108 - acc: 0.888 - 9s 3ms/step - loss: 0.3101 - acc: 0.8886 - val_loss: 0.2482 - val_acc: 0.9079\n",
      "\n",
      "Epoch 00008: val_loss improved from 0.26504 to 0.24818, saving model to model-tgs-salt-1.h5\n",
      "Epoch 9/30\n"
     ]
    },
    {
     "name": "stdout",
     "output_type": "stream",
     "text": [
      "3600/3600 [==============================] - ETA: 8s - loss: 0.0810 - acc: 0.979 - ETA: 9s - loss: 0.1136 - acc: 0.964 - ETA: 9s - loss: 0.2093 - acc: 0.928 - ETA: 8s - loss: 0.2062 - acc: 0.930 - ETA: 8s - loss: 0.2082 - acc: 0.934 - ETA: 8s - loss: 0.2096 - acc: 0.932 - ETA: 8s - loss: 0.2626 - acc: 0.911 - ETA: 8s - loss: 0.2666 - acc: 0.907 - ETA: 8s - loss: 0.2602 - acc: 0.910 - ETA: 8s - loss: 0.2757 - acc: 0.900 - ETA: 8s - loss: 0.2687 - acc: 0.904 - ETA: 8s - loss: 0.2707 - acc: 0.903 - ETA: 8s - loss: 0.2661 - acc: 0.906 - ETA: 8s - loss: 0.2607 - acc: 0.908 - ETA: 8s - loss: 0.2681 - acc: 0.905 - ETA: 8s - loss: 0.2723 - acc: 0.903 - ETA: 8s - loss: 0.2869 - acc: 0.896 - ETA: 8s - loss: 0.2844 - acc: 0.897 - ETA: 8s - loss: 0.2804 - acc: 0.898 - ETA: 8s - loss: 0.2792 - acc: 0.898 - ETA: 7s - loss: 0.2737 - acc: 0.900 - ETA: 7s - loss: 0.2768 - acc: 0.899 - ETA: 7s - loss: 0.2750 - acc: 0.899 - ETA: 7s - loss: 0.2710 - acc: 0.901 - ETA: 7s - loss: 0.2730 - acc: 0.899 - ETA: 7s - loss: 0.2781 - acc: 0.898 - ETA: 7s - loss: 0.2762 - acc: 0.898 - ETA: 7s - loss: 0.2768 - acc: 0.898 - ETA: 7s - loss: 0.2721 - acc: 0.900 - ETA: 7s - loss: 0.2720 - acc: 0.900 - ETA: 7s - loss: 0.2744 - acc: 0.899 - ETA: 7s - loss: 0.2759 - acc: 0.898 - ETA: 7s - loss: 0.2761 - acc: 0.898 - ETA: 7s - loss: 0.2729 - acc: 0.900 - ETA: 7s - loss: 0.2725 - acc: 0.900 - ETA: 7s - loss: 0.2721 - acc: 0.900 - ETA: 7s - loss: 0.2671 - acc: 0.902 - ETA: 6s - loss: 0.2694 - acc: 0.902 - ETA: 6s - loss: 0.2700 - acc: 0.901 - ETA: 6s - loss: 0.2681 - acc: 0.902 - ETA: 6s - loss: 0.2684 - acc: 0.901 - ETA: 6s - loss: 0.2739 - acc: 0.897 - ETA: 6s - loss: 0.2783 - acc: 0.895 - ETA: 6s - loss: 0.2793 - acc: 0.895 - ETA: 6s - loss: 0.2835 - acc: 0.891 - ETA: 6s - loss: 0.2846 - acc: 0.890 - ETA: 6s - loss: 0.2833 - acc: 0.891 - ETA: 6s - loss: 0.2835 - acc: 0.891 - ETA: 6s - loss: 0.2891 - acc: 0.889 - ETA: 6s - loss: 0.2883 - acc: 0.889 - ETA: 5s - loss: 0.2892 - acc: 0.889 - ETA: 5s - loss: 0.2881 - acc: 0.889 - ETA: 5s - loss: 0.2880 - acc: 0.890 - ETA: 5s - loss: 0.2878 - acc: 0.890 - ETA: 5s - loss: 0.2900 - acc: 0.890 - ETA: 5s - loss: 0.2902 - acc: 0.891 - ETA: 5s - loss: 0.2911 - acc: 0.890 - ETA: 5s - loss: 0.2953 - acc: 0.888 - ETA: 5s - loss: 0.2958 - acc: 0.888 - ETA: 5s - loss: 0.2981 - acc: 0.887 - ETA: 5s - loss: 0.2991 - acc: 0.886 - ETA: 5s - loss: 0.3012 - acc: 0.886 - ETA: 5s - loss: 0.3003 - acc: 0.886 - ETA: 5s - loss: 0.2977 - acc: 0.888 - ETA: 5s - loss: 0.2983 - acc: 0.887 - ETA: 4s - loss: 0.2976 - acc: 0.888 - ETA: 4s - loss: 0.2976 - acc: 0.888 - ETA: 4s - loss: 0.2987 - acc: 0.888 - ETA: 4s - loss: 0.2970 - acc: 0.888 - ETA: 4s - loss: 0.2991 - acc: 0.888 - ETA: 4s - loss: 0.2984 - acc: 0.888 - ETA: 4s - loss: 0.2980 - acc: 0.889 - ETA: 4s - loss: 0.2991 - acc: 0.888 - ETA: 4s - loss: 0.3002 - acc: 0.888 - ETA: 4s - loss: 0.2988 - acc: 0.888 - ETA: 4s - loss: 0.2996 - acc: 0.888 - ETA: 4s - loss: 0.3008 - acc: 0.888 - ETA: 4s - loss: 0.3020 - acc: 0.887 - ETA: 4s - loss: 0.3044 - acc: 0.885 - ETA: 4s - loss: 0.3066 - acc: 0.885 - ETA: 4s - loss: 0.3086 - acc: 0.883 - ETA: 4s - loss: 0.3097 - acc: 0.883 - ETA: 3s - loss: 0.3105 - acc: 0.882 - ETA: 3s - loss: 0.3123 - acc: 0.881 - ETA: 3s - loss: 0.3133 - acc: 0.881 - ETA: 3s - loss: 0.3151 - acc: 0.880 - ETA: 3s - loss: 0.3159 - acc: 0.879 - ETA: 3s - loss: 0.3154 - acc: 0.879 - ETA: 3s - loss: 0.3146 - acc: 0.880 - ETA: 3s - loss: 0.3133 - acc: 0.880 - ETA: 3s - loss: 0.3128 - acc: 0.881 - ETA: 3s - loss: 0.3123 - acc: 0.881 - ETA: 3s - loss: 0.3128 - acc: 0.880 - ETA: 3s - loss: 0.3128 - acc: 0.880 - ETA: 3s - loss: 0.3126 - acc: 0.880 - ETA: 3s - loss: 0.3124 - acc: 0.880 - ETA: 3s - loss: 0.3138 - acc: 0.880 - ETA: 3s - loss: 0.3134 - acc: 0.880 - ETA: 3s - loss: 0.3132 - acc: 0.880 - ETA: 3s - loss: 0.3136 - acc: 0.880 - ETA: 2s - loss: 0.3131 - acc: 0.880 - ETA: 2s - loss: 0.3119 - acc: 0.881 - ETA: 2s - loss: 0.3116 - acc: 0.881 - ETA: 2s - loss: 0.3127 - acc: 0.881 - ETA: 2s - loss: 0.3117 - acc: 0.881 - ETA: 2s - loss: 0.3123 - acc: 0.881 - ETA: 2s - loss: 0.3119 - acc: 0.882 - ETA: 2s - loss: 0.3114 - acc: 0.882 - ETA: 2s - loss: 0.3100 - acc: 0.883 - ETA: 2s - loss: 0.3114 - acc: 0.882 - ETA: 2s - loss: 0.3121 - acc: 0.882 - ETA: 2s - loss: 0.3120 - acc: 0.882 - ETA: 2s - loss: 0.3110 - acc: 0.883 - ETA: 2s - loss: 0.3106 - acc: 0.883 - ETA: 2s - loss: 0.3093 - acc: 0.884 - ETA: 2s - loss: 0.3090 - acc: 0.884 - ETA: 2s - loss: 0.3089 - acc: 0.884 - ETA: 2s - loss: 0.3096 - acc: 0.884 - ETA: 1s - loss: 0.3091 - acc: 0.884 - ETA: 1s - loss: 0.3084 - acc: 0.884 - ETA: 1s - loss: 0.3074 - acc: 0.885 - ETA: 1s - loss: 0.3082 - acc: 0.884 - ETA: 1s - loss: 0.3075 - acc: 0.884 - ETA: 1s - loss: 0.3070 - acc: 0.885 - ETA: 1s - loss: 0.3059 - acc: 0.885 - ETA: 1s - loss: 0.3062 - acc: 0.885 - ETA: 1s - loss: 0.3089 - acc: 0.884 - ETA: 1s - loss: 0.3086 - acc: 0.884 - ETA: 1s - loss: 0.3083 - acc: 0.884 - ETA: 1s - loss: 0.3075 - acc: 0.884 - ETA: 1s - loss: 0.3083 - acc: 0.884 - ETA: 1s - loss: 0.3079 - acc: 0.884 - ETA: 1s - loss: 0.3080 - acc: 0.884 - ETA: 1s - loss: 0.3093 - acc: 0.884 - ETA: 1s - loss: 0.3102 - acc: 0.883 - ETA: 1s - loss: 0.3100 - acc: 0.884 - ETA: 0s - loss: 0.3098 - acc: 0.884 - ETA: 0s - loss: 0.3102 - acc: 0.884 - ETA: 0s - loss: 0.3108 - acc: 0.883 - ETA: 0s - loss: 0.3104 - acc: 0.884 - ETA: 0s - loss: 0.3106 - acc: 0.884 - ETA: 0s - loss: 0.3102 - acc: 0.884 - ETA: 0s - loss: 0.3121 - acc: 0.883 - ETA: 0s - loss: 0.3116 - acc: 0.883 - ETA: 0s - loss: 0.3119 - acc: 0.883 - ETA: 0s - loss: 0.3115 - acc: 0.883 - ETA: 0s - loss: 0.3109 - acc: 0.883 - ETA: 0s - loss: 0.3108 - acc: 0.883 - ETA: 0s - loss: 0.3107 - acc: 0.884 - ETA: 0s - loss: 0.3111 - acc: 0.883 - ETA: 0s - loss: 0.3120 - acc: 0.883 - ETA: 0s - loss: 0.3121 - acc: 0.883 - 9s 3ms/step - loss: 0.3120 - acc: 0.8830 - val_loss: 0.2608 - val_acc: 0.9066\n",
      "\n",
      "Epoch 00009: val_loss did not improve from 0.24818\n",
      "Epoch 10/30\n",
      "3600/3600 [==============================] - ETA: 9s - loss: 0.2607 - acc: 0.903 - ETA: 10s - loss: 0.1711 - acc: 0.96 - ETA: 9s - loss: 0.1874 - acc: 0.9481 - ETA: 9s - loss: 0.2061 - acc: 0.941 - ETA: 9s - loss: 0.2494 - acc: 0.924 - ETA: 9s - loss: 0.2661 - acc: 0.912 - ETA: 9s - loss: 0.2740 - acc: 0.904 - ETA: 9s - loss: 0.2648 - acc: 0.910 - ETA: 9s - loss: 0.2645 - acc: 0.910 - ETA: 9s - loss: 0.2554 - acc: 0.913 - ETA: 8s - loss: 0.2537 - acc: 0.912 - ETA: 8s - loss: 0.2507 - acc: 0.914 - ETA: 8s - loss: 0.2480 - acc: 0.914 - ETA: 8s - loss: 0.2490 - acc: 0.911 - ETA: 8s - loss: 0.2497 - acc: 0.911 - ETA: 8s - loss: 0.2431 - acc: 0.913 - ETA: 8s - loss: 0.2450 - acc: 0.912 - ETA: 8s - loss: 0.2509 - acc: 0.909 - ETA: 8s - loss: 0.2479 - acc: 0.910 - ETA: 8s - loss: 0.2509 - acc: 0.908 - ETA: 8s - loss: 0.2513 - acc: 0.909 - ETA: 8s - loss: 0.2561 - acc: 0.907 - ETA: 7s - loss: 0.2562 - acc: 0.906 - ETA: 7s - loss: 0.2545 - acc: 0.906 - ETA: 7s - loss: 0.2528 - acc: 0.907 - ETA: 7s - loss: 0.2557 - acc: 0.905 - ETA: 7s - loss: 0.2526 - acc: 0.906 - ETA: 7s - loss: 0.2497 - acc: 0.907 - ETA: 7s - loss: 0.2503 - acc: 0.907 - ETA: 7s - loss: 0.2552 - acc: 0.905 - ETA: 7s - loss: 0.2534 - acc: 0.906 - ETA: 7s - loss: 0.2500 - acc: 0.907 - ETA: 7s - loss: 0.2502 - acc: 0.906 - ETA: 7s - loss: 0.2498 - acc: 0.905 - ETA: 7s - loss: 0.2522 - acc: 0.904 - ETA: 7s - loss: 0.2517 - acc: 0.904 - ETA: 6s - loss: 0.2545 - acc: 0.902 - ETA: 6s - loss: 0.2574 - acc: 0.900 - ETA: 6s - loss: 0.2585 - acc: 0.899 - ETA: 6s - loss: 0.2601 - acc: 0.898 - ETA: 6s - loss: 0.2628 - acc: 0.897 - ETA: 6s - loss: 0.2641 - acc: 0.896 - ETA: 6s - loss: 0.2643 - acc: 0.896 - ETA: 6s - loss: 0.2634 - acc: 0.896 - ETA: 6s - loss: 0.2639 - acc: 0.896 - ETA: 6s - loss: 0.2622 - acc: 0.897 - ETA: 6s - loss: 0.2601 - acc: 0.898 - ETA: 6s - loss: 0.2599 - acc: 0.898 - ETA: 6s - loss: 0.2589 - acc: 0.898 - ETA: 6s - loss: 0.2588 - acc: 0.898 - ETA: 6s - loss: 0.2601 - acc: 0.897 - ETA: 5s - loss: 0.2600 - acc: 0.897 - ETA: 5s - loss: 0.2607 - acc: 0.897 - ETA: 5s - loss: 0.2668 - acc: 0.894 - ETA: 5s - loss: 0.2694 - acc: 0.892 - ETA: 5s - loss: 0.2712 - acc: 0.889 - ETA: 5s - loss: 0.2737 - acc: 0.888 - ETA: 5s - loss: 0.2772 - acc: 0.886 - ETA: 5s - loss: 0.2786 - acc: 0.886 - ETA: 5s - loss: 0.2764 - acc: 0.887 - ETA: 5s - loss: 0.2761 - acc: 0.887 - ETA: 5s - loss: 0.2756 - acc: 0.887 - ETA: 5s - loss: 0.2740 - acc: 0.888 - ETA: 5s - loss: 0.2727 - acc: 0.889 - ETA: 5s - loss: 0.2709 - acc: 0.890 - ETA: 5s - loss: 0.2732 - acc: 0.889 - ETA: 5s - loss: 0.2732 - acc: 0.889 - ETA: 4s - loss: 0.2731 - acc: 0.890 - ETA: 4s - loss: 0.2764 - acc: 0.888 - ETA: 4s - loss: 0.2768 - acc: 0.888 - ETA: 4s - loss: 0.2758 - acc: 0.889 - ETA: 4s - loss: 0.2765 - acc: 0.889 - ETA: 4s - loss: 0.2754 - acc: 0.890 - ETA: 4s - loss: 0.2733 - acc: 0.891 - ETA: 4s - loss: 0.2719 - acc: 0.891 - ETA: 4s - loss: 0.2704 - acc: 0.892 - ETA: 4s - loss: 0.2693 - acc: 0.893 - ETA: 4s - loss: 0.2683 - acc: 0.893 - ETA: 4s - loss: 0.2705 - acc: 0.893 - ETA: 4s - loss: 0.2702 - acc: 0.893 - ETA: 4s - loss: 0.2699 - acc: 0.894 - ETA: 4s - loss: 0.2710 - acc: 0.893 - ETA: 4s - loss: 0.2710 - acc: 0.894 - ETA: 4s - loss: 0.2708 - acc: 0.894 - ETA: 4s - loss: 0.2699 - acc: 0.894 - ETA: 3s - loss: 0.2683 - acc: 0.895 - ETA: 3s - loss: 0.2683 - acc: 0.895 - ETA: 3s - loss: 0.2690 - acc: 0.895 - ETA: 3s - loss: 0.2680 - acc: 0.895 - ETA: 3s - loss: 0.2679 - acc: 0.896 - ETA: 3s - loss: 0.2688 - acc: 0.895 - ETA: 3s - loss: 0.2679 - acc: 0.896 - ETA: 3s - loss: 0.2678 - acc: 0.896 - ETA: 3s - loss: 0.2675 - acc: 0.896 - ETA: 3s - loss: 0.2689 - acc: 0.896 - ETA: 3s - loss: 0.2685 - acc: 0.896 - ETA: 3s - loss: 0.2679 - acc: 0.896 - ETA: 3s - loss: 0.2686 - acc: 0.896 - ETA: 3s - loss: 0.2679 - acc: 0.896 - ETA: 3s - loss: 0.2697 - acc: 0.895 - ETA: 3s - loss: 0.2699 - acc: 0.896 - ETA: 3s - loss: 0.2700 - acc: 0.896 - ETA: 2s - loss: 0.2696 - acc: 0.896 - ETA: 2s - loss: 0.2687 - acc: 0.897 - ETA: 2s - loss: 0.2684 - acc: 0.896 - ETA: 2s - loss: 0.2670 - acc: 0.897 - ETA: 2s - loss: 0.2660 - acc: 0.897 - ETA: 2s - loss: 0.2660 - acc: 0.897 - ETA: 2s - loss: 0.2646 - acc: 0.898 - ETA: 2s - loss: 0.2652 - acc: 0.898 - ETA: 2s - loss: 0.2648 - acc: 0.898 - ETA: 2s - loss: 0.2640 - acc: 0.899 - ETA: 2s - loss: 0.2645 - acc: 0.899 - ETA: 2s - loss: 0.2642 - acc: 0.899 - ETA: 2s - loss: 0.2631 - acc: 0.899 - ETA: 2s - loss: 0.2624 - acc: 0.900 - ETA: 2s - loss: 0.2624 - acc: 0.900 - ETA: 2s - loss: 0.2627 - acc: 0.900 - ETA: 1s - loss: 0.2629 - acc: 0.900 - ETA: 1s - loss: 0.2648 - acc: 0.899 - ETA: 1s - loss: 0.2648 - acc: 0.898 - ETA: 1s - loss: 0.2641 - acc: 0.899 - ETA: 1s - loss: 0.2645 - acc: 0.899 - ETA: 1s - loss: 0.2650 - acc: 0.898 - ETA: 1s - loss: 0.2646 - acc: 0.898 - ETA: 1s - loss: 0.2650 - acc: 0.898 - ETA: 1s - loss: 0.2639 - acc: 0.899 - ETA: 1s - loss: 0.2637 - acc: 0.899 - ETA: 1s - loss: 0.2641 - acc: 0.899 - ETA: 1s - loss: 0.2635 - acc: 0.899 - ETA: 1s - loss: 0.2640 - acc: 0.899 - ETA: 1s - loss: 0.2635 - acc: 0.899 - ETA: 1s - loss: 0.2629 - acc: 0.899 - ETA: 1s - loss: 0.2627 - acc: 0.900 - ETA: 0s - loss: 0.2627 - acc: 0.900 - ETA: 0s - loss: 0.2621 - acc: 0.900 - ETA: 0s - loss: 0.2618 - acc: 0.900 - ETA: 0s - loss: 0.2626 - acc: 0.900 - ETA: 0s - loss: 0.2636 - acc: 0.900 - ETA: 0s - loss: 0.2633 - acc: 0.900 - ETA: 0s - loss: 0.2629 - acc: 0.900 - ETA: 0s - loss: 0.2624 - acc: 0.900 - ETA: 0s - loss: 0.2626 - acc: 0.900 - ETA: 0s - loss: 0.2627 - acc: 0.900 - ETA: 0s - loss: 0.2619 - acc: 0.901 - ETA: 0s - loss: 0.2615 - acc: 0.901 - ETA: 0s - loss: 0.2624 - acc: 0.900 - ETA: 0s - loss: 0.2622 - acc: 0.900 - ETA: 0s - loss: 0.2617 - acc: 0.901 - ETA: 0s - loss: 0.2618 - acc: 0.900 - 9s 3ms/step - loss: 0.2613 - acc: 0.9012 - val_loss: 0.1990 - val_acc: 0.9273\n",
      "\n",
      "Epoch 00010: val_loss improved from 0.24818 to 0.19900, saving model to model-tgs-salt-1.h5\n",
      "Epoch 11/30\n"
     ]
    },
    {
     "name": "stdout",
     "output_type": "stream",
     "text": [
      "3600/3600 [==============================] - ETA: 7s - loss: 0.1778 - acc: 0.938 - ETA: 7s - loss: 0.2312 - acc: 0.921 - ETA: 7s - loss: 0.2575 - acc: 0.904 - ETA: 7s - loss: 0.2739 - acc: 0.896 - ETA: 7s - loss: 0.2715 - acc: 0.896 - ETA: 7s - loss: 0.2871 - acc: 0.885 - ETA: 7s - loss: 0.2728 - acc: 0.893 - ETA: 7s - loss: 0.2602 - acc: 0.899 - ETA: 7s - loss: 0.2445 - acc: 0.906 - ETA: 7s - loss: 0.2445 - acc: 0.906 - ETA: 7s - loss: 0.2345 - acc: 0.910 - ETA: 7s - loss: 0.2341 - acc: 0.909 - ETA: 7s - loss: 0.2369 - acc: 0.909 - ETA: 7s - loss: 0.2436 - acc: 0.907 - ETA: 7s - loss: 0.2369 - acc: 0.910 - ETA: 7s - loss: 0.2382 - acc: 0.910 - ETA: 7s - loss: 0.2298 - acc: 0.914 - ETA: 7s - loss: 0.2238 - acc: 0.917 - ETA: 7s - loss: 0.2442 - acc: 0.911 - ETA: 7s - loss: 0.2517 - acc: 0.907 - ETA: 7s - loss: 0.2538 - acc: 0.907 - ETA: 6s - loss: 0.2518 - acc: 0.909 - ETA: 6s - loss: 0.2530 - acc: 0.908 - ETA: 6s - loss: 0.2560 - acc: 0.907 - ETA: 6s - loss: 0.2508 - acc: 0.910 - ETA: 6s - loss: 0.2467 - acc: 0.912 - ETA: 6s - loss: 0.2479 - acc: 0.911 - ETA: 6s - loss: 0.2439 - acc: 0.913 - ETA: 6s - loss: 0.2385 - acc: 0.915 - ETA: 6s - loss: 0.2461 - acc: 0.912 - ETA: 6s - loss: 0.2416 - acc: 0.914 - ETA: 6s - loss: 0.2394 - acc: 0.915 - ETA: 6s - loss: 0.2361 - acc: 0.916 - ETA: 6s - loss: 0.2417 - acc: 0.913 - ETA: 6s - loss: 0.2411 - acc: 0.913 - ETA: 6s - loss: 0.2424 - acc: 0.913 - ETA: 6s - loss: 0.2429 - acc: 0.913 - ETA: 6s - loss: 0.2445 - acc: 0.912 - ETA: 6s - loss: 0.2454 - acc: 0.911 - ETA: 5s - loss: 0.2490 - acc: 0.909 - ETA: 5s - loss: 0.2505 - acc: 0.908 - ETA: 5s - loss: 0.2495 - acc: 0.908 - ETA: 5s - loss: 0.2534 - acc: 0.907 - ETA: 5s - loss: 0.2517 - acc: 0.907 - ETA: 5s - loss: 0.2532 - acc: 0.906 - ETA: 5s - loss: 0.2512 - acc: 0.907 - ETA: 5s - loss: 0.2508 - acc: 0.907 - ETA: 5s - loss: 0.2487 - acc: 0.908 - ETA: 5s - loss: 0.2478 - acc: 0.908 - ETA: 5s - loss: 0.2492 - acc: 0.907 - ETA: 5s - loss: 0.2493 - acc: 0.907 - ETA: 5s - loss: 0.2484 - acc: 0.907 - ETA: 5s - loss: 0.2486 - acc: 0.907 - ETA: 5s - loss: 0.2477 - acc: 0.907 - ETA: 5s - loss: 0.2461 - acc: 0.908 - ETA: 5s - loss: 0.2469 - acc: 0.907 - ETA: 5s - loss: 0.2458 - acc: 0.908 - ETA: 5s - loss: 0.2447 - acc: 0.909 - ETA: 5s - loss: 0.2442 - acc: 0.909 - ETA: 5s - loss: 0.2447 - acc: 0.908 - ETA: 4s - loss: 0.2448 - acc: 0.908 - ETA: 4s - loss: 0.2469 - acc: 0.907 - ETA: 4s - loss: 0.2452 - acc: 0.908 - ETA: 4s - loss: 0.2455 - acc: 0.908 - ETA: 4s - loss: 0.2467 - acc: 0.907 - ETA: 4s - loss: 0.2467 - acc: 0.907 - ETA: 4s - loss: 0.2467 - acc: 0.907 - ETA: 4s - loss: 0.2459 - acc: 0.908 - ETA: 4s - loss: 0.2463 - acc: 0.907 - ETA: 4s - loss: 0.2458 - acc: 0.907 - ETA: 4s - loss: 0.2480 - acc: 0.907 - ETA: 4s - loss: 0.2463 - acc: 0.908 - ETA: 4s - loss: 0.2460 - acc: 0.908 - ETA: 4s - loss: 0.2460 - acc: 0.908 - ETA: 4s - loss: 0.2455 - acc: 0.908 - ETA: 4s - loss: 0.2449 - acc: 0.908 - ETA: 4s - loss: 0.2441 - acc: 0.908 - ETA: 4s - loss: 0.2451 - acc: 0.908 - ETA: 4s - loss: 0.2472 - acc: 0.906 - ETA: 4s - loss: 0.2455 - acc: 0.907 - ETA: 3s - loss: 0.2448 - acc: 0.907 - ETA: 3s - loss: 0.2453 - acc: 0.907 - ETA: 3s - loss: 0.2445 - acc: 0.908 - ETA: 3s - loss: 0.2435 - acc: 0.908 - ETA: 3s - loss: 0.2437 - acc: 0.908 - ETA: 3s - loss: 0.2438 - acc: 0.908 - ETA: 3s - loss: 0.2450 - acc: 0.908 - ETA: 3s - loss: 0.2441 - acc: 0.908 - ETA: 3s - loss: 0.2444 - acc: 0.908 - ETA: 3s - loss: 0.2433 - acc: 0.908 - ETA: 3s - loss: 0.2432 - acc: 0.908 - ETA: 3s - loss: 0.2436 - acc: 0.909 - ETA: 3s - loss: 0.2437 - acc: 0.908 - ETA: 3s - loss: 0.2432 - acc: 0.909 - ETA: 3s - loss: 0.2420 - acc: 0.909 - ETA: 3s - loss: 0.2403 - acc: 0.910 - ETA: 3s - loss: 0.2428 - acc: 0.909 - ETA: 3s - loss: 0.2428 - acc: 0.909 - ETA: 3s - loss: 0.2429 - acc: 0.909 - ETA: 2s - loss: 0.2428 - acc: 0.909 - ETA: 2s - loss: 0.2431 - acc: 0.909 - ETA: 2s - loss: 0.2425 - acc: 0.910 - ETA: 2s - loss: 0.2431 - acc: 0.909 - ETA: 2s - loss: 0.2429 - acc: 0.909 - ETA: 2s - loss: 0.2429 - acc: 0.909 - ETA: 2s - loss: 0.2425 - acc: 0.909 - ETA: 2s - loss: 0.2416 - acc: 0.910 - ETA: 2s - loss: 0.2413 - acc: 0.910 - ETA: 2s - loss: 0.2423 - acc: 0.910 - ETA: 2s - loss: 0.2425 - acc: 0.910 - ETA: 2s - loss: 0.2420 - acc: 0.910 - ETA: 2s - loss: 0.2417 - acc: 0.910 - ETA: 2s - loss: 0.2419 - acc: 0.910 - ETA: 2s - loss: 0.2417 - acc: 0.910 - ETA: 2s - loss: 0.2417 - acc: 0.910 - ETA: 2s - loss: 0.2441 - acc: 0.909 - ETA: 2s - loss: 0.2441 - acc: 0.909 - ETA: 2s - loss: 0.2439 - acc: 0.909 - ETA: 2s - loss: 0.2442 - acc: 0.909 - ETA: 2s - loss: 0.2461 - acc: 0.908 - ETA: 2s - loss: 0.2459 - acc: 0.908 - ETA: 1s - loss: 0.2456 - acc: 0.908 - ETA: 1s - loss: 0.2454 - acc: 0.908 - ETA: 1s - loss: 0.2451 - acc: 0.908 - ETA: 1s - loss: 0.2445 - acc: 0.909 - ETA: 1s - loss: 0.2443 - acc: 0.909 - ETA: 1s - loss: 0.2438 - acc: 0.909 - ETA: 1s - loss: 0.2426 - acc: 0.910 - ETA: 1s - loss: 0.2423 - acc: 0.910 - ETA: 1s - loss: 0.2421 - acc: 0.910 - ETA: 1s - loss: 0.2415 - acc: 0.910 - ETA: 1s - loss: 0.2418 - acc: 0.910 - ETA: 1s - loss: 0.2421 - acc: 0.910 - ETA: 1s - loss: 0.2418 - acc: 0.910 - ETA: 1s - loss: 0.2419 - acc: 0.910 - ETA: 1s - loss: 0.2416 - acc: 0.910 - ETA: 1s - loss: 0.2409 - acc: 0.910 - ETA: 1s - loss: 0.2431 - acc: 0.909 - ETA: 0s - loss: 0.2423 - acc: 0.910 - ETA: 0s - loss: 0.2417 - acc: 0.910 - ETA: 0s - loss: 0.2413 - acc: 0.910 - ETA: 0s - loss: 0.2416 - acc: 0.910 - ETA: 0s - loss: 0.2411 - acc: 0.910 - ETA: 0s - loss: 0.2409 - acc: 0.910 - ETA: 0s - loss: 0.2400 - acc: 0.910 - ETA: 0s - loss: 0.2404 - acc: 0.910 - ETA: 0s - loss: 0.2401 - acc: 0.910 - ETA: 0s - loss: 0.2397 - acc: 0.910 - ETA: 0s - loss: 0.2390 - acc: 0.911 - ETA: 0s - loss: 0.2391 - acc: 0.911 - ETA: 0s - loss: 0.2393 - acc: 0.910 - ETA: 0s - loss: 0.2396 - acc: 0.911 - ETA: 0s - loss: 0.2401 - acc: 0.910 - ETA: 0s - loss: 0.2401 - acc: 0.910 - 9s 3ms/step - loss: 0.2412 - acc: 0.9101 - val_loss: 0.2026 - val_acc: 0.9276\n",
      "\n",
      "Epoch 00011: val_loss did not improve from 0.19900\n",
      "Epoch 12/30\n",
      "3600/3600 [==============================] - ETA: 7s - loss: 0.3866 - acc: 0.841 - ETA: 8s - loss: 0.3454 - acc: 0.856 - ETA: 8s - loss: 0.2847 - acc: 0.890 - ETA: 8s - loss: 0.2459 - acc: 0.909 - ETA: 8s - loss: 0.2587 - acc: 0.900 - ETA: 8s - loss: 0.2416 - acc: 0.910 - ETA: 8s - loss: 0.2534 - acc: 0.903 - ETA: 8s - loss: 0.2407 - acc: 0.909 - ETA: 8s - loss: 0.2591 - acc: 0.900 - ETA: 8s - loss: 0.2683 - acc: 0.894 - ETA: 8s - loss: 0.2570 - acc: 0.900 - ETA: 8s - loss: 0.2571 - acc: 0.901 - ETA: 8s - loss: 0.2567 - acc: 0.899 - ETA: 8s - loss: 0.2550 - acc: 0.900 - ETA: 8s - loss: 0.2505 - acc: 0.902 - ETA: 8s - loss: 0.2465 - acc: 0.902 - ETA: 7s - loss: 0.2397 - acc: 0.905 - ETA: 7s - loss: 0.2349 - acc: 0.908 - ETA: 7s - loss: 0.2317 - acc: 0.909 - ETA: 7s - loss: 0.2618 - acc: 0.905 - ETA: 7s - loss: 0.2554 - acc: 0.909 - ETA: 7s - loss: 0.2514 - acc: 0.911 - ETA: 7s - loss: 0.2523 - acc: 0.912 - ETA: 7s - loss: 0.2499 - acc: 0.914 - ETA: 7s - loss: 0.2510 - acc: 0.914 - ETA: 7s - loss: 0.2498 - acc: 0.915 - ETA: 7s - loss: 0.2459 - acc: 0.917 - ETA: 7s - loss: 0.2430 - acc: 0.917 - ETA: 7s - loss: 0.2435 - acc: 0.917 - ETA: 7s - loss: 0.2387 - acc: 0.919 - ETA: 7s - loss: 0.2394 - acc: 0.918 - ETA: 6s - loss: 0.2393 - acc: 0.918 - ETA: 6s - loss: 0.2428 - acc: 0.916 - ETA: 6s - loss: 0.2443 - acc: 0.916 - ETA: 6s - loss: 0.2473 - acc: 0.914 - ETA: 6s - loss: 0.2475 - acc: 0.913 - ETA: 6s - loss: 0.2449 - acc: 0.914 - ETA: 6s - loss: 0.2435 - acc: 0.915 - ETA: 6s - loss: 0.2428 - acc: 0.915 - ETA: 6s - loss: 0.2425 - acc: 0.915 - ETA: 6s - loss: 0.2421 - acc: 0.915 - ETA: 6s - loss: 0.2401 - acc: 0.916 - ETA: 6s - loss: 0.2412 - acc: 0.915 - ETA: 6s - loss: 0.2445 - acc: 0.914 - ETA: 6s - loss: 0.2449 - acc: 0.914 - ETA: 5s - loss: 0.2442 - acc: 0.915 - ETA: 5s - loss: 0.2414 - acc: 0.915 - ETA: 5s - loss: 0.2394 - acc: 0.917 - ETA: 5s - loss: 0.2400 - acc: 0.916 - ETA: 5s - loss: 0.2404 - acc: 0.916 - ETA: 5s - loss: 0.2391 - acc: 0.916 - ETA: 5s - loss: 0.2364 - acc: 0.917 - ETA: 5s - loss: 0.2377 - acc: 0.916 - ETA: 5s - loss: 0.2360 - acc: 0.917 - ETA: 5s - loss: 0.2340 - acc: 0.917 - ETA: 5s - loss: 0.2361 - acc: 0.917 - ETA: 5s - loss: 0.2382 - acc: 0.916 - ETA: 5s - loss: 0.2387 - acc: 0.916 - ETA: 5s - loss: 0.2414 - acc: 0.914 - ETA: 5s - loss: 0.2426 - acc: 0.914 - ETA: 5s - loss: 0.2438 - acc: 0.913 - ETA: 5s - loss: 0.2445 - acc: 0.913 - ETA: 4s - loss: 0.2439 - acc: 0.913 - ETA: 4s - loss: 0.2421 - acc: 0.914 - ETA: 4s - loss: 0.2406 - acc: 0.915 - ETA: 4s - loss: 0.2409 - acc: 0.914 - ETA: 4s - loss: 0.2396 - acc: 0.915 - ETA: 4s - loss: 0.2370 - acc: 0.916 - ETA: 4s - loss: 0.2348 - acc: 0.917 - ETA: 4s - loss: 0.2334 - acc: 0.917 - ETA: 4s - loss: 0.2351 - acc: 0.917 - ETA: 4s - loss: 0.2356 - acc: 0.917 - ETA: 4s - loss: 0.2383 - acc: 0.916 - ETA: 4s - loss: 0.2391 - acc: 0.915 - ETA: 4s - loss: 0.2398 - acc: 0.914 - ETA: 4s - loss: 0.2393 - acc: 0.915 - ETA: 4s - loss: 0.2393 - acc: 0.915 - ETA: 4s - loss: 0.2401 - acc: 0.914 - ETA: 3s - loss: 0.2394 - acc: 0.915 - ETA: 3s - loss: 0.2383 - acc: 0.915 - ETA: 3s - loss: 0.2376 - acc: 0.915 - ETA: 3s - loss: 0.2375 - acc: 0.915 - ETA: 3s - loss: 0.2359 - acc: 0.916 - ETA: 3s - loss: 0.2348 - acc: 0.916 - ETA: 3s - loss: 0.2345 - acc: 0.917 - ETA: 3s - loss: 0.2338 - acc: 0.917 - ETA: 3s - loss: 0.2333 - acc: 0.917 - ETA: 3s - loss: 0.2340 - acc: 0.917 - ETA: 3s - loss: 0.2351 - acc: 0.916 - ETA: 3s - loss: 0.2357 - acc: 0.916 - ETA: 3s - loss: 0.2356 - acc: 0.916 - ETA: 3s - loss: 0.2356 - acc: 0.916 - ETA: 3s - loss: 0.2361 - acc: 0.915 - ETA: 2s - loss: 0.2360 - acc: 0.915 - ETA: 2s - loss: 0.2363 - acc: 0.915 - ETA: 2s - loss: 0.2355 - acc: 0.915 - ETA: 2s - loss: 0.2347 - acc: 0.916 - ETA: 2s - loss: 0.2340 - acc: 0.916 - ETA: 2s - loss: 0.2352 - acc: 0.915 - ETA: 2s - loss: 0.2343 - acc: 0.916 - ETA: 2s - loss: 0.2343 - acc: 0.916 - ETA: 2s - loss: 0.2345 - acc: 0.916 - ETA: 2s - loss: 0.2340 - acc: 0.916 - ETA: 2s - loss: 0.2339 - acc: 0.916 - ETA: 2s - loss: 0.2355 - acc: 0.915 - ETA: 2s - loss: 0.2363 - acc: 0.915 - ETA: 2s - loss: 0.2351 - acc: 0.915 - ETA: 2s - loss: 0.2343 - acc: 0.916 - ETA: 2s - loss: 0.2361 - acc: 0.915 - ETA: 2s - loss: 0.2365 - acc: 0.914 - ETA: 2s - loss: 0.2361 - acc: 0.915 - ETA: 1s - loss: 0.2371 - acc: 0.914 - ETA: 1s - loss: 0.2367 - acc: 0.914 - ETA: 1s - loss: 0.2389 - acc: 0.913 - ETA: 1s - loss: 0.2393 - acc: 0.913 - ETA: 1s - loss: 0.2397 - acc: 0.912 - ETA: 1s - loss: 0.2390 - acc: 0.913 - ETA: 1s - loss: 0.2383 - acc: 0.913 - ETA: 1s - loss: 0.2378 - acc: 0.913 - ETA: 1s - loss: 0.2387 - acc: 0.913 - ETA: 1s - loss: 0.2391 - acc: 0.912 - ETA: 1s - loss: 0.2404 - acc: 0.911 - ETA: 1s - loss: 0.2401 - acc: 0.912 - ETA: 1s - loss: 0.2390 - acc: 0.912 - ETA: 1s - loss: 0.2385 - acc: 0.912 - ETA: 1s - loss: 0.2385 - acc: 0.912 - ETA: 1s - loss: 0.2382 - acc: 0.912 - ETA: 0s - loss: 0.2395 - acc: 0.912 - ETA: 0s - loss: 0.2387 - acc: 0.912 - ETA: 0s - loss: 0.2392 - acc: 0.912 - ETA: 0s - loss: 0.2390 - acc: 0.912 - ETA: 0s - loss: 0.2389 - acc: 0.912 - ETA: 0s - loss: 0.2388 - acc: 0.912 - ETA: 0s - loss: 0.2386 - acc: 0.912 - ETA: 0s - loss: 0.2401 - acc: 0.911 - ETA: 0s - loss: 0.2401 - acc: 0.911 - ETA: 0s - loss: 0.2403 - acc: 0.911 - ETA: 0s - loss: 0.2402 - acc: 0.911 - ETA: 0s - loss: 0.2398 - acc: 0.911 - ETA: 0s - loss: 0.2399 - acc: 0.911 - ETA: 0s - loss: 0.2395 - acc: 0.911 - ETA: 0s - loss: 0.2395 - acc: 0.911 - ETA: 0s - loss: 0.2394 - acc: 0.911 - ETA: 0s - loss: 0.2395 - acc: 0.911 - ETA: 0s - loss: 0.2395 - acc: 0.911 - 8s 2ms/step - loss: 0.2392 - acc: 0.9115 - val_loss: 0.1896 - val_acc: 0.9281\n",
      "\n",
      "Epoch 00012: val_loss improved from 0.19900 to 0.18961, saving model to model-tgs-salt-1.h5\n",
      "Epoch 13/30\n"
     ]
    },
    {
     "name": "stdout",
     "output_type": "stream",
     "text": [
      "3600/3600 [==============================] - ETA: 7s - loss: 0.2013 - acc: 0.916 - ETA: 7s - loss: 0.2184 - acc: 0.909 - ETA: 7s - loss: 0.2903 - acc: 0.880 - ETA: 7s - loss: 0.2736 - acc: 0.890 - ETA: 7s - loss: 0.2392 - acc: 0.906 - ETA: 7s - loss: 0.2257 - acc: 0.912 - ETA: 7s - loss: 0.2330 - acc: 0.909 - ETA: 7s - loss: 0.2463 - acc: 0.901 - ETA: 7s - loss: 0.2500 - acc: 0.900 - ETA: 7s - loss: 0.2373 - acc: 0.906 - ETA: 6s - loss: 0.2281 - acc: 0.910 - ETA: 6s - loss: 0.2592 - acc: 0.897 - ETA: 6s - loss: 0.2603 - acc: 0.898 - ETA: 6s - loss: 0.2612 - acc: 0.898 - ETA: 6s - loss: 0.2642 - acc: 0.897 - ETA: 6s - loss: 0.2589 - acc: 0.901 - ETA: 6s - loss: 0.2581 - acc: 0.900 - ETA: 6s - loss: 0.2515 - acc: 0.904 - ETA: 6s - loss: 0.2506 - acc: 0.903 - ETA: 6s - loss: 0.2503 - acc: 0.903 - ETA: 6s - loss: 0.2543 - acc: 0.901 - ETA: 6s - loss: 0.2499 - acc: 0.904 - ETA: 6s - loss: 0.2482 - acc: 0.904 - ETA: 6s - loss: 0.2425 - acc: 0.907 - ETA: 6s - loss: 0.2415 - acc: 0.907 - ETA: 6s - loss: 0.2429 - acc: 0.907 - ETA: 6s - loss: 0.2419 - acc: 0.907 - ETA: 6s - loss: 0.2420 - acc: 0.907 - ETA: 6s - loss: 0.2376 - acc: 0.909 - ETA: 6s - loss: 0.2326 - acc: 0.912 - ETA: 6s - loss: 0.2301 - acc: 0.912 - ETA: 6s - loss: 0.2307 - acc: 0.912 - ETA: 6s - loss: 0.2312 - acc: 0.912 - ETA: 5s - loss: 0.2373 - acc: 0.909 - ETA: 5s - loss: 0.2343 - acc: 0.911 - ETA: 5s - loss: 0.2344 - acc: 0.911 - ETA: 5s - loss: 0.2336 - acc: 0.912 - ETA: 5s - loss: 0.2329 - acc: 0.912 - ETA: 5s - loss: 0.2299 - acc: 0.914 - ETA: 5s - loss: 0.2298 - acc: 0.914 - ETA: 5s - loss: 0.2295 - acc: 0.914 - ETA: 5s - loss: 0.2299 - acc: 0.914 - ETA: 5s - loss: 0.2296 - acc: 0.914 - ETA: 5s - loss: 0.2287 - acc: 0.915 - ETA: 5s - loss: 0.2261 - acc: 0.916 - ETA: 5s - loss: 0.2277 - acc: 0.916 - ETA: 5s - loss: 0.2260 - acc: 0.917 - ETA: 5s - loss: 0.2275 - acc: 0.916 - ETA: 5s - loss: 0.2265 - acc: 0.916 - ETA: 5s - loss: 0.2247 - acc: 0.917 - ETA: 5s - loss: 0.2233 - acc: 0.917 - ETA: 5s - loss: 0.2235 - acc: 0.917 - ETA: 5s - loss: 0.2232 - acc: 0.917 - ETA: 5s - loss: 0.2232 - acc: 0.917 - ETA: 4s - loss: 0.2233 - acc: 0.917 - ETA: 4s - loss: 0.2217 - acc: 0.917 - ETA: 4s - loss: 0.2216 - acc: 0.917 - ETA: 4s - loss: 0.2207 - acc: 0.918 - ETA: 4s - loss: 0.2204 - acc: 0.918 - ETA: 4s - loss: 0.2192 - acc: 0.918 - ETA: 4s - loss: 0.2202 - acc: 0.918 - ETA: 4s - loss: 0.2182 - acc: 0.919 - ETA: 4s - loss: 0.2201 - acc: 0.918 - ETA: 4s - loss: 0.2214 - acc: 0.917 - ETA: 4s - loss: 0.2216 - acc: 0.918 - ETA: 4s - loss: 0.2221 - acc: 0.917 - ETA: 4s - loss: 0.2233 - acc: 0.917 - ETA: 4s - loss: 0.2234 - acc: 0.916 - ETA: 4s - loss: 0.2234 - acc: 0.916 - ETA: 4s - loss: 0.2247 - acc: 0.915 - ETA: 4s - loss: 0.2254 - acc: 0.914 - ETA: 4s - loss: 0.2255 - acc: 0.914 - ETA: 3s - loss: 0.2259 - acc: 0.914 - ETA: 3s - loss: 0.2270 - acc: 0.913 - ETA: 3s - loss: 0.2274 - acc: 0.913 - ETA: 3s - loss: 0.2268 - acc: 0.913 - ETA: 3s - loss: 0.2270 - acc: 0.914 - ETA: 3s - loss: 0.2258 - acc: 0.914 - ETA: 3s - loss: 0.2249 - acc: 0.914 - ETA: 3s - loss: 0.2260 - acc: 0.914 - ETA: 3s - loss: 0.2263 - acc: 0.913 - ETA: 3s - loss: 0.2283 - acc: 0.913 - ETA: 3s - loss: 0.2274 - acc: 0.913 - ETA: 3s - loss: 0.2274 - acc: 0.913 - ETA: 3s - loss: 0.2264 - acc: 0.913 - ETA: 3s - loss: 0.2262 - acc: 0.913 - ETA: 3s - loss: 0.2253 - acc: 0.914 - ETA: 3s - loss: 0.2255 - acc: 0.914 - ETA: 3s - loss: 0.2241 - acc: 0.914 - ETA: 3s - loss: 0.2247 - acc: 0.914 - ETA: 2s - loss: 0.2266 - acc: 0.913 - ETA: 2s - loss: 0.2256 - acc: 0.914 - ETA: 2s - loss: 0.2245 - acc: 0.914 - ETA: 2s - loss: 0.2253 - acc: 0.914 - ETA: 2s - loss: 0.2258 - acc: 0.914 - ETA: 2s - loss: 0.2260 - acc: 0.914 - ETA: 2s - loss: 0.2263 - acc: 0.914 - ETA: 2s - loss: 0.2262 - acc: 0.914 - ETA: 2s - loss: 0.2252 - acc: 0.914 - ETA: 2s - loss: 0.2252 - acc: 0.914 - ETA: 2s - loss: 0.2264 - acc: 0.913 - ETA: 2s - loss: 0.2263 - acc: 0.913 - ETA: 2s - loss: 0.2255 - acc: 0.914 - ETA: 2s - loss: 0.2267 - acc: 0.913 - ETA: 2s - loss: 0.2265 - acc: 0.913 - ETA: 2s - loss: 0.2256 - acc: 0.913 - ETA: 2s - loss: 0.2245 - acc: 0.914 - ETA: 1s - loss: 0.2244 - acc: 0.914 - ETA: 1s - loss: 0.2246 - acc: 0.914 - ETA: 1s - loss: 0.2252 - acc: 0.914 - ETA: 1s - loss: 0.2248 - acc: 0.914 - ETA: 1s - loss: 0.2255 - acc: 0.914 - ETA: 1s - loss: 0.2264 - acc: 0.913 - ETA: 1s - loss: 0.2264 - acc: 0.913 - ETA: 1s - loss: 0.2257 - acc: 0.914 - ETA: 1s - loss: 0.2255 - acc: 0.914 - ETA: 1s - loss: 0.2254 - acc: 0.914 - ETA: 1s - loss: 0.2258 - acc: 0.913 - ETA: 1s - loss: 0.2255 - acc: 0.913 - ETA: 1s - loss: 0.2260 - acc: 0.913 - ETA: 1s - loss: 0.2255 - acc: 0.913 - ETA: 1s - loss: 0.2255 - acc: 0.913 - ETA: 1s - loss: 0.2258 - acc: 0.913 - ETA: 1s - loss: 0.2249 - acc: 0.914 - ETA: 1s - loss: 0.2243 - acc: 0.914 - ETA: 0s - loss: 0.2239 - acc: 0.914 - ETA: 0s - loss: 0.2235 - acc: 0.914 - ETA: 0s - loss: 0.2231 - acc: 0.915 - ETA: 0s - loss: 0.2228 - acc: 0.915 - ETA: 0s - loss: 0.2230 - acc: 0.915 - ETA: 0s - loss: 0.2221 - acc: 0.915 - ETA: 0s - loss: 0.2220 - acc: 0.915 - ETA: 0s - loss: 0.2217 - acc: 0.915 - ETA: 0s - loss: 0.2217 - acc: 0.915 - ETA: 0s - loss: 0.2209 - acc: 0.916 - ETA: 0s - loss: 0.2201 - acc: 0.916 - ETA: 0s - loss: 0.2195 - acc: 0.916 - ETA: 0s - loss: 0.2205 - acc: 0.916 - ETA: 0s - loss: 0.2196 - acc: 0.916 - ETA: 0s - loss: 0.2193 - acc: 0.916 - ETA: 0s - loss: 0.2185 - acc: 0.917 - ETA: 0s - loss: 0.2183 - acc: 0.917 - ETA: 0s - loss: 0.2176 - acc: 0.917 - 8s 2ms/step - loss: 0.2174 - acc: 0.9178 - val_loss: 0.1665 - val_acc: 0.9371\n",
      "\n",
      "Epoch 00013: val_loss improved from 0.18961 to 0.16646, saving model to model-tgs-salt-1.h5\n",
      "Epoch 14/30\n",
      "3600/3600 [==============================] - ETA: 7s - loss: 0.0576 - acc: 0.992 - ETA: 7s - loss: 0.1273 - acc: 0.955 - ETA: 7s - loss: 0.1287 - acc: 0.954 - ETA: 7s - loss: 0.1433 - acc: 0.944 - ETA: 7s - loss: 0.1351 - acc: 0.948 - ETA: 7s - loss: 0.1408 - acc: 0.946 - ETA: 7s - loss: 0.1488 - acc: 0.944 - ETA: 7s - loss: 0.1443 - acc: 0.946 - ETA: 7s - loss: 0.1457 - acc: 0.945 - ETA: 7s - loss: 0.1454 - acc: 0.947 - ETA: 7s - loss: 0.1526 - acc: 0.944 - ETA: 7s - loss: 0.1535 - acc: 0.944 - ETA: 7s - loss: 0.1613 - acc: 0.941 - ETA: 7s - loss: 0.1662 - acc: 0.939 - ETA: 7s - loss: 0.1703 - acc: 0.938 - ETA: 7s - loss: 0.1732 - acc: 0.935 - ETA: 7s - loss: 0.1720 - acc: 0.935 - ETA: 6s - loss: 0.1741 - acc: 0.936 - ETA: 6s - loss: 0.1696 - acc: 0.938 - ETA: 6s - loss: 0.1648 - acc: 0.940 - ETA: 6s - loss: 0.1638 - acc: 0.940 - ETA: 6s - loss: 0.1731 - acc: 0.938 - ETA: 6s - loss: 0.1700 - acc: 0.939 - ETA: 6s - loss: 0.1749 - acc: 0.938 - ETA: 6s - loss: 0.1768 - acc: 0.937 - ETA: 6s - loss: 0.1785 - acc: 0.937 - ETA: 6s - loss: 0.1800 - acc: 0.936 - ETA: 6s - loss: 0.1820 - acc: 0.934 - ETA: 6s - loss: 0.1817 - acc: 0.934 - ETA: 6s - loss: 0.1810 - acc: 0.934 - ETA: 6s - loss: 0.1894 - acc: 0.931 - ETA: 6s - loss: 0.1930 - acc: 0.929 - ETA: 6s - loss: 0.1938 - acc: 0.929 - ETA: 6s - loss: 0.1945 - acc: 0.929 - ETA: 6s - loss: 0.1961 - acc: 0.928 - ETA: 5s - loss: 0.1967 - acc: 0.927 - ETA: 5s - loss: 0.1990 - acc: 0.926 - ETA: 5s - loss: 0.1974 - acc: 0.926 - ETA: 5s - loss: 0.1990 - acc: 0.925 - ETA: 5s - loss: 0.2022 - acc: 0.924 - ETA: 5s - loss: 0.2042 - acc: 0.923 - ETA: 5s - loss: 0.2030 - acc: 0.923 - ETA: 5s - loss: 0.2050 - acc: 0.922 - ETA: 5s - loss: 0.2047 - acc: 0.923 - ETA: 5s - loss: 0.2058 - acc: 0.923 - ETA: 5s - loss: 0.2060 - acc: 0.923 - ETA: 5s - loss: 0.2062 - acc: 0.923 - ETA: 5s - loss: 0.2066 - acc: 0.923 - ETA: 5s - loss: 0.2046 - acc: 0.923 - ETA: 5s - loss: 0.2062 - acc: 0.923 - ETA: 5s - loss: 0.2048 - acc: 0.924 - ETA: 5s - loss: 0.2074 - acc: 0.922 - ETA: 5s - loss: 0.2076 - acc: 0.922 - ETA: 4s - loss: 0.2074 - acc: 0.923 - ETA: 4s - loss: 0.2094 - acc: 0.922 - ETA: 4s - loss: 0.2076 - acc: 0.923 - ETA: 4s - loss: 0.2084 - acc: 0.923 - ETA: 4s - loss: 0.2070 - acc: 0.923 - ETA: 4s - loss: 0.2078 - acc: 0.923 - ETA: 4s - loss: 0.2080 - acc: 0.923 - ETA: 4s - loss: 0.2083 - acc: 0.922 - ETA: 4s - loss: 0.2099 - acc: 0.922 - ETA: 4s - loss: 0.2110 - acc: 0.921 - ETA: 4s - loss: 0.2090 - acc: 0.922 - ETA: 4s - loss: 0.2105 - acc: 0.921 - ETA: 4s - loss: 0.2104 - acc: 0.921 - ETA: 4s - loss: 0.2106 - acc: 0.921 - ETA: 4s - loss: 0.2096 - acc: 0.922 - ETA: 4s - loss: 0.2109 - acc: 0.921 - ETA: 4s - loss: 0.2095 - acc: 0.922 - ETA: 3s - loss: 0.2110 - acc: 0.921 - ETA: 3s - loss: 0.2115 - acc: 0.921 - ETA: 3s - loss: 0.2114 - acc: 0.921 - ETA: 3s - loss: 0.2113 - acc: 0.921 - ETA: 3s - loss: 0.2112 - acc: 0.921 - ETA: 3s - loss: 0.2118 - acc: 0.921 - ETA: 3s - loss: 0.2122 - acc: 0.921 - ETA: 3s - loss: 0.2144 - acc: 0.920 - ETA: 3s - loss: 0.2157 - acc: 0.919 - ETA: 3s - loss: 0.2167 - acc: 0.919 - ETA: 3s - loss: 0.2159 - acc: 0.919 - ETA: 3s - loss: 0.2164 - acc: 0.919 - ETA: 3s - loss: 0.2164 - acc: 0.919 - ETA: 3s - loss: 0.2162 - acc: 0.919 - ETA: 3s - loss: 0.2171 - acc: 0.919 - ETA: 3s - loss: 0.2165 - acc: 0.919 - ETA: 3s - loss: 0.2165 - acc: 0.919 - ETA: 3s - loss: 0.2162 - acc: 0.919 - ETA: 3s - loss: 0.2156 - acc: 0.920 - ETA: 2s - loss: 0.2166 - acc: 0.919 - ETA: 2s - loss: 0.2159 - acc: 0.919 - ETA: 2s - loss: 0.2164 - acc: 0.919 - ETA: 2s - loss: 0.2167 - acc: 0.919 - ETA: 2s - loss: 0.2177 - acc: 0.918 - ETA: 2s - loss: 0.2176 - acc: 0.918 - ETA: 2s - loss: 0.2176 - acc: 0.918 - ETA: 2s - loss: 0.2176 - acc: 0.918 - ETA: 2s - loss: 0.2181 - acc: 0.918 - ETA: 2s - loss: 0.2188 - acc: 0.917 - ETA: 2s - loss: 0.2178 - acc: 0.918 - ETA: 2s - loss: 0.2175 - acc: 0.918 - ETA: 2s - loss: 0.2174 - acc: 0.918 - ETA: 2s - loss: 0.2168 - acc: 0.918 - ETA: 2s - loss: 0.2166 - acc: 0.918 - ETA: 2s - loss: 0.2158 - acc: 0.919 - ETA: 2s - loss: 0.2163 - acc: 0.919 - ETA: 1s - loss: 0.2167 - acc: 0.918 - ETA: 1s - loss: 0.2157 - acc: 0.919 - ETA: 1s - loss: 0.2162 - acc: 0.919 - ETA: 1s - loss: 0.2172 - acc: 0.918 - ETA: 1s - loss: 0.2178 - acc: 0.918 - ETA: 1s - loss: 0.2177 - acc: 0.918 - ETA: 1s - loss: 0.2177 - acc: 0.918 - ETA: 1s - loss: 0.2172 - acc: 0.918 - ETA: 1s - loss: 0.2166 - acc: 0.918 - ETA: 1s - loss: 0.2172 - acc: 0.918 - ETA: 1s - loss: 0.2163 - acc: 0.918 - ETA: 1s - loss: 0.2168 - acc: 0.918 - ETA: 1s - loss: 0.2163 - acc: 0.918 - ETA: 1s - loss: 0.2165 - acc: 0.918 - ETA: 1s - loss: 0.2165 - acc: 0.918 - ETA: 1s - loss: 0.2164 - acc: 0.918 - ETA: 1s - loss: 0.2169 - acc: 0.918 - ETA: 1s - loss: 0.2169 - acc: 0.918 - ETA: 0s - loss: 0.2168 - acc: 0.918 - ETA: 0s - loss: 0.2158 - acc: 0.918 - ETA: 0s - loss: 0.2150 - acc: 0.919 - ETA: 0s - loss: 0.2160 - acc: 0.918 - ETA: 0s - loss: 0.2175 - acc: 0.917 - ETA: 0s - loss: 0.2172 - acc: 0.918 - ETA: 0s - loss: 0.2167 - acc: 0.918 - ETA: 0s - loss: 0.2161 - acc: 0.918 - ETA: 0s - loss: 0.2155 - acc: 0.918 - ETA: 0s - loss: 0.2152 - acc: 0.919 - ETA: 0s - loss: 0.2137 - acc: 0.919 - ETA: 0s - loss: 0.2134 - acc: 0.919 - ETA: 0s - loss: 0.2138 - acc: 0.919 - ETA: 0s - loss: 0.2139 - acc: 0.919 - ETA: 0s - loss: 0.2137 - acc: 0.919 - ETA: 0s - loss: 0.2138 - acc: 0.919 - 8s 2ms/step - loss: 0.2137 - acc: 0.9197 - val_loss: 0.2128 - val_acc: 0.9221\n",
      "\n",
      "Epoch 00014: val_loss did not improve from 0.16646\n",
      "Epoch 15/30\n"
     ]
    },
    {
     "name": "stdout",
     "output_type": "stream",
     "text": [
      "3600/3600 [==============================] - ETA: 9s - loss: 0.0806 - acc: 0.973 - ETA: 7s - loss: 0.1824 - acc: 0.927 - ETA: 7s - loss: 0.1904 - acc: 0.918 - ETA: 7s - loss: 0.1822 - acc: 0.923 - ETA: 7s - loss: 0.1591 - acc: 0.935 - ETA: 7s - loss: 0.1454 - acc: 0.941 - ETA: 7s - loss: 0.1698 - acc: 0.931 - ETA: 7s - loss: 0.1741 - acc: 0.930 - ETA: 7s - loss: 0.1871 - acc: 0.924 - ETA: 7s - loss: 0.1888 - acc: 0.923 - ETA: 7s - loss: 0.1856 - acc: 0.925 - ETA: 7s - loss: 0.1802 - acc: 0.929 - ETA: 7s - loss: 0.1725 - acc: 0.933 - ETA: 7s - loss: 0.1692 - acc: 0.935 - ETA: 7s - loss: 0.1812 - acc: 0.932 - ETA: 7s - loss: 0.1903 - acc: 0.929 - ETA: 7s - loss: 0.1842 - acc: 0.932 - ETA: 6s - loss: 0.1919 - acc: 0.928 - ETA: 6s - loss: 0.1845 - acc: 0.932 - ETA: 6s - loss: 0.1947 - acc: 0.926 - ETA: 6s - loss: 0.1905 - acc: 0.928 - ETA: 6s - loss: 0.1920 - acc: 0.928 - ETA: 6s - loss: 0.2005 - acc: 0.924 - ETA: 6s - loss: 0.1978 - acc: 0.925 - ETA: 6s - loss: 0.1995 - acc: 0.924 - ETA: 6s - loss: 0.1995 - acc: 0.923 - ETA: 6s - loss: 0.1997 - acc: 0.922 - ETA: 6s - loss: 0.2030 - acc: 0.920 - ETA: 6s - loss: 0.2034 - acc: 0.920 - ETA: 6s - loss: 0.2042 - acc: 0.920 - ETA: 6s - loss: 0.2042 - acc: 0.920 - ETA: 6s - loss: 0.1999 - acc: 0.922 - ETA: 6s - loss: 0.2026 - acc: 0.922 - ETA: 6s - loss: 0.2039 - acc: 0.921 - ETA: 6s - loss: 0.2085 - acc: 0.919 - ETA: 5s - loss: 0.2088 - acc: 0.919 - ETA: 5s - loss: 0.2122 - acc: 0.917 - ETA: 5s - loss: 0.2108 - acc: 0.918 - ETA: 5s - loss: 0.2131 - acc: 0.917 - ETA: 5s - loss: 0.2117 - acc: 0.918 - ETA: 5s - loss: 0.2141 - acc: 0.917 - ETA: 5s - loss: 0.2127 - acc: 0.917 - ETA: 5s - loss: 0.2140 - acc: 0.917 - ETA: 5s - loss: 0.2139 - acc: 0.917 - ETA: 5s - loss: 0.2136 - acc: 0.917 - ETA: 5s - loss: 0.2122 - acc: 0.917 - ETA: 5s - loss: 0.2132 - acc: 0.917 - ETA: 5s - loss: 0.2112 - acc: 0.918 - ETA: 5s - loss: 0.2096 - acc: 0.919 - ETA: 5s - loss: 0.2076 - acc: 0.920 - ETA: 5s - loss: 0.2047 - acc: 0.922 - ETA: 5s - loss: 0.2050 - acc: 0.922 - ETA: 5s - loss: 0.2034 - acc: 0.922 - ETA: 4s - loss: 0.2017 - acc: 0.923 - ETA: 4s - loss: 0.2073 - acc: 0.921 - ETA: 4s - loss: 0.2061 - acc: 0.921 - ETA: 4s - loss: 0.2086 - acc: 0.921 - ETA: 4s - loss: 0.2098 - acc: 0.920 - ETA: 4s - loss: 0.2104 - acc: 0.920 - ETA: 4s - loss: 0.2093 - acc: 0.921 - ETA: 4s - loss: 0.2085 - acc: 0.921 - ETA: 4s - loss: 0.2133 - acc: 0.919 - ETA: 4s - loss: 0.2141 - acc: 0.918 - ETA: 4s - loss: 0.2136 - acc: 0.918 - ETA: 4s - loss: 0.2140 - acc: 0.918 - ETA: 4s - loss: 0.2131 - acc: 0.919 - ETA: 4s - loss: 0.2119 - acc: 0.920 - ETA: 4s - loss: 0.2110 - acc: 0.920 - ETA: 4s - loss: 0.2107 - acc: 0.920 - ETA: 3s - loss: 0.2110 - acc: 0.919 - ETA: 3s - loss: 0.2108 - acc: 0.920 - ETA: 3s - loss: 0.2099 - acc: 0.920 - ETA: 3s - loss: 0.2111 - acc: 0.919 - ETA: 3s - loss: 0.2107 - acc: 0.919 - ETA: 3s - loss: 0.2118 - acc: 0.919 - ETA: 3s - loss: 0.2130 - acc: 0.918 - ETA: 3s - loss: 0.2128 - acc: 0.918 - ETA: 3s - loss: 0.2123 - acc: 0.919 - ETA: 3s - loss: 0.2116 - acc: 0.919 - ETA: 3s - loss: 0.2113 - acc: 0.919 - ETA: 3s - loss: 0.2119 - acc: 0.919 - ETA: 3s - loss: 0.2129 - acc: 0.918 - ETA: 3s - loss: 0.2117 - acc: 0.919 - ETA: 3s - loss: 0.2115 - acc: 0.919 - ETA: 3s - loss: 0.2130 - acc: 0.918 - ETA: 3s - loss: 0.2121 - acc: 0.919 - ETA: 3s - loss: 0.2119 - acc: 0.919 - ETA: 3s - loss: 0.2117 - acc: 0.919 - ETA: 3s - loss: 0.2118 - acc: 0.919 - ETA: 2s - loss: 0.2111 - acc: 0.920 - ETA: 2s - loss: 0.2106 - acc: 0.920 - ETA: 2s - loss: 0.2118 - acc: 0.919 - ETA: 2s - loss: 0.2126 - acc: 0.919 - ETA: 2s - loss: 0.2118 - acc: 0.919 - ETA: 2s - loss: 0.2118 - acc: 0.919 - ETA: 2s - loss: 0.2121 - acc: 0.919 - ETA: 2s - loss: 0.2120 - acc: 0.919 - ETA: 2s - loss: 0.2120 - acc: 0.919 - ETA: 2s - loss: 0.2114 - acc: 0.919 - ETA: 2s - loss: 0.2115 - acc: 0.919 - ETA: 2s - loss: 0.2107 - acc: 0.919 - ETA: 2s - loss: 0.2105 - acc: 0.919 - ETA: 2s - loss: 0.2109 - acc: 0.919 - ETA: 2s - loss: 0.2095 - acc: 0.919 - ETA: 2s - loss: 0.2101 - acc: 0.919 - ETA: 1s - loss: 0.2100 - acc: 0.919 - ETA: 1s - loss: 0.2090 - acc: 0.919 - ETA: 1s - loss: 0.2097 - acc: 0.919 - ETA: 1s - loss: 0.2108 - acc: 0.918 - ETA: 1s - loss: 0.2104 - acc: 0.919 - ETA: 1s - loss: 0.2103 - acc: 0.918 - ETA: 1s - loss: 0.2098 - acc: 0.919 - ETA: 1s - loss: 0.2097 - acc: 0.919 - ETA: 1s - loss: 0.2092 - acc: 0.919 - ETA: 1s - loss: 0.2088 - acc: 0.919 - ETA: 1s - loss: 0.2086 - acc: 0.919 - ETA: 1s - loss: 0.2095 - acc: 0.919 - ETA: 1s - loss: 0.2095 - acc: 0.919 - ETA: 1s - loss: 0.2090 - acc: 0.919 - ETA: 1s - loss: 0.2100 - acc: 0.919 - ETA: 1s - loss: 0.2101 - acc: 0.919 - ETA: 1s - loss: 0.2098 - acc: 0.919 - ETA: 1s - loss: 0.2099 - acc: 0.919 - ETA: 1s - loss: 0.2100 - acc: 0.919 - ETA: 0s - loss: 0.2106 - acc: 0.919 - ETA: 0s - loss: 0.2108 - acc: 0.919 - ETA: 0s - loss: 0.2107 - acc: 0.919 - ETA: 0s - loss: 0.2104 - acc: 0.919 - ETA: 0s - loss: 0.2107 - acc: 0.919 - ETA: 0s - loss: 0.2099 - acc: 0.919 - ETA: 0s - loss: 0.2098 - acc: 0.919 - ETA: 0s - loss: 0.2100 - acc: 0.919 - ETA: 0s - loss: 0.2116 - acc: 0.919 - ETA: 0s - loss: 0.2110 - acc: 0.919 - ETA: 0s - loss: 0.2104 - acc: 0.919 - ETA: 0s - loss: 0.2099 - acc: 0.919 - ETA: 0s - loss: 0.2091 - acc: 0.920 - ETA: 0s - loss: 0.2087 - acc: 0.920 - ETA: 0s - loss: 0.2081 - acc: 0.920 - ETA: 0s - loss: 0.2081 - acc: 0.920 - ETA: 0s - loss: 0.2089 - acc: 0.920 - ETA: 0s - loss: 0.2088 - acc: 0.920 - 8s 2ms/step - loss: 0.2090 - acc: 0.9199 - val_loss: 0.1803 - val_acc: 0.9345\n",
      "\n",
      "Epoch 00015: val_loss did not improve from 0.16646\n",
      "Epoch 16/30\n",
      "3600/3600 [==============================] - ETA: 8s - loss: 0.2255 - acc: 0.904 - ETA: 7s - loss: 0.1689 - acc: 0.952 - ETA: 7s - loss: 0.2126 - acc: 0.915 - ETA: 7s - loss: 0.2422 - acc: 0.897 - ETA: 7s - loss: 0.2308 - acc: 0.900 - ETA: 7s - loss: 0.2139 - acc: 0.911 - ETA: 7s - loss: 0.2182 - acc: 0.912 - ETA: 7s - loss: 0.2234 - acc: 0.909 - ETA: 7s - loss: 0.2132 - acc: 0.914 - ETA: 7s - loss: 0.2096 - acc: 0.917 - ETA: 7s - loss: 0.2143 - acc: 0.917 - ETA: 7s - loss: 0.2122 - acc: 0.917 - ETA: 7s - loss: 0.2116 - acc: 0.916 - ETA: 7s - loss: 0.2091 - acc: 0.917 - ETA: 7s - loss: 0.2073 - acc: 0.918 - ETA: 7s - loss: 0.1996 - acc: 0.922 - ETA: 7s - loss: 0.2131 - acc: 0.918 - ETA: 6s - loss: 0.2152 - acc: 0.916 - ETA: 6s - loss: 0.2175 - acc: 0.916 - ETA: 6s - loss: 0.2134 - acc: 0.918 - ETA: 6s - loss: 0.2117 - acc: 0.919 - ETA: 6s - loss: 0.2108 - acc: 0.919 - ETA: 6s - loss: 0.2115 - acc: 0.919 - ETA: 6s - loss: 0.2102 - acc: 0.919 - ETA: 6s - loss: 0.2088 - acc: 0.920 - ETA: 6s - loss: 0.2057 - acc: 0.921 - ETA: 6s - loss: 0.2061 - acc: 0.920 - ETA: 6s - loss: 0.2051 - acc: 0.921 - ETA: 6s - loss: 0.2046 - acc: 0.921 - ETA: 6s - loss: 0.2060 - acc: 0.921 - ETA: 6s - loss: 0.2012 - acc: 0.923 - ETA: 6s - loss: 0.1978 - acc: 0.924 - ETA: 6s - loss: 0.1979 - acc: 0.924 - ETA: 6s - loss: 0.2023 - acc: 0.922 - ETA: 6s - loss: 0.2071 - acc: 0.921 - ETA: 5s - loss: 0.2059 - acc: 0.921 - ETA: 5s - loss: 0.2064 - acc: 0.921 - ETA: 5s - loss: 0.2061 - acc: 0.921 - ETA: 5s - loss: 0.2072 - acc: 0.921 - ETA: 5s - loss: 0.2092 - acc: 0.919 - ETA: 5s - loss: 0.2097 - acc: 0.919 - ETA: 5s - loss: 0.2093 - acc: 0.919 - ETA: 5s - loss: 0.2086 - acc: 0.920 - ETA: 5s - loss: 0.2074 - acc: 0.920 - ETA: 5s - loss: 0.2113 - acc: 0.919 - ETA: 5s - loss: 0.2141 - acc: 0.919 - ETA: 5s - loss: 0.2129 - acc: 0.919 - ETA: 5s - loss: 0.2130 - acc: 0.919 - ETA: 5s - loss: 0.2145 - acc: 0.918 - ETA: 5s - loss: 0.2157 - acc: 0.917 - ETA: 5s - loss: 0.2167 - acc: 0.917 - ETA: 5s - loss: 0.2162 - acc: 0.918 - ETA: 4s - loss: 0.2161 - acc: 0.918 - ETA: 4s - loss: 0.2162 - acc: 0.918 - ETA: 4s - loss: 0.2164 - acc: 0.918 - ETA: 4s - loss: 0.2149 - acc: 0.918 - ETA: 4s - loss: 0.2147 - acc: 0.918 - ETA: 4s - loss: 0.2142 - acc: 0.919 - ETA: 4s - loss: 0.2133 - acc: 0.919 - ETA: 4s - loss: 0.2130 - acc: 0.919 - ETA: 4s - loss: 0.2127 - acc: 0.919 - ETA: 4s - loss: 0.2134 - acc: 0.919 - ETA: 4s - loss: 0.2139 - acc: 0.919 - ETA: 4s - loss: 0.2132 - acc: 0.919 - ETA: 4s - loss: 0.2138 - acc: 0.919 - ETA: 4s - loss: 0.2156 - acc: 0.918 - ETA: 4s - loss: 0.2157 - acc: 0.918 - ETA: 4s - loss: 0.2158 - acc: 0.918 - ETA: 4s - loss: 0.2167 - acc: 0.917 - ETA: 3s - loss: 0.2168 - acc: 0.917 - ETA: 3s - loss: 0.2175 - acc: 0.917 - ETA: 3s - loss: 0.2179 - acc: 0.917 - ETA: 3s - loss: 0.2172 - acc: 0.917 - ETA: 3s - loss: 0.2174 - acc: 0.917 - ETA: 3s - loss: 0.2171 - acc: 0.917 - ETA: 3s - loss: 0.2165 - acc: 0.917 - ETA: 3s - loss: 0.2166 - acc: 0.917 - ETA: 3s - loss: 0.2160 - acc: 0.917 - ETA: 3s - loss: 0.2148 - acc: 0.918 - ETA: 3s - loss: 0.2138 - acc: 0.918 - ETA: 3s - loss: 0.2140 - acc: 0.918 - ETA: 3s - loss: 0.2135 - acc: 0.919 - ETA: 3s - loss: 0.2126 - acc: 0.919 - ETA: 3s - loss: 0.2117 - acc: 0.919 - ETA: 3s - loss: 0.2131 - acc: 0.918 - ETA: 3s - loss: 0.2132 - acc: 0.918 - ETA: 3s - loss: 0.2129 - acc: 0.919 - ETA: 2s - loss: 0.2130 - acc: 0.919 - ETA: 2s - loss: 0.2127 - acc: 0.919 - ETA: 2s - loss: 0.2117 - acc: 0.920 - ETA: 2s - loss: 0.2109 - acc: 0.920 - ETA: 2s - loss: 0.2125 - acc: 0.919 - ETA: 2s - loss: 0.2121 - acc: 0.920 - ETA: 2s - loss: 0.2117 - acc: 0.920 - ETA: 2s - loss: 0.2110 - acc: 0.920 - ETA: 2s - loss: 0.2104 - acc: 0.920 - ETA: 2s - loss: 0.2092 - acc: 0.921 - ETA: 2s - loss: 0.2084 - acc: 0.921 - ETA: 2s - loss: 0.2080 - acc: 0.921 - ETA: 2s - loss: 0.2081 - acc: 0.921 - ETA: 2s - loss: 0.2091 - acc: 0.921 - ETA: 2s - loss: 0.2090 - acc: 0.921 - ETA: 2s - loss: 0.2087 - acc: 0.921 - ETA: 1s - loss: 0.2090 - acc: 0.921 - ETA: 1s - loss: 0.2092 - acc: 0.921 - ETA: 1s - loss: 0.2090 - acc: 0.921 - ETA: 1s - loss: 0.2089 - acc: 0.921 - ETA: 1s - loss: 0.2078 - acc: 0.922 - ETA: 1s - loss: 0.2072 - acc: 0.922 - ETA: 1s - loss: 0.2078 - acc: 0.921 - ETA: 1s - loss: 0.2079 - acc: 0.921 - ETA: 1s - loss: 0.2088 - acc: 0.921 - ETA: 1s - loss: 0.2079 - acc: 0.921 - ETA: 1s - loss: 0.2075 - acc: 0.921 - ETA: 1s - loss: 0.2070 - acc: 0.922 - ETA: 1s - loss: 0.2067 - acc: 0.922 - ETA: 1s - loss: 0.2062 - acc: 0.922 - ETA: 1s - loss: 0.2065 - acc: 0.922 - ETA: 1s - loss: 0.2065 - acc: 0.922 - ETA: 1s - loss: 0.2062 - acc: 0.922 - ETA: 1s - loss: 0.2076 - acc: 0.922 - ETA: 0s - loss: 0.2074 - acc: 0.922 - ETA: 0s - loss: 0.2081 - acc: 0.922 - ETA: 0s - loss: 0.2078 - acc: 0.922 - ETA: 0s - loss: 0.2070 - acc: 0.922 - ETA: 0s - loss: 0.2087 - acc: 0.922 - ETA: 0s - loss: 0.2080 - acc: 0.922 - ETA: 0s - loss: 0.2071 - acc: 0.922 - ETA: 0s - loss: 0.2072 - acc: 0.922 - ETA: 0s - loss: 0.2073 - acc: 0.922 - ETA: 0s - loss: 0.2075 - acc: 0.922 - ETA: 0s - loss: 0.2072 - acc: 0.922 - ETA: 0s - loss: 0.2060 - acc: 0.923 - ETA: 0s - loss: 0.2055 - acc: 0.923 - ETA: 0s - loss: 0.2052 - acc: 0.923 - ETA: 0s - loss: 0.2048 - acc: 0.923 - ETA: 0s - loss: 0.2049 - acc: 0.923 - ETA: 0s - loss: 0.2050 - acc: 0.923 - 8s 2ms/step - loss: 0.2052 - acc: 0.9234 - val_loss: 0.1626 - val_acc: 0.9390\n",
      "\n",
      "Epoch 00016: val_loss improved from 0.16646 to 0.16260, saving model to model-tgs-salt-1.h5\n",
      "Epoch 17/30\n"
     ]
    },
    {
     "name": "stdout",
     "output_type": "stream",
     "text": [
      "3600/3600 [==============================] - ETA: 8s - loss: 0.3717 - acc: 0.836 - ETA: 8s - loss: 0.2097 - acc: 0.907 - ETA: 8s - loss: 0.1692 - acc: 0.934 - ETA: 7s - loss: 0.2054 - acc: 0.921 - ETA: 7s - loss: 0.2061 - acc: 0.919 - ETA: 7s - loss: 0.1979 - acc: 0.923 - ETA: 7s - loss: 0.1858 - acc: 0.930 - ETA: 7s - loss: 0.1728 - acc: 0.937 - ETA: 7s - loss: 0.1787 - acc: 0.935 - ETA: 7s - loss: 0.1792 - acc: 0.936 - ETA: 7s - loss: 0.1865 - acc: 0.935 - ETA: 7s - loss: 0.1834 - acc: 0.937 - ETA: 6s - loss: 0.1768 - acc: 0.940 - ETA: 6s - loss: 0.1780 - acc: 0.939 - ETA: 6s - loss: 0.1749 - acc: 0.941 - ETA: 6s - loss: 0.1800 - acc: 0.938 - ETA: 6s - loss: 0.1801 - acc: 0.936 - ETA: 6s - loss: 0.1818 - acc: 0.935 - ETA: 6s - loss: 0.1894 - acc: 0.932 - ETA: 6s - loss: 0.1913 - acc: 0.930 - ETA: 6s - loss: 0.1946 - acc: 0.928 - ETA: 6s - loss: 0.1945 - acc: 0.928 - ETA: 6s - loss: 0.1990 - acc: 0.925 - ETA: 6s - loss: 0.2025 - acc: 0.923 - ETA: 6s - loss: 0.2003 - acc: 0.924 - ETA: 6s - loss: 0.1988 - acc: 0.925 - ETA: 6s - loss: 0.1961 - acc: 0.926 - ETA: 6s - loss: 0.1994 - acc: 0.925 - ETA: 6s - loss: 0.1991 - acc: 0.925 - ETA: 6s - loss: 0.1991 - acc: 0.924 - ETA: 6s - loss: 0.2029 - acc: 0.923 - ETA: 6s - loss: 0.2006 - acc: 0.923 - ETA: 6s - loss: 0.1984 - acc: 0.924 - ETA: 5s - loss: 0.1968 - acc: 0.925 - ETA: 5s - loss: 0.1948 - acc: 0.926 - ETA: 5s - loss: 0.1951 - acc: 0.926 - ETA: 5s - loss: 0.1976 - acc: 0.925 - ETA: 5s - loss: 0.1962 - acc: 0.925 - ETA: 5s - loss: 0.1973 - acc: 0.925 - ETA: 5s - loss: 0.1999 - acc: 0.923 - ETA: 5s - loss: 0.2001 - acc: 0.923 - ETA: 5s - loss: 0.1977 - acc: 0.924 - ETA: 5s - loss: 0.1974 - acc: 0.924 - ETA: 5s - loss: 0.1988 - acc: 0.924 - ETA: 5s - loss: 0.2002 - acc: 0.924 - ETA: 5s - loss: 0.1996 - acc: 0.924 - ETA: 5s - loss: 0.2003 - acc: 0.924 - ETA: 5s - loss: 0.1994 - acc: 0.924 - ETA: 5s - loss: 0.1984 - acc: 0.925 - ETA: 5s - loss: 0.2003 - acc: 0.924 - ETA: 4s - loss: 0.1997 - acc: 0.924 - ETA: 4s - loss: 0.1991 - acc: 0.924 - ETA: 4s - loss: 0.2003 - acc: 0.923 - ETA: 4s - loss: 0.2013 - acc: 0.923 - ETA: 4s - loss: 0.2015 - acc: 0.923 - ETA: 4s - loss: 0.2007 - acc: 0.923 - ETA: 4s - loss: 0.2005 - acc: 0.923 - ETA: 4s - loss: 0.1996 - acc: 0.924 - ETA: 4s - loss: 0.2009 - acc: 0.923 - ETA: 4s - loss: 0.2004 - acc: 0.923 - ETA: 4s - loss: 0.2000 - acc: 0.923 - ETA: 4s - loss: 0.2003 - acc: 0.923 - ETA: 4s - loss: 0.2001 - acc: 0.923 - ETA: 4s - loss: 0.2023 - acc: 0.922 - ETA: 4s - loss: 0.2025 - acc: 0.922 - ETA: 4s - loss: 0.2015 - acc: 0.922 - ETA: 4s - loss: 0.2007 - acc: 0.923 - ETA: 4s - loss: 0.1996 - acc: 0.923 - ETA: 3s - loss: 0.2016 - acc: 0.922 - ETA: 3s - loss: 0.2022 - acc: 0.922 - ETA: 3s - loss: 0.2021 - acc: 0.922 - ETA: 3s - loss: 0.2014 - acc: 0.922 - ETA: 3s - loss: 0.2018 - acc: 0.922 - ETA: 3s - loss: 0.2015 - acc: 0.922 - ETA: 3s - loss: 0.2003 - acc: 0.923 - ETA: 3s - loss: 0.2007 - acc: 0.922 - ETA: 3s - loss: 0.1994 - acc: 0.923 - ETA: 3s - loss: 0.1990 - acc: 0.923 - ETA: 3s - loss: 0.1998 - acc: 0.923 - ETA: 3s - loss: 0.1987 - acc: 0.924 - ETA: 3s - loss: 0.1970 - acc: 0.924 - ETA: 3s - loss: 0.1970 - acc: 0.924 - ETA: 3s - loss: 0.1978 - acc: 0.924 - ETA: 3s - loss: 0.1969 - acc: 0.925 - ETA: 3s - loss: 0.1980 - acc: 0.924 - ETA: 3s - loss: 0.1986 - acc: 0.924 - ETA: 2s - loss: 0.1988 - acc: 0.923 - ETA: 2s - loss: 0.1994 - acc: 0.923 - ETA: 2s - loss: 0.1997 - acc: 0.923 - ETA: 2s - loss: 0.1994 - acc: 0.923 - ETA: 2s - loss: 0.1997 - acc: 0.923 - ETA: 2s - loss: 0.1994 - acc: 0.923 - ETA: 2s - loss: 0.1994 - acc: 0.923 - ETA: 2s - loss: 0.1993 - acc: 0.923 - ETA: 2s - loss: 0.1979 - acc: 0.924 - ETA: 2s - loss: 0.1970 - acc: 0.924 - ETA: 2s - loss: 0.1967 - acc: 0.925 - ETA: 2s - loss: 0.1972 - acc: 0.924 - ETA: 2s - loss: 0.1966 - acc: 0.925 - ETA: 2s - loss: 0.1962 - acc: 0.925 - ETA: 2s - loss: 0.1962 - acc: 0.925 - ETA: 2s - loss: 0.1955 - acc: 0.925 - ETA: 2s - loss: 0.1952 - acc: 0.925 - ETA: 2s - loss: 0.1948 - acc: 0.925 - ETA: 1s - loss: 0.1945 - acc: 0.925 - ETA: 1s - loss: 0.1935 - acc: 0.926 - ETA: 1s - loss: 0.1931 - acc: 0.926 - ETA: 1s - loss: 0.1924 - acc: 0.926 - ETA: 1s - loss: 0.1921 - acc: 0.927 - ETA: 1s - loss: 0.1925 - acc: 0.926 - ETA: 1s - loss: 0.1928 - acc: 0.926 - ETA: 1s - loss: 0.1938 - acc: 0.926 - ETA: 1s - loss: 0.1931 - acc: 0.926 - ETA: 1s - loss: 0.1934 - acc: 0.926 - ETA: 1s - loss: 0.1929 - acc: 0.927 - ETA: 1s - loss: 0.1923 - acc: 0.927 - ETA: 1s - loss: 0.1929 - acc: 0.926 - ETA: 1s - loss: 0.1920 - acc: 0.927 - ETA: 1s - loss: 0.1914 - acc: 0.927 - ETA: 1s - loss: 0.1917 - acc: 0.927 - ETA: 1s - loss: 0.1913 - acc: 0.927 - ETA: 0s - loss: 0.1908 - acc: 0.927 - ETA: 0s - loss: 0.1914 - acc: 0.927 - ETA: 0s - loss: 0.1913 - acc: 0.927 - ETA: 0s - loss: 0.1922 - acc: 0.927 - ETA: 0s - loss: 0.1934 - acc: 0.926 - ETA: 0s - loss: 0.1935 - acc: 0.926 - ETA: 0s - loss: 0.1935 - acc: 0.926 - ETA: 0s - loss: 0.1931 - acc: 0.926 - ETA: 0s - loss: 0.1930 - acc: 0.926 - ETA: 0s - loss: 0.1926 - acc: 0.926 - ETA: 0s - loss: 0.1926 - acc: 0.926 - ETA: 0s - loss: 0.1927 - acc: 0.927 - ETA: 0s - loss: 0.1922 - acc: 0.927 - ETA: 0s - loss: 0.1921 - acc: 0.927 - ETA: 0s - loss: 0.1926 - acc: 0.927 - ETA: 0s - loss: 0.1932 - acc: 0.926 - ETA: 0s - loss: 0.1929 - acc: 0.927 - 8s 2ms/step - loss: 0.1923 - acc: 0.9274 - val_loss: 0.1620 - val_acc: 0.9415\n",
      "\n",
      "Epoch 00017: val_loss improved from 0.16260 to 0.16201, saving model to model-tgs-salt-1.h5\n",
      "Epoch 18/30\n",
      "3600/3600 [==============================] - ETA: 8s - loss: 0.1175 - acc: 0.965 - ETA: 7s - loss: 0.1622 - acc: 0.943 - ETA: 7s - loss: 0.1769 - acc: 0.934 - ETA: 7s - loss: 0.1708 - acc: 0.937 - ETA: 7s - loss: 0.1591 - acc: 0.943 - ETA: 7s - loss: 0.1594 - acc: 0.943 - ETA: 7s - loss: 0.1529 - acc: 0.946 - ETA: 7s - loss: 0.1689 - acc: 0.939 - ETA: 7s - loss: 0.1625 - acc: 0.941 - ETA: 7s - loss: 0.1664 - acc: 0.939 - ETA: 7s - loss: 0.1606 - acc: 0.942 - ETA: 7s - loss: 0.1712 - acc: 0.941 - ETA: 7s - loss: 0.1660 - acc: 0.944 - ETA: 7s - loss: 0.1596 - acc: 0.946 - ETA: 7s - loss: 0.1571 - acc: 0.948 - ETA: 7s - loss: 0.1538 - acc: 0.949 - ETA: 7s - loss: 0.1549 - acc: 0.948 - ETA: 6s - loss: 0.1523 - acc: 0.949 - ETA: 6s - loss: 0.1569 - acc: 0.947 - ETA: 6s - loss: 0.1535 - acc: 0.949 - ETA: 6s - loss: 0.1535 - acc: 0.948 - ETA: 6s - loss: 0.1545 - acc: 0.948 - ETA: 6s - loss: 0.1527 - acc: 0.948 - ETA: 6s - loss: 0.1564 - acc: 0.946 - ETA: 6s - loss: 0.1536 - acc: 0.947 - ETA: 6s - loss: 0.1630 - acc: 0.943 - ETA: 6s - loss: 0.1656 - acc: 0.942 - ETA: 6s - loss: 0.1674 - acc: 0.941 - ETA: 6s - loss: 0.1661 - acc: 0.942 - ETA: 6s - loss: 0.1668 - acc: 0.941 - ETA: 6s - loss: 0.1647 - acc: 0.942 - ETA: 6s - loss: 0.1633 - acc: 0.943 - ETA: 6s - loss: 0.1633 - acc: 0.943 - ETA: 6s - loss: 0.1644 - acc: 0.942 - ETA: 6s - loss: 0.1649 - acc: 0.941 - ETA: 6s - loss: 0.1629 - acc: 0.942 - ETA: 5s - loss: 0.1652 - acc: 0.941 - ETA: 5s - loss: 0.1626 - acc: 0.942 - ETA: 5s - loss: 0.1638 - acc: 0.941 - ETA: 5s - loss: 0.1650 - acc: 0.941 - ETA: 5s - loss: 0.1644 - acc: 0.941 - ETA: 5s - loss: 0.1629 - acc: 0.942 - ETA: 5s - loss: 0.1646 - acc: 0.941 - ETA: 5s - loss: 0.1670 - acc: 0.939 - ETA: 5s - loss: 0.1665 - acc: 0.940 - ETA: 5s - loss: 0.1655 - acc: 0.940 - ETA: 5s - loss: 0.1655 - acc: 0.940 - ETA: 5s - loss: 0.1649 - acc: 0.940 - ETA: 5s - loss: 0.1652 - acc: 0.940 - ETA: 5s - loss: 0.1696 - acc: 0.938 - ETA: 5s - loss: 0.1719 - acc: 0.937 - ETA: 5s - loss: 0.1730 - acc: 0.937 - ETA: 4s - loss: 0.1739 - acc: 0.936 - ETA: 4s - loss: 0.1734 - acc: 0.936 - ETA: 4s - loss: 0.1741 - acc: 0.936 - ETA: 4s - loss: 0.1736 - acc: 0.936 - ETA: 4s - loss: 0.1736 - acc: 0.936 - ETA: 4s - loss: 0.1745 - acc: 0.936 - ETA: 4s - loss: 0.1745 - acc: 0.936 - ETA: 4s - loss: 0.1735 - acc: 0.936 - ETA: 4s - loss: 0.1731 - acc: 0.936 - ETA: 4s - loss: 0.1744 - acc: 0.935 - ETA: 4s - loss: 0.1746 - acc: 0.935 - ETA: 4s - loss: 0.1753 - acc: 0.935 - ETA: 4s - loss: 0.1760 - acc: 0.934 - ETA: 4s - loss: 0.1750 - acc: 0.935 - ETA: 4s - loss: 0.1742 - acc: 0.935 - ETA: 4s - loss: 0.1753 - acc: 0.934 - ETA: 4s - loss: 0.1762 - acc: 0.934 - ETA: 4s - loss: 0.1766 - acc: 0.934 - ETA: 4s - loss: 0.1772 - acc: 0.933 - ETA: 4s - loss: 0.1779 - acc: 0.933 - ETA: 3s - loss: 0.1775 - acc: 0.933 - ETA: 3s - loss: 0.1776 - acc: 0.933 - ETA: 3s - loss: 0.1775 - acc: 0.933 - ETA: 3s - loss: 0.1789 - acc: 0.933 - ETA: 3s - loss: 0.1789 - acc: 0.933 - ETA: 3s - loss: 0.1785 - acc: 0.933 - ETA: 3s - loss: 0.1787 - acc: 0.933 - ETA: 3s - loss: 0.1789 - acc: 0.933 - ETA: 3s - loss: 0.1783 - acc: 0.933 - ETA: 3s - loss: 0.1781 - acc: 0.933 - ETA: 3s - loss: 0.1789 - acc: 0.932 - ETA: 3s - loss: 0.1788 - acc: 0.933 - ETA: 3s - loss: 0.1788 - acc: 0.933 - ETA: 3s - loss: 0.1801 - acc: 0.932 - ETA: 3s - loss: 0.1810 - acc: 0.931 - ETA: 2s - loss: 0.1824 - acc: 0.930 - ETA: 2s - loss: 0.1824 - acc: 0.931 - ETA: 2s - loss: 0.1817 - acc: 0.931 - ETA: 2s - loss: 0.1816 - acc: 0.931 - ETA: 2s - loss: 0.1813 - acc: 0.931 - ETA: 2s - loss: 0.1810 - acc: 0.931 - ETA: 2s - loss: 0.1811 - acc: 0.931 - ETA: 2s - loss: 0.1814 - acc: 0.931 - ETA: 2s - loss: 0.1817 - acc: 0.931 - ETA: 2s - loss: 0.1811 - acc: 0.931 - ETA: 2s - loss: 0.1802 - acc: 0.931 - ETA: 2s - loss: 0.1797 - acc: 0.932 - ETA: 2s - loss: 0.1806 - acc: 0.931 - ETA: 2s - loss: 0.1807 - acc: 0.931 - ETA: 2s - loss: 0.1806 - acc: 0.931 - ETA: 2s - loss: 0.1811 - acc: 0.931 - ETA: 2s - loss: 0.1809 - acc: 0.931 - ETA: 2s - loss: 0.1803 - acc: 0.931 - ETA: 2s - loss: 0.1801 - acc: 0.931 - ETA: 1s - loss: 0.1806 - acc: 0.931 - ETA: 1s - loss: 0.1807 - acc: 0.931 - ETA: 1s - loss: 0.1823 - acc: 0.930 - ETA: 1s - loss: 0.1824 - acc: 0.930 - ETA: 1s - loss: 0.1821 - acc: 0.930 - ETA: 1s - loss: 0.1819 - acc: 0.930 - ETA: 1s - loss: 0.1822 - acc: 0.930 - ETA: 1s - loss: 0.1834 - acc: 0.930 - ETA: 1s - loss: 0.1838 - acc: 0.930 - ETA: 1s - loss: 0.1842 - acc: 0.929 - ETA: 1s - loss: 0.1839 - acc: 0.930 - ETA: 1s - loss: 0.1839 - acc: 0.930 - ETA: 1s - loss: 0.1834 - acc: 0.930 - ETA: 1s - loss: 0.1835 - acc: 0.930 - ETA: 1s - loss: 0.1836 - acc: 0.930 - ETA: 1s - loss: 0.1830 - acc: 0.930 - ETA: 1s - loss: 0.1825 - acc: 0.930 - ETA: 0s - loss: 0.1821 - acc: 0.931 - ETA: 0s - loss: 0.1817 - acc: 0.931 - ETA: 0s - loss: 0.1810 - acc: 0.931 - ETA: 0s - loss: 0.1805 - acc: 0.931 - ETA: 0s - loss: 0.1817 - acc: 0.931 - ETA: 0s - loss: 0.1831 - acc: 0.931 - ETA: 0s - loss: 0.1822 - acc: 0.931 - ETA: 0s - loss: 0.1827 - acc: 0.931 - ETA: 0s - loss: 0.1837 - acc: 0.930 - ETA: 0s - loss: 0.1844 - acc: 0.930 - ETA: 0s - loss: 0.1846 - acc: 0.930 - ETA: 0s - loss: 0.1847 - acc: 0.930 - ETA: 0s - loss: 0.1842 - acc: 0.930 - ETA: 0s - loss: 0.1846 - acc: 0.930 - ETA: 0s - loss: 0.1849 - acc: 0.930 - ETA: 0s - loss: 0.1846 - acc: 0.930 - ETA: 0s - loss: 0.1848 - acc: 0.930 - ETA: 0s - loss: 0.1850 - acc: 0.929 - 8s 2ms/step - loss: 0.1850 - acc: 0.9299 - val_loss: 0.1784 - val_acc: 0.9318\n",
      "\n",
      "Epoch 00018: val_loss did not improve from 0.16201\n",
      "Epoch 19/30\n"
     ]
    },
    {
     "name": "stdout",
     "output_type": "stream",
     "text": [
      "3600/3600 [==============================] - ETA: 9s - loss: 0.3488 - acc: 0.839 - ETA: 7s - loss: 0.2181 - acc: 0.909 - ETA: 7s - loss: 0.2121 - acc: 0.915 - ETA: 7s - loss: 0.2000 - acc: 0.920 - ETA: 7s - loss: 0.1958 - acc: 0.920 - ETA: 7s - loss: 0.1919 - acc: 0.923 - ETA: 7s - loss: 0.1879 - acc: 0.926 - ETA: 7s - loss: 0.1771 - acc: 0.932 - ETA: 7s - loss: 0.1781 - acc: 0.932 - ETA: 7s - loss: 0.1677 - acc: 0.936 - ETA: 7s - loss: 0.1594 - acc: 0.940 - ETA: 7s - loss: 0.1557 - acc: 0.941 - ETA: 7s - loss: 0.1583 - acc: 0.941 - ETA: 7s - loss: 0.1539 - acc: 0.943 - ETA: 7s - loss: 0.1483 - acc: 0.945 - ETA: 7s - loss: 0.1503 - acc: 0.945 - ETA: 6s - loss: 0.1465 - acc: 0.946 - ETA: 6s - loss: 0.1450 - acc: 0.947 - ETA: 6s - loss: 0.1420 - acc: 0.948 - ETA: 6s - loss: 0.1519 - acc: 0.943 - ETA: 6s - loss: 0.1497 - acc: 0.945 - ETA: 6s - loss: 0.1565 - acc: 0.941 - ETA: 6s - loss: 0.1610 - acc: 0.938 - ETA: 6s - loss: 0.1607 - acc: 0.939 - ETA: 6s - loss: 0.1631 - acc: 0.937 - ETA: 6s - loss: 0.1635 - acc: 0.937 - ETA: 6s - loss: 0.1705 - acc: 0.934 - ETA: 6s - loss: 0.1782 - acc: 0.930 - ETA: 6s - loss: 0.1776 - acc: 0.931 - ETA: 6s - loss: 0.1774 - acc: 0.932 - ETA: 6s - loss: 0.1756 - acc: 0.933 - ETA: 6s - loss: 0.1752 - acc: 0.933 - ETA: 6s - loss: 0.1764 - acc: 0.933 - ETA: 6s - loss: 0.1786 - acc: 0.932 - ETA: 6s - loss: 0.1782 - acc: 0.932 - ETA: 6s - loss: 0.1795 - acc: 0.931 - ETA: 5s - loss: 0.1804 - acc: 0.930 - ETA: 5s - loss: 0.1807 - acc: 0.930 - ETA: 5s - loss: 0.1807 - acc: 0.930 - ETA: 5s - loss: 0.1807 - acc: 0.930 - ETA: 5s - loss: 0.1908 - acc: 0.927 - ETA: 5s - loss: 0.1916 - acc: 0.927 - ETA: 5s - loss: 0.1928 - acc: 0.927 - ETA: 5s - loss: 0.1949 - acc: 0.925 - ETA: 5s - loss: 0.1952 - acc: 0.925 - ETA: 5s - loss: 0.1978 - acc: 0.925 - ETA: 5s - loss: 0.1964 - acc: 0.926 - ETA: 5s - loss: 0.1962 - acc: 0.926 - ETA: 5s - loss: 0.1958 - acc: 0.926 - ETA: 5s - loss: 0.1979 - acc: 0.925 - ETA: 5s - loss: 0.1977 - acc: 0.925 - ETA: 5s - loss: 0.1986 - acc: 0.925 - ETA: 4s - loss: 0.1980 - acc: 0.925 - ETA: 4s - loss: 0.1970 - acc: 0.925 - ETA: 4s - loss: 0.1957 - acc: 0.926 - ETA: 4s - loss: 0.1960 - acc: 0.926 - ETA: 4s - loss: 0.1951 - acc: 0.926 - ETA: 4s - loss: 0.1970 - acc: 0.925 - ETA: 4s - loss: 0.1958 - acc: 0.926 - ETA: 4s - loss: 0.1958 - acc: 0.926 - ETA: 4s - loss: 0.1943 - acc: 0.926 - ETA: 4s - loss: 0.1939 - acc: 0.927 - ETA: 4s - loss: 0.1948 - acc: 0.926 - ETA: 4s - loss: 0.1953 - acc: 0.926 - ETA: 4s - loss: 0.1945 - acc: 0.926 - ETA: 4s - loss: 0.1949 - acc: 0.926 - ETA: 4s - loss: 0.1941 - acc: 0.926 - ETA: 4s - loss: 0.1938 - acc: 0.926 - ETA: 4s - loss: 0.1934 - acc: 0.926 - ETA: 4s - loss: 0.1924 - acc: 0.927 - ETA: 4s - loss: 0.1911 - acc: 0.927 - ETA: 3s - loss: 0.1913 - acc: 0.927 - ETA: 3s - loss: 0.1902 - acc: 0.927 - ETA: 3s - loss: 0.1900 - acc: 0.928 - ETA: 3s - loss: 0.1900 - acc: 0.927 - ETA: 3s - loss: 0.1894 - acc: 0.928 - ETA: 3s - loss: 0.1893 - acc: 0.928 - ETA: 3s - loss: 0.1887 - acc: 0.928 - ETA: 3s - loss: 0.1900 - acc: 0.928 - ETA: 3s - loss: 0.1910 - acc: 0.928 - ETA: 3s - loss: 0.1913 - acc: 0.928 - ETA: 3s - loss: 0.1903 - acc: 0.928 - ETA: 3s - loss: 0.1901 - acc: 0.928 - ETA: 3s - loss: 0.1897 - acc: 0.929 - ETA: 3s - loss: 0.1911 - acc: 0.928 - ETA: 3s - loss: 0.1912 - acc: 0.927 - ETA: 3s - loss: 0.1903 - acc: 0.928 - ETA: 2s - loss: 0.1899 - acc: 0.928 - ETA: 2s - loss: 0.1905 - acc: 0.928 - ETA: 2s - loss: 0.1902 - acc: 0.928 - ETA: 2s - loss: 0.1890 - acc: 0.928 - ETA: 2s - loss: 0.1885 - acc: 0.929 - ETA: 2s - loss: 0.1883 - acc: 0.929 - ETA: 2s - loss: 0.1875 - acc: 0.929 - ETA: 2s - loss: 0.1890 - acc: 0.928 - ETA: 2s - loss: 0.1885 - acc: 0.928 - ETA: 2s - loss: 0.1887 - acc: 0.928 - ETA: 2s - loss: 0.1904 - acc: 0.927 - ETA: 2s - loss: 0.1916 - acc: 0.927 - ETA: 2s - loss: 0.1917 - acc: 0.927 - ETA: 2s - loss: 0.1915 - acc: 0.927 - ETA: 2s - loss: 0.1912 - acc: 0.927 - ETA: 2s - loss: 0.1909 - acc: 0.927 - ETA: 2s - loss: 0.1901 - acc: 0.927 - ETA: 2s - loss: 0.1909 - acc: 0.927 - ETA: 2s - loss: 0.1908 - acc: 0.927 - ETA: 1s - loss: 0.1902 - acc: 0.927 - ETA: 1s - loss: 0.1907 - acc: 0.927 - ETA: 1s - loss: 0.1907 - acc: 0.927 - ETA: 1s - loss: 0.1907 - acc: 0.927 - ETA: 1s - loss: 0.1898 - acc: 0.927 - ETA: 1s - loss: 0.1902 - acc: 0.927 - ETA: 1s - loss: 0.1903 - acc: 0.927 - ETA: 1s - loss: 0.1895 - acc: 0.928 - ETA: 1s - loss: 0.1888 - acc: 0.928 - ETA: 1s - loss: 0.1877 - acc: 0.928 - ETA: 1s - loss: 0.1876 - acc: 0.929 - ETA: 1s - loss: 0.1867 - acc: 0.929 - ETA: 1s - loss: 0.1865 - acc: 0.929 - ETA: 1s - loss: 0.1858 - acc: 0.929 - ETA: 1s - loss: 0.1863 - acc: 0.929 - ETA: 1s - loss: 0.1880 - acc: 0.929 - ETA: 0s - loss: 0.1881 - acc: 0.928 - ETA: 0s - loss: 0.1885 - acc: 0.928 - ETA: 0s - loss: 0.1881 - acc: 0.928 - ETA: 0s - loss: 0.1880 - acc: 0.928 - ETA: 0s - loss: 0.1881 - acc: 0.928 - ETA: 0s - loss: 0.1877 - acc: 0.928 - ETA: 0s - loss: 0.1881 - acc: 0.928 - ETA: 0s - loss: 0.1873 - acc: 0.929 - ETA: 0s - loss: 0.1872 - acc: 0.929 - ETA: 0s - loss: 0.1870 - acc: 0.929 - ETA: 0s - loss: 0.1872 - acc: 0.929 - ETA: 0s - loss: 0.1873 - acc: 0.929 - ETA: 0s - loss: 0.1874 - acc: 0.929 - ETA: 0s - loss: 0.1875 - acc: 0.929 - ETA: 0s - loss: 0.1871 - acc: 0.929 - ETA: 0s - loss: 0.1868 - acc: 0.929 - ETA: 0s - loss: 0.1875 - acc: 0.929 - ETA: 0s - loss: 0.1882 - acc: 0.929 - ETA: 0s - loss: 0.1879 - acc: 0.929 - 8s 2ms/step - loss: 0.1875 - acc: 0.9295 - val_loss: 0.2212 - val_acc: 0.9142\n",
      "\n",
      "Epoch 00019: val_loss did not improve from 0.16201\n",
      "Epoch 20/30\n",
      "3600/3600 [==============================] - ETA: 8s - loss: 0.1058 - acc: 0.972 - ETA: 7s - loss: 0.3017 - acc: 0.899 - ETA: 7s - loss: 0.2929 - acc: 0.888 - ETA: 7s - loss: 0.2754 - acc: 0.898 - ETA: 7s - loss: 0.2516 - acc: 0.908 - ETA: 7s - loss: 0.2311 - acc: 0.918 - ETA: 7s - loss: 0.2323 - acc: 0.916 - ETA: 7s - loss: 0.2127 - acc: 0.924 - ETA: 7s - loss: 0.2099 - acc: 0.926 - ETA: 7s - loss: 0.2240 - acc: 0.920 - ETA: 7s - loss: 0.2171 - acc: 0.923 - ETA: 7s - loss: 0.2111 - acc: 0.925 - ETA: 7s - loss: 0.2193 - acc: 0.924 - ETA: 7s - loss: 0.2171 - acc: 0.925 - ETA: 7s - loss: 0.2274 - acc: 0.918 - ETA: 7s - loss: 0.2222 - acc: 0.921 - ETA: 7s - loss: 0.2219 - acc: 0.920 - ETA: 7s - loss: 0.2174 - acc: 0.922 - ETA: 7s - loss: 0.2145 - acc: 0.922 - ETA: 6s - loss: 0.2146 - acc: 0.922 - ETA: 6s - loss: 0.2238 - acc: 0.918 - ETA: 6s - loss: 0.2221 - acc: 0.919 - ETA: 6s - loss: 0.2170 - acc: 0.921 - ETA: 6s - loss: 0.2150 - acc: 0.922 - ETA: 6s - loss: 0.2129 - acc: 0.923 - ETA: 6s - loss: 0.2118 - acc: 0.924 - ETA: 6s - loss: 0.2094 - acc: 0.924 - ETA: 6s - loss: 0.2091 - acc: 0.924 - ETA: 6s - loss: 0.2076 - acc: 0.925 - ETA: 6s - loss: 0.2069 - acc: 0.924 - ETA: 6s - loss: 0.2058 - acc: 0.924 - ETA: 6s - loss: 0.2022 - acc: 0.926 - ETA: 6s - loss: 0.1980 - acc: 0.928 - ETA: 6s - loss: 0.1963 - acc: 0.928 - ETA: 6s - loss: 0.1960 - acc: 0.928 - ETA: 6s - loss: 0.1948 - acc: 0.929 - ETA: 5s - loss: 0.1937 - acc: 0.930 - ETA: 5s - loss: 0.1901 - acc: 0.931 - ETA: 5s - loss: 0.1876 - acc: 0.932 - ETA: 5s - loss: 0.1859 - acc: 0.933 - ETA: 5s - loss: 0.1838 - acc: 0.933 - ETA: 5s - loss: 0.1850 - acc: 0.933 - ETA: 5s - loss: 0.1879 - acc: 0.932 - ETA: 5s - loss: 0.1877 - acc: 0.932 - ETA: 5s - loss: 0.1872 - acc: 0.932 - ETA: 5s - loss: 0.1873 - acc: 0.932 - ETA: 5s - loss: 0.1871 - acc: 0.932 - ETA: 5s - loss: 0.1870 - acc: 0.932 - ETA: 5s - loss: 0.1867 - acc: 0.932 - ETA: 5s - loss: 0.1852 - acc: 0.933 - ETA: 5s - loss: 0.1852 - acc: 0.933 - ETA: 5s - loss: 0.1843 - acc: 0.933 - ETA: 5s - loss: 0.1854 - acc: 0.933 - ETA: 4s - loss: 0.1836 - acc: 0.933 - ETA: 4s - loss: 0.1835 - acc: 0.933 - ETA: 4s - loss: 0.1838 - acc: 0.933 - ETA: 4s - loss: 0.1828 - acc: 0.934 - ETA: 4s - loss: 0.1840 - acc: 0.933 - ETA: 4s - loss: 0.1848 - acc: 0.932 - ETA: 4s - loss: 0.1836 - acc: 0.933 - ETA: 4s - loss: 0.1824 - acc: 0.933 - ETA: 4s - loss: 0.1820 - acc: 0.933 - ETA: 4s - loss: 0.1833 - acc: 0.933 - ETA: 4s - loss: 0.1854 - acc: 0.933 - ETA: 4s - loss: 0.1838 - acc: 0.933 - ETA: 4s - loss: 0.1842 - acc: 0.933 - ETA: 4s - loss: 0.1829 - acc: 0.934 - ETA: 4s - loss: 0.1850 - acc: 0.932 - ETA: 4s - loss: 0.1845 - acc: 0.933 - ETA: 4s - loss: 0.1845 - acc: 0.933 - ETA: 4s - loss: 0.1854 - acc: 0.932 - ETA: 3s - loss: 0.1836 - acc: 0.933 - ETA: 3s - loss: 0.1836 - acc: 0.933 - ETA: 3s - loss: 0.1827 - acc: 0.933 - ETA: 3s - loss: 0.1829 - acc: 0.934 - ETA: 3s - loss: 0.1813 - acc: 0.934 - ETA: 3s - loss: 0.1803 - acc: 0.935 - ETA: 3s - loss: 0.1794 - acc: 0.935 - ETA: 3s - loss: 0.1794 - acc: 0.935 - ETA: 3s - loss: 0.1816 - acc: 0.934 - ETA: 3s - loss: 0.1806 - acc: 0.935 - ETA: 3s - loss: 0.1805 - acc: 0.934 - ETA: 3s - loss: 0.1804 - acc: 0.934 - ETA: 3s - loss: 0.1802 - acc: 0.934 - ETA: 3s - loss: 0.1803 - acc: 0.934 - ETA: 3s - loss: 0.1798 - acc: 0.934 - ETA: 3s - loss: 0.1791 - acc: 0.935 - ETA: 2s - loss: 0.1800 - acc: 0.934 - ETA: 2s - loss: 0.1802 - acc: 0.934 - ETA: 2s - loss: 0.1802 - acc: 0.934 - ETA: 2s - loss: 0.1809 - acc: 0.933 - ETA: 2s - loss: 0.1812 - acc: 0.933 - ETA: 2s - loss: 0.1830 - acc: 0.932 - ETA: 2s - loss: 0.1835 - acc: 0.932 - ETA: 2s - loss: 0.1837 - acc: 0.932 - ETA: 2s - loss: 0.1836 - acc: 0.932 - ETA: 2s - loss: 0.1837 - acc: 0.932 - ETA: 2s - loss: 0.1844 - acc: 0.931 - ETA: 2s - loss: 0.1841 - acc: 0.932 - ETA: 2s - loss: 0.1836 - acc: 0.932 - ETA: 2s - loss: 0.1835 - acc: 0.932 - ETA: 2s - loss: 0.1834 - acc: 0.932 - ETA: 2s - loss: 0.1827 - acc: 0.932 - ETA: 2s - loss: 0.1822 - acc: 0.932 - ETA: 2s - loss: 0.1815 - acc: 0.933 - ETA: 1s - loss: 0.1825 - acc: 0.932 - ETA: 1s - loss: 0.1830 - acc: 0.932 - ETA: 1s - loss: 0.1838 - acc: 0.932 - ETA: 1s - loss: 0.1836 - acc: 0.932 - ETA: 1s - loss: 0.1843 - acc: 0.931 - ETA: 1s - loss: 0.1838 - acc: 0.932 - ETA: 1s - loss: 0.1833 - acc: 0.932 - ETA: 1s - loss: 0.1828 - acc: 0.932 - ETA: 1s - loss: 0.1816 - acc: 0.932 - ETA: 1s - loss: 0.1821 - acc: 0.932 - ETA: 1s - loss: 0.1826 - acc: 0.932 - ETA: 1s - loss: 0.1824 - acc: 0.932 - ETA: 1s - loss: 0.1816 - acc: 0.932 - ETA: 1s - loss: 0.1815 - acc: 0.932 - ETA: 1s - loss: 0.1805 - acc: 0.932 - ETA: 1s - loss: 0.1810 - acc: 0.932 - ETA: 1s - loss: 0.1805 - acc: 0.932 - ETA: 0s - loss: 0.1802 - acc: 0.933 - ETA: 0s - loss: 0.1805 - acc: 0.932 - ETA: 0s - loss: 0.1812 - acc: 0.932 - ETA: 0s - loss: 0.1822 - acc: 0.932 - ETA: 0s - loss: 0.1814 - acc: 0.932 - ETA: 0s - loss: 0.1813 - acc: 0.932 - ETA: 0s - loss: 0.1809 - acc: 0.932 - ETA: 0s - loss: 0.1809 - acc: 0.932 - ETA: 0s - loss: 0.1808 - acc: 0.932 - ETA: 0s - loss: 0.1802 - acc: 0.932 - ETA: 0s - loss: 0.1801 - acc: 0.932 - ETA: 0s - loss: 0.1814 - acc: 0.932 - ETA: 0s - loss: 0.1812 - acc: 0.932 - ETA: 0s - loss: 0.1806 - acc: 0.932 - ETA: 0s - loss: 0.1807 - acc: 0.932 - ETA: 0s - loss: 0.1809 - acc: 0.932 - ETA: 0s - loss: 0.1807 - acc: 0.932 - ETA: 0s - loss: 0.1816 - acc: 0.932 - 8s 2ms/step - loss: 0.1814 - acc: 0.9321 - val_loss: 0.1653 - val_acc: 0.9434\n",
      "\n",
      "Epoch 00020: val_loss did not improve from 0.16201\n",
      "Epoch 21/30\n"
     ]
    },
    {
     "name": "stdout",
     "output_type": "stream",
     "text": [
      "3600/3600 [==============================] - ETA: 9s - loss: 0.1572 - acc: 0.906 - ETA: 8s - loss: 0.2299 - acc: 0.906 - ETA: 8s - loss: 0.1968 - acc: 0.920 - ETA: 7s - loss: 0.1997 - acc: 0.915 - ETA: 7s - loss: 0.1953 - acc: 0.916 - ETA: 7s - loss: 0.1905 - acc: 0.920 - ETA: 7s - loss: 0.1874 - acc: 0.922 - ETA: 7s - loss: 0.1774 - acc: 0.928 - ETA: 7s - loss: 0.1724 - acc: 0.931 - ETA: 7s - loss: 0.1797 - acc: 0.930 - ETA: 7s - loss: 0.1698 - acc: 0.935 - ETA: 7s - loss: 0.1645 - acc: 0.937 - ETA: 7s - loss: 0.1681 - acc: 0.936 - ETA: 7s - loss: 0.1716 - acc: 0.934 - ETA: 7s - loss: 0.1736 - acc: 0.933 - ETA: 7s - loss: 0.1766 - acc: 0.932 - ETA: 7s - loss: 0.1778 - acc: 0.931 - ETA: 7s - loss: 0.1784 - acc: 0.931 - ETA: 7s - loss: 0.1744 - acc: 0.933 - ETA: 7s - loss: 0.1704 - acc: 0.935 - ETA: 7s - loss: 0.1699 - acc: 0.935 - ETA: 7s - loss: 0.1710 - acc: 0.935 - ETA: 6s - loss: 0.1735 - acc: 0.935 - ETA: 6s - loss: 0.1706 - acc: 0.936 - ETA: 6s - loss: 0.1680 - acc: 0.937 - ETA: 6s - loss: 0.1679 - acc: 0.936 - ETA: 6s - loss: 0.1685 - acc: 0.936 - ETA: 6s - loss: 0.1703 - acc: 0.935 - ETA: 6s - loss: 0.1743 - acc: 0.933 - ETA: 6s - loss: 0.1732 - acc: 0.934 - ETA: 6s - loss: 0.1729 - acc: 0.934 - ETA: 6s - loss: 0.1728 - acc: 0.934 - ETA: 6s - loss: 0.1751 - acc: 0.934 - ETA: 6s - loss: 0.1766 - acc: 0.933 - ETA: 6s - loss: 0.1718 - acc: 0.935 - ETA: 6s - loss: 0.1689 - acc: 0.936 - ETA: 5s - loss: 0.1674 - acc: 0.937 - ETA: 5s - loss: 0.1669 - acc: 0.937 - ETA: 5s - loss: 0.1658 - acc: 0.937 - ETA: 5s - loss: 0.1678 - acc: 0.936 - ETA: 5s - loss: 0.1670 - acc: 0.936 - ETA: 5s - loss: 0.1690 - acc: 0.934 - ETA: 5s - loss: 0.1706 - acc: 0.934 - ETA: 5s - loss: 0.1719 - acc: 0.933 - ETA: 5s - loss: 0.1719 - acc: 0.933 - ETA: 5s - loss: 0.1731 - acc: 0.932 - ETA: 5s - loss: 0.1729 - acc: 0.932 - ETA: 5s - loss: 0.1738 - acc: 0.932 - ETA: 5s - loss: 0.1734 - acc: 0.932 - ETA: 5s - loss: 0.1745 - acc: 0.932 - ETA: 5s - loss: 0.1751 - acc: 0.931 - ETA: 5s - loss: 0.1731 - acc: 0.932 - ETA: 5s - loss: 0.1736 - acc: 0.932 - ETA: 5s - loss: 0.1721 - acc: 0.932 - ETA: 4s - loss: 0.1716 - acc: 0.932 - ETA: 4s - loss: 0.1726 - acc: 0.932 - ETA: 4s - loss: 0.1734 - acc: 0.932 - ETA: 4s - loss: 0.1739 - acc: 0.932 - ETA: 4s - loss: 0.1750 - acc: 0.932 - ETA: 4s - loss: 0.1742 - acc: 0.932 - ETA: 4s - loss: 0.1734 - acc: 0.933 - ETA: 4s - loss: 0.1737 - acc: 0.932 - ETA: 4s - loss: 0.1741 - acc: 0.932 - ETA: 4s - loss: 0.1736 - acc: 0.933 - ETA: 4s - loss: 0.1724 - acc: 0.933 - ETA: 4s - loss: 0.1725 - acc: 0.933 - ETA: 4s - loss: 0.1716 - acc: 0.934 - ETA: 4s - loss: 0.1712 - acc: 0.934 - ETA: 4s - loss: 0.1734 - acc: 0.933 - ETA: 4s - loss: 0.1722 - acc: 0.933 - ETA: 4s - loss: 0.1719 - acc: 0.933 - ETA: 4s - loss: 0.1710 - acc: 0.934 - ETA: 3s - loss: 0.1701 - acc: 0.934 - ETA: 3s - loss: 0.1730 - acc: 0.933 - ETA: 3s - loss: 0.1724 - acc: 0.933 - ETA: 3s - loss: 0.1732 - acc: 0.933 - ETA: 3s - loss: 0.1724 - acc: 0.933 - ETA: 3s - loss: 0.1712 - acc: 0.934 - ETA: 3s - loss: 0.1720 - acc: 0.933 - ETA: 3s - loss: 0.1723 - acc: 0.933 - ETA: 3s - loss: 0.1738 - acc: 0.933 - ETA: 3s - loss: 0.1741 - acc: 0.932 - ETA: 3s - loss: 0.1750 - acc: 0.932 - ETA: 3s - loss: 0.1750 - acc: 0.932 - ETA: 3s - loss: 0.1750 - acc: 0.932 - ETA: 3s - loss: 0.1745 - acc: 0.932 - ETA: 3s - loss: 0.1742 - acc: 0.932 - ETA: 3s - loss: 0.1734 - acc: 0.933 - ETA: 3s - loss: 0.1742 - acc: 0.932 - ETA: 2s - loss: 0.1736 - acc: 0.933 - ETA: 2s - loss: 0.1742 - acc: 0.932 - ETA: 2s - loss: 0.1732 - acc: 0.933 - ETA: 2s - loss: 0.1722 - acc: 0.933 - ETA: 2s - loss: 0.1720 - acc: 0.933 - ETA: 2s - loss: 0.1721 - acc: 0.933 - ETA: 2s - loss: 0.1727 - acc: 0.933 - ETA: 2s - loss: 0.1750 - acc: 0.932 - ETA: 2s - loss: 0.1745 - acc: 0.932 - ETA: 2s - loss: 0.1739 - acc: 0.933 - ETA: 2s - loss: 0.1735 - acc: 0.933 - ETA: 2s - loss: 0.1737 - acc: 0.933 - ETA: 2s - loss: 0.1734 - acc: 0.933 - ETA: 2s - loss: 0.1733 - acc: 0.933 - ETA: 2s - loss: 0.1726 - acc: 0.933 - ETA: 2s - loss: 0.1727 - acc: 0.933 - ETA: 2s - loss: 0.1724 - acc: 0.933 - ETA: 2s - loss: 0.1718 - acc: 0.934 - ETA: 2s - loss: 0.1719 - acc: 0.934 - ETA: 1s - loss: 0.1719 - acc: 0.934 - ETA: 1s - loss: 0.1716 - acc: 0.934 - ETA: 1s - loss: 0.1720 - acc: 0.934 - ETA: 1s - loss: 0.1723 - acc: 0.934 - ETA: 1s - loss: 0.1730 - acc: 0.933 - ETA: 1s - loss: 0.1731 - acc: 0.933 - ETA: 1s - loss: 0.1732 - acc: 0.933 - ETA: 1s - loss: 0.1728 - acc: 0.934 - ETA: 1s - loss: 0.1723 - acc: 0.934 - ETA: 1s - loss: 0.1729 - acc: 0.933 - ETA: 1s - loss: 0.1734 - acc: 0.933 - ETA: 1s - loss: 0.1732 - acc: 0.933 - ETA: 1s - loss: 0.1737 - acc: 0.933 - ETA: 1s - loss: 0.1739 - acc: 0.933 - ETA: 1s - loss: 0.1734 - acc: 0.933 - ETA: 1s - loss: 0.1738 - acc: 0.933 - ETA: 0s - loss: 0.1732 - acc: 0.933 - ETA: 0s - loss: 0.1732 - acc: 0.933 - ETA: 0s - loss: 0.1734 - acc: 0.933 - ETA: 0s - loss: 0.1737 - acc: 0.933 - ETA: 0s - loss: 0.1743 - acc: 0.933 - ETA: 0s - loss: 0.1739 - acc: 0.933 - ETA: 0s - loss: 0.1734 - acc: 0.934 - ETA: 0s - loss: 0.1731 - acc: 0.934 - ETA: 0s - loss: 0.1725 - acc: 0.934 - ETA: 0s - loss: 0.1718 - acc: 0.934 - ETA: 0s - loss: 0.1712 - acc: 0.935 - ETA: 0s - loss: 0.1708 - acc: 0.935 - ETA: 0s - loss: 0.1702 - acc: 0.935 - ETA: 0s - loss: 0.1704 - acc: 0.935 - ETA: 0s - loss: 0.1695 - acc: 0.935 - ETA: 0s - loss: 0.1690 - acc: 0.936 - ETA: 0s - loss: 0.1690 - acc: 0.936 - ETA: 0s - loss: 0.1693 - acc: 0.936 - 8s 2ms/step - loss: 0.1694 - acc: 0.9360 - val_loss: 0.1872 - val_acc: 0.9311\n",
      "\n",
      "Epoch 00021: val_loss did not improve from 0.16201\n",
      "Epoch 22/30\n",
      "3600/3600 [==============================] - ETA: 8s - loss: 0.1854 - acc: 0.933 - ETA: 7s - loss: 0.2805 - acc: 0.891 - ETA: 7s - loss: 0.2995 - acc: 0.876 - ETA: 7s - loss: 0.2710 - acc: 0.890 - ETA: 7s - loss: 0.2546 - acc: 0.896 - ETA: 7s - loss: 0.2574 - acc: 0.889 - ETA: 7s - loss: 0.2480 - acc: 0.895 - ETA: 7s - loss: 0.2290 - acc: 0.905 - ETA: 7s - loss: 0.2225 - acc: 0.907 - ETA: 7s - loss: 0.2078 - acc: 0.915 - ETA: 7s - loss: 0.1991 - acc: 0.919 - ETA: 7s - loss: 0.1983 - acc: 0.919 - ETA: 7s - loss: 0.1945 - acc: 0.920 - ETA: 7s - loss: 0.1908 - acc: 0.922 - ETA: 7s - loss: 0.1826 - acc: 0.926 - ETA: 7s - loss: 0.1840 - acc: 0.927 - ETA: 7s - loss: 0.1823 - acc: 0.927 - ETA: 7s - loss: 0.1939 - acc: 0.921 - ETA: 7s - loss: 0.1923 - acc: 0.922 - ETA: 7s - loss: 0.1884 - acc: 0.925 - ETA: 6s - loss: 0.1864 - acc: 0.925 - ETA: 6s - loss: 0.1866 - acc: 0.925 - ETA: 6s - loss: 0.1874 - acc: 0.925 - ETA: 6s - loss: 0.1873 - acc: 0.925 - ETA: 6s - loss: 0.1850 - acc: 0.927 - ETA: 6s - loss: 0.1812 - acc: 0.928 - ETA: 6s - loss: 0.1800 - acc: 0.929 - ETA: 6s - loss: 0.1847 - acc: 0.926 - ETA: 6s - loss: 0.1815 - acc: 0.928 - ETA: 6s - loss: 0.1796 - acc: 0.929 - ETA: 6s - loss: 0.1759 - acc: 0.930 - ETA: 6s - loss: 0.1746 - acc: 0.931 - ETA: 6s - loss: 0.1783 - acc: 0.929 - ETA: 6s - loss: 0.1839 - acc: 0.927 - ETA: 6s - loss: 0.1839 - acc: 0.927 - ETA: 6s - loss: 0.1874 - acc: 0.926 - ETA: 5s - loss: 0.1869 - acc: 0.926 - ETA: 5s - loss: 0.1855 - acc: 0.927 - ETA: 5s - loss: 0.1850 - acc: 0.927 - ETA: 5s - loss: 0.1855 - acc: 0.927 - ETA: 5s - loss: 0.1853 - acc: 0.927 - ETA: 5s - loss: 0.1840 - acc: 0.927 - ETA: 5s - loss: 0.1832 - acc: 0.928 - ETA: 5s - loss: 0.1836 - acc: 0.927 - ETA: 5s - loss: 0.1821 - acc: 0.928 - ETA: 5s - loss: 0.1808 - acc: 0.929 - ETA: 5s - loss: 0.1811 - acc: 0.929 - ETA: 5s - loss: 0.1819 - acc: 0.929 - ETA: 5s - loss: 0.1818 - acc: 0.929 - ETA: 5s - loss: 0.1814 - acc: 0.929 - ETA: 5s - loss: 0.1812 - acc: 0.928 - ETA: 5s - loss: 0.1814 - acc: 0.928 - ETA: 5s - loss: 0.1803 - acc: 0.929 - ETA: 5s - loss: 0.1795 - acc: 0.929 - ETA: 4s - loss: 0.1790 - acc: 0.929 - ETA: 4s - loss: 0.1775 - acc: 0.930 - ETA: 4s - loss: 0.1763 - acc: 0.931 - ETA: 4s - loss: 0.1755 - acc: 0.931 - ETA: 4s - loss: 0.1742 - acc: 0.932 - ETA: 4s - loss: 0.1752 - acc: 0.932 - ETA: 4s - loss: 0.1762 - acc: 0.931 - ETA: 4s - loss: 0.1750 - acc: 0.931 - ETA: 4s - loss: 0.1747 - acc: 0.931 - ETA: 4s - loss: 0.1742 - acc: 0.932 - ETA: 4s - loss: 0.1738 - acc: 0.932 - ETA: 4s - loss: 0.1739 - acc: 0.932 - ETA: 4s - loss: 0.1724 - acc: 0.932 - ETA: 4s - loss: 0.1731 - acc: 0.932 - ETA: 4s - loss: 0.1719 - acc: 0.933 - ETA: 4s - loss: 0.1718 - acc: 0.933 - ETA: 4s - loss: 0.1724 - acc: 0.932 - ETA: 4s - loss: 0.1710 - acc: 0.933 - ETA: 3s - loss: 0.1710 - acc: 0.933 - ETA: 3s - loss: 0.1706 - acc: 0.933 - ETA: 3s - loss: 0.1704 - acc: 0.933 - ETA: 3s - loss: 0.1713 - acc: 0.933 - ETA: 3s - loss: 0.1714 - acc: 0.933 - ETA: 3s - loss: 0.1710 - acc: 0.933 - ETA: 3s - loss: 0.1705 - acc: 0.933 - ETA: 3s - loss: 0.1702 - acc: 0.933 - ETA: 3s - loss: 0.1695 - acc: 0.933 - ETA: 3s - loss: 0.1689 - acc: 0.934 - ETA: 3s - loss: 0.1681 - acc: 0.934 - ETA: 3s - loss: 0.1684 - acc: 0.934 - ETA: 3s - loss: 0.1685 - acc: 0.934 - ETA: 3s - loss: 0.1672 - acc: 0.935 - ETA: 3s - loss: 0.1673 - acc: 0.934 - ETA: 3s - loss: 0.1677 - acc: 0.934 - ETA: 3s - loss: 0.1681 - acc: 0.934 - ETA: 2s - loss: 0.1682 - acc: 0.934 - ETA: 2s - loss: 0.1679 - acc: 0.934 - ETA: 2s - loss: 0.1673 - acc: 0.934 - ETA: 2s - loss: 0.1671 - acc: 0.934 - ETA: 2s - loss: 0.1675 - acc: 0.934 - ETA: 2s - loss: 0.1670 - acc: 0.935 - ETA: 2s - loss: 0.1665 - acc: 0.935 - ETA: 2s - loss: 0.1661 - acc: 0.935 - ETA: 2s - loss: 0.1666 - acc: 0.935 - ETA: 2s - loss: 0.1665 - acc: 0.935 - ETA: 2s - loss: 0.1663 - acc: 0.935 - ETA: 2s - loss: 0.1657 - acc: 0.935 - ETA: 2s - loss: 0.1658 - acc: 0.935 - ETA: 2s - loss: 0.1659 - acc: 0.935 - ETA: 2s - loss: 0.1653 - acc: 0.935 - ETA: 2s - loss: 0.1651 - acc: 0.935 - ETA: 2s - loss: 0.1652 - acc: 0.935 - ETA: 2s - loss: 0.1657 - acc: 0.935 - ETA: 2s - loss: 0.1653 - acc: 0.935 - ETA: 1s - loss: 0.1652 - acc: 0.935 - ETA: 1s - loss: 0.1651 - acc: 0.935 - ETA: 1s - loss: 0.1644 - acc: 0.936 - ETA: 1s - loss: 0.1643 - acc: 0.936 - ETA: 1s - loss: 0.1640 - acc: 0.936 - ETA: 1s - loss: 0.1630 - acc: 0.936 - ETA: 1s - loss: 0.1629 - acc: 0.936 - ETA: 1s - loss: 0.1625 - acc: 0.936 - ETA: 1s - loss: 0.1630 - acc: 0.936 - ETA: 1s - loss: 0.1626 - acc: 0.936 - ETA: 1s - loss: 0.1621 - acc: 0.937 - ETA: 1s - loss: 0.1636 - acc: 0.936 - ETA: 1s - loss: 0.1643 - acc: 0.936 - ETA: 1s - loss: 0.1646 - acc: 0.936 - ETA: 1s - loss: 0.1642 - acc: 0.936 - ETA: 1s - loss: 0.1644 - acc: 0.936 - ETA: 1s - loss: 0.1640 - acc: 0.936 - ETA: 1s - loss: 0.1639 - acc: 0.936 - ETA: 0s - loss: 0.1643 - acc: 0.936 - ETA: 0s - loss: 0.1645 - acc: 0.936 - ETA: 0s - loss: 0.1646 - acc: 0.936 - ETA: 0s - loss: 0.1643 - acc: 0.936 - ETA: 0s - loss: 0.1640 - acc: 0.936 - ETA: 0s - loss: 0.1650 - acc: 0.935 - ETA: 0s - loss: 0.1647 - acc: 0.936 - ETA: 0s - loss: 0.1649 - acc: 0.935 - ETA: 0s - loss: 0.1647 - acc: 0.936 - ETA: 0s - loss: 0.1651 - acc: 0.935 - ETA: 0s - loss: 0.1645 - acc: 0.935 - ETA: 0s - loss: 0.1646 - acc: 0.935 - ETA: 0s - loss: 0.1640 - acc: 0.936 - ETA: 0s - loss: 0.1642 - acc: 0.936 - ETA: 0s - loss: 0.1651 - acc: 0.935 - ETA: 0s - loss: 0.1648 - acc: 0.935 - ETA: 0s - loss: 0.1647 - acc: 0.935 - ETA: 0s - loss: 0.1646 - acc: 0.935 - 8s 2ms/step - loss: 0.1649 - acc: 0.9357 - val_loss: 0.1527 - val_acc: 0.9444\n",
      "\n",
      "Epoch 00022: val_loss improved from 0.16201 to 0.15268, saving model to model-tgs-salt-1.h5\n",
      "Epoch 23/30\n"
     ]
    },
    {
     "name": "stdout",
     "output_type": "stream",
     "text": [
      "3600/3600 [==============================] - ETA: 8s - loss: 0.1387 - acc: 0.946 - ETA: 8s - loss: 0.1130 - acc: 0.955 - ETA: 8s - loss: 0.1349 - acc: 0.947 - ETA: 8s - loss: 0.1538 - acc: 0.939 - ETA: 8s - loss: 0.1593 - acc: 0.937 - ETA: 7s - loss: 0.1476 - acc: 0.942 - ETA: 7s - loss: 0.1387 - acc: 0.948 - ETA: 7s - loss: 0.1279 - acc: 0.953 - ETA: 7s - loss: 0.1292 - acc: 0.949 - ETA: 7s - loss: 0.1212 - acc: 0.953 - ETA: 7s - loss: 0.1195 - acc: 0.954 - ETA: 7s - loss: 0.1180 - acc: 0.954 - ETA: 7s - loss: 0.1151 - acc: 0.956 - ETA: 7s - loss: 0.1281 - acc: 0.949 - ETA: 7s - loss: 0.1286 - acc: 0.948 - ETA: 7s - loss: 0.1337 - acc: 0.946 - ETA: 7s - loss: 0.1366 - acc: 0.945 - ETA: 7s - loss: 0.1417 - acc: 0.942 - ETA: 6s - loss: 0.1432 - acc: 0.941 - ETA: 6s - loss: 0.1422 - acc: 0.941 - ETA: 6s - loss: 0.1417 - acc: 0.942 - ETA: 6s - loss: 0.1390 - acc: 0.944 - ETA: 6s - loss: 0.1375 - acc: 0.945 - ETA: 6s - loss: 0.1406 - acc: 0.945 - ETA: 6s - loss: 0.1424 - acc: 0.944 - ETA: 6s - loss: 0.1495 - acc: 0.941 - ETA: 6s - loss: 0.1494 - acc: 0.941 - ETA: 6s - loss: 0.1501 - acc: 0.941 - ETA: 6s - loss: 0.1521 - acc: 0.941 - ETA: 6s - loss: 0.1495 - acc: 0.943 - ETA: 6s - loss: 0.1562 - acc: 0.939 - ETA: 6s - loss: 0.1570 - acc: 0.939 - ETA: 6s - loss: 0.1565 - acc: 0.940 - ETA: 6s - loss: 0.1543 - acc: 0.941 - ETA: 6s - loss: 0.1549 - acc: 0.941 - ETA: 6s - loss: 0.1578 - acc: 0.940 - ETA: 6s - loss: 0.1621 - acc: 0.938 - ETA: 6s - loss: 0.1618 - acc: 0.938 - ETA: 6s - loss: 0.1616 - acc: 0.938 - ETA: 5s - loss: 0.1613 - acc: 0.938 - ETA: 5s - loss: 0.1615 - acc: 0.938 - ETA: 5s - loss: 0.1625 - acc: 0.937 - ETA: 5s - loss: 0.1633 - acc: 0.936 - ETA: 5s - loss: 0.1629 - acc: 0.936 - ETA: 5s - loss: 0.1646 - acc: 0.936 - ETA: 5s - loss: 0.1628 - acc: 0.937 - ETA: 5s - loss: 0.1609 - acc: 0.938 - ETA: 5s - loss: 0.1602 - acc: 0.938 - ETA: 5s - loss: 0.1595 - acc: 0.938 - ETA: 5s - loss: 0.1602 - acc: 0.938 - ETA: 5s - loss: 0.1591 - acc: 0.938 - ETA: 5s - loss: 0.1593 - acc: 0.938 - ETA: 5s - loss: 0.1591 - acc: 0.938 - ETA: 5s - loss: 0.1592 - acc: 0.938 - ETA: 5s - loss: 0.1593 - acc: 0.938 - ETA: 5s - loss: 0.1586 - acc: 0.938 - ETA: 4s - loss: 0.1575 - acc: 0.939 - ETA: 4s - loss: 0.1580 - acc: 0.939 - ETA: 4s - loss: 0.1579 - acc: 0.939 - ETA: 4s - loss: 0.1568 - acc: 0.939 - ETA: 4s - loss: 0.1547 - acc: 0.940 - ETA: 4s - loss: 0.1540 - acc: 0.940 - ETA: 4s - loss: 0.1544 - acc: 0.940 - ETA: 4s - loss: 0.1546 - acc: 0.940 - ETA: 4s - loss: 0.1536 - acc: 0.941 - ETA: 4s - loss: 0.1528 - acc: 0.941 - ETA: 4s - loss: 0.1519 - acc: 0.941 - ETA: 4s - loss: 0.1550 - acc: 0.940 - ETA: 4s - loss: 0.1536 - acc: 0.941 - ETA: 4s - loss: 0.1526 - acc: 0.941 - ETA: 3s - loss: 0.1522 - acc: 0.941 - ETA: 3s - loss: 0.1549 - acc: 0.940 - ETA: 3s - loss: 0.1547 - acc: 0.940 - ETA: 3s - loss: 0.1556 - acc: 0.940 - ETA: 3s - loss: 0.1550 - acc: 0.940 - ETA: 3s - loss: 0.1546 - acc: 0.940 - ETA: 3s - loss: 0.1547 - acc: 0.940 - ETA: 3s - loss: 0.1550 - acc: 0.940 - ETA: 3s - loss: 0.1557 - acc: 0.939 - ETA: 3s - loss: 0.1566 - acc: 0.939 - ETA: 3s - loss: 0.1561 - acc: 0.939 - ETA: 3s - loss: 0.1560 - acc: 0.939 - ETA: 3s - loss: 0.1569 - acc: 0.938 - ETA: 3s - loss: 0.1579 - acc: 0.938 - ETA: 3s - loss: 0.1582 - acc: 0.938 - ETA: 3s - loss: 0.1579 - acc: 0.938 - ETA: 3s - loss: 0.1568 - acc: 0.939 - ETA: 3s - loss: 0.1561 - acc: 0.939 - ETA: 3s - loss: 0.1556 - acc: 0.939 - ETA: 3s - loss: 0.1561 - acc: 0.939 - ETA: 2s - loss: 0.1578 - acc: 0.938 - ETA: 2s - loss: 0.1575 - acc: 0.938 - ETA: 2s - loss: 0.1573 - acc: 0.938 - ETA: 2s - loss: 0.1566 - acc: 0.939 - ETA: 2s - loss: 0.1579 - acc: 0.938 - ETA: 2s - loss: 0.1593 - acc: 0.938 - ETA: 2s - loss: 0.1591 - acc: 0.938 - ETA: 2s - loss: 0.1594 - acc: 0.937 - ETA: 2s - loss: 0.1596 - acc: 0.937 - ETA: 2s - loss: 0.1586 - acc: 0.938 - ETA: 2s - loss: 0.1580 - acc: 0.938 - ETA: 2s - loss: 0.1575 - acc: 0.938 - ETA: 2s - loss: 0.1607 - acc: 0.937 - ETA: 2s - loss: 0.1611 - acc: 0.937 - ETA: 2s - loss: 0.1606 - acc: 0.937 - ETA: 2s - loss: 0.1603 - acc: 0.938 - ETA: 1s - loss: 0.1599 - acc: 0.938 - ETA: 1s - loss: 0.1602 - acc: 0.938 - ETA: 1s - loss: 0.1597 - acc: 0.938 - ETA: 1s - loss: 0.1599 - acc: 0.938 - ETA: 1s - loss: 0.1591 - acc: 0.938 - ETA: 1s - loss: 0.1592 - acc: 0.938 - ETA: 1s - loss: 0.1589 - acc: 0.938 - ETA: 1s - loss: 0.1586 - acc: 0.938 - ETA: 1s - loss: 0.1591 - acc: 0.938 - ETA: 1s - loss: 0.1590 - acc: 0.938 - ETA: 1s - loss: 0.1591 - acc: 0.938 - ETA: 1s - loss: 0.1595 - acc: 0.938 - ETA: 1s - loss: 0.1604 - acc: 0.937 - ETA: 1s - loss: 0.1614 - acc: 0.937 - ETA: 1s - loss: 0.1615 - acc: 0.937 - ETA: 1s - loss: 0.1627 - acc: 0.936 - ETA: 1s - loss: 0.1627 - acc: 0.936 - ETA: 0s - loss: 0.1622 - acc: 0.936 - ETA: 0s - loss: 0.1621 - acc: 0.936 - ETA: 0s - loss: 0.1619 - acc: 0.936 - ETA: 0s - loss: 0.1625 - acc: 0.936 - ETA: 0s - loss: 0.1625 - acc: 0.936 - ETA: 0s - loss: 0.1622 - acc: 0.936 - ETA: 0s - loss: 0.1617 - acc: 0.936 - ETA: 0s - loss: 0.1624 - acc: 0.936 - ETA: 0s - loss: 0.1620 - acc: 0.936 - ETA: 0s - loss: 0.1617 - acc: 0.936 - ETA: 0s - loss: 0.1616 - acc: 0.936 - ETA: 0s - loss: 0.1613 - acc: 0.937 - ETA: 0s - loss: 0.1608 - acc: 0.937 - ETA: 0s - loss: 0.1609 - acc: 0.937 - ETA: 0s - loss: 0.1614 - acc: 0.937 - ETA: 0s - loss: 0.1612 - acc: 0.937 - ETA: 0s - loss: 0.1610 - acc: 0.937 - ETA: 0s - loss: 0.1611 - acc: 0.937 - 8s 2ms/step - loss: 0.1607 - acc: 0.9375 - val_loss: 0.1507 - val_acc: 0.9461\n",
      "\n",
      "Epoch 00023: val_loss improved from 0.15268 to 0.15069, saving model to model-tgs-salt-1.h5\n",
      "Epoch 24/30\n",
      "3600/3600 [==============================] - ETA: 8s - loss: 0.1281 - acc: 0.951 - ETA: 7s - loss: 0.3686 - acc: 0.876 - ETA: 8s - loss: 0.2857 - acc: 0.903 - ETA: 7s - loss: 0.2608 - acc: 0.905 - ETA: 7s - loss: 0.2269 - acc: 0.922 - ETA: 7s - loss: 0.2123 - acc: 0.929 - ETA: 7s - loss: 0.1970 - acc: 0.935 - ETA: 7s - loss: 0.1924 - acc: 0.937 - ETA: 7s - loss: 0.1923 - acc: 0.933 - ETA: 7s - loss: 0.1818 - acc: 0.937 - ETA: 7s - loss: 0.1769 - acc: 0.938 - ETA: 7s - loss: 0.1703 - acc: 0.940 - ETA: 7s - loss: 0.1707 - acc: 0.941 - ETA: 6s - loss: 0.1744 - acc: 0.939 - ETA: 6s - loss: 0.1701 - acc: 0.940 - ETA: 6s - loss: 0.1748 - acc: 0.939 - ETA: 6s - loss: 0.1816 - acc: 0.935 - ETA: 6s - loss: 0.1771 - acc: 0.937 - ETA: 6s - loss: 0.1759 - acc: 0.937 - ETA: 6s - loss: 0.1746 - acc: 0.937 - ETA: 6s - loss: 0.1759 - acc: 0.936 - ETA: 6s - loss: 0.1706 - acc: 0.939 - ETA: 6s - loss: 0.1672 - acc: 0.940 - ETA: 6s - loss: 0.1679 - acc: 0.940 - ETA: 6s - loss: 0.1686 - acc: 0.939 - ETA: 6s - loss: 0.1678 - acc: 0.939 - ETA: 6s - loss: 0.1655 - acc: 0.940 - ETA: 6s - loss: 0.1643 - acc: 0.940 - ETA: 6s - loss: 0.1680 - acc: 0.938 - ETA: 6s - loss: 0.1666 - acc: 0.939 - ETA: 6s - loss: 0.1656 - acc: 0.939 - ETA: 6s - loss: 0.1635 - acc: 0.940 - ETA: 6s - loss: 0.1619 - acc: 0.940 - ETA: 6s - loss: 0.1634 - acc: 0.940 - ETA: 6s - loss: 0.1650 - acc: 0.939 - ETA: 5s - loss: 0.1660 - acc: 0.939 - ETA: 5s - loss: 0.1665 - acc: 0.938 - ETA: 5s - loss: 0.1671 - acc: 0.938 - ETA: 5s - loss: 0.1669 - acc: 0.938 - ETA: 5s - loss: 0.1660 - acc: 0.938 - ETA: 5s - loss: 0.1643 - acc: 0.939 - ETA: 5s - loss: 0.1629 - acc: 0.940 - ETA: 5s - loss: 0.1605 - acc: 0.941 - ETA: 5s - loss: 0.1581 - acc: 0.942 - ETA: 5s - loss: 0.1565 - acc: 0.943 - ETA: 5s - loss: 0.1571 - acc: 0.942 - ETA: 5s - loss: 0.1577 - acc: 0.942 - ETA: 5s - loss: 0.1573 - acc: 0.942 - ETA: 5s - loss: 0.1580 - acc: 0.942 - ETA: 5s - loss: 0.1570 - acc: 0.942 - ETA: 5s - loss: 0.1575 - acc: 0.942 - ETA: 5s - loss: 0.1584 - acc: 0.941 - ETA: 4s - loss: 0.1574 - acc: 0.941 - ETA: 4s - loss: 0.1555 - acc: 0.942 - ETA: 4s - loss: 0.1594 - acc: 0.940 - ETA: 4s - loss: 0.1583 - acc: 0.940 - ETA: 4s - loss: 0.1574 - acc: 0.941 - ETA: 4s - loss: 0.1564 - acc: 0.941 - ETA: 4s - loss: 0.1564 - acc: 0.942 - ETA: 4s - loss: 0.1562 - acc: 0.941 - ETA: 4s - loss: 0.1552 - acc: 0.942 - ETA: 4s - loss: 0.1554 - acc: 0.942 - ETA: 4s - loss: 0.1561 - acc: 0.941 - ETA: 4s - loss: 0.1554 - acc: 0.942 - ETA: 4s - loss: 0.1558 - acc: 0.941 - ETA: 4s - loss: 0.1550 - acc: 0.942 - ETA: 4s - loss: 0.1546 - acc: 0.942 - ETA: 4s - loss: 0.1542 - acc: 0.942 - ETA: 4s - loss: 0.1552 - acc: 0.941 - ETA: 4s - loss: 0.1553 - acc: 0.941 - ETA: 3s - loss: 0.1548 - acc: 0.942 - ETA: 3s - loss: 0.1550 - acc: 0.941 - ETA: 3s - loss: 0.1546 - acc: 0.942 - ETA: 3s - loss: 0.1554 - acc: 0.941 - ETA: 3s - loss: 0.1546 - acc: 0.942 - ETA: 3s - loss: 0.1548 - acc: 0.942 - ETA: 3s - loss: 0.1553 - acc: 0.941 - ETA: 3s - loss: 0.1562 - acc: 0.941 - ETA: 3s - loss: 0.1555 - acc: 0.941 - ETA: 3s - loss: 0.1547 - acc: 0.942 - ETA: 3s - loss: 0.1553 - acc: 0.941 - ETA: 3s - loss: 0.1552 - acc: 0.941 - ETA: 3s - loss: 0.1569 - acc: 0.941 - ETA: 3s - loss: 0.1571 - acc: 0.941 - ETA: 3s - loss: 0.1564 - acc: 0.941 - ETA: 3s - loss: 0.1562 - acc: 0.941 - ETA: 3s - loss: 0.1551 - acc: 0.942 - ETA: 2s - loss: 0.1551 - acc: 0.942 - ETA: 2s - loss: 0.1552 - acc: 0.941 - ETA: 2s - loss: 0.1552 - acc: 0.941 - ETA: 2s - loss: 0.1554 - acc: 0.941 - ETA: 2s - loss: 0.1562 - acc: 0.941 - ETA: 2s - loss: 0.1554 - acc: 0.941 - ETA: 2s - loss: 0.1556 - acc: 0.941 - ETA: 2s - loss: 0.1558 - acc: 0.940 - ETA: 2s - loss: 0.1559 - acc: 0.940 - ETA: 2s - loss: 0.1572 - acc: 0.940 - ETA: 2s - loss: 0.1562 - acc: 0.941 - ETA: 2s - loss: 0.1558 - acc: 0.941 - ETA: 2s - loss: 0.1549 - acc: 0.941 - ETA: 2s - loss: 0.1549 - acc: 0.941 - ETA: 2s - loss: 0.1544 - acc: 0.941 - ETA: 2s - loss: 0.1545 - acc: 0.941 - ETA: 2s - loss: 0.1546 - acc: 0.941 - ETA: 1s - loss: 0.1538 - acc: 0.942 - ETA: 1s - loss: 0.1532 - acc: 0.942 - ETA: 1s - loss: 0.1533 - acc: 0.942 - ETA: 1s - loss: 0.1536 - acc: 0.942 - ETA: 1s - loss: 0.1532 - acc: 0.942 - ETA: 1s - loss: 0.1537 - acc: 0.942 - ETA: 1s - loss: 0.1543 - acc: 0.942 - ETA: 1s - loss: 0.1548 - acc: 0.942 - ETA: 1s - loss: 0.1550 - acc: 0.942 - ETA: 1s - loss: 0.1561 - acc: 0.941 - ETA: 1s - loss: 0.1563 - acc: 0.941 - ETA: 1s - loss: 0.1568 - acc: 0.941 - ETA: 1s - loss: 0.1570 - acc: 0.941 - ETA: 1s - loss: 0.1574 - acc: 0.941 - ETA: 1s - loss: 0.1567 - acc: 0.941 - ETA: 1s - loss: 0.1568 - acc: 0.941 - ETA: 1s - loss: 0.1564 - acc: 0.941 - ETA: 1s - loss: 0.1568 - acc: 0.941 - ETA: 0s - loss: 0.1563 - acc: 0.941 - ETA: 0s - loss: 0.1567 - acc: 0.941 - ETA: 0s - loss: 0.1566 - acc: 0.941 - ETA: 0s - loss: 0.1560 - acc: 0.941 - ETA: 0s - loss: 0.1557 - acc: 0.941 - ETA: 0s - loss: 0.1556 - acc: 0.941 - ETA: 0s - loss: 0.1551 - acc: 0.942 - ETA: 0s - loss: 0.1548 - acc: 0.942 - ETA: 0s - loss: 0.1546 - acc: 0.942 - ETA: 0s - loss: 0.1545 - acc: 0.942 - ETA: 0s - loss: 0.1545 - acc: 0.942 - ETA: 0s - loss: 0.1539 - acc: 0.942 - ETA: 0s - loss: 0.1538 - acc: 0.942 - ETA: 0s - loss: 0.1533 - acc: 0.942 - ETA: 0s - loss: 0.1542 - acc: 0.942 - ETA: 0s - loss: 0.1551 - acc: 0.942 - ETA: 0s - loss: 0.1552 - acc: 0.942 - ETA: 0s - loss: 0.1559 - acc: 0.941 - ETA: 0s - loss: 0.1560 - acc: 0.941 - 8s 2ms/step - loss: 0.1560 - acc: 0.9414 - val_loss: 0.1686 - val_acc: 0.9408\n",
      "\n",
      "Epoch 00024: val_loss did not improve from 0.15069\n",
      "Epoch 25/30\n"
     ]
    },
    {
     "name": "stdout",
     "output_type": "stream",
     "text": [
      "3600/3600 [==============================] - ETA: 8s - loss: 0.1950 - acc: 0.922 - ETA: 8s - loss: 0.1717 - acc: 0.932 - ETA: 8s - loss: 0.1714 - acc: 0.928 - ETA: 7s - loss: 0.1546 - acc: 0.936 - ETA: 7s - loss: 0.1513 - acc: 0.941 - ETA: 7s - loss: 0.1523 - acc: 0.939 - ETA: 7s - loss: 0.1582 - acc: 0.937 - ETA: 7s - loss: 0.1498 - acc: 0.940 - ETA: 7s - loss: 0.1431 - acc: 0.943 - ETA: 7s - loss: 0.1453 - acc: 0.942 - ETA: 7s - loss: 0.1475 - acc: 0.940 - ETA: 7s - loss: 0.1512 - acc: 0.938 - ETA: 6s - loss: 0.1461 - acc: 0.941 - ETA: 6s - loss: 0.1480 - acc: 0.939 - ETA: 6s - loss: 0.1473 - acc: 0.939 - ETA: 6s - loss: 0.1482 - acc: 0.938 - ETA: 6s - loss: 0.1477 - acc: 0.937 - ETA: 6s - loss: 0.1451 - acc: 0.939 - ETA: 6s - loss: 0.1431 - acc: 0.940 - ETA: 6s - loss: 0.1391 - acc: 0.942 - ETA: 6s - loss: 0.1397 - acc: 0.942 - ETA: 6s - loss: 0.1365 - acc: 0.944 - ETA: 6s - loss: 0.1360 - acc: 0.944 - ETA: 6s - loss: 0.1363 - acc: 0.944 - ETA: 6s - loss: 0.1372 - acc: 0.944 - ETA: 6s - loss: 0.1368 - acc: 0.945 - ETA: 6s - loss: 0.1358 - acc: 0.945 - ETA: 6s - loss: 0.1394 - acc: 0.944 - ETA: 6s - loss: 0.1415 - acc: 0.943 - ETA: 6s - loss: 0.1448 - acc: 0.942 - ETA: 6s - loss: 0.1444 - acc: 0.942 - ETA: 6s - loss: 0.1425 - acc: 0.943 - ETA: 6s - loss: 0.1457 - acc: 0.941 - ETA: 6s - loss: 0.1439 - acc: 0.942 - ETA: 5s - loss: 0.1447 - acc: 0.942 - ETA: 5s - loss: 0.1446 - acc: 0.942 - ETA: 5s - loss: 0.1437 - acc: 0.942 - ETA: 5s - loss: 0.1460 - acc: 0.942 - ETA: 5s - loss: 0.1458 - acc: 0.942 - ETA: 5s - loss: 0.1437 - acc: 0.943 - ETA: 5s - loss: 0.1441 - acc: 0.942 - ETA: 5s - loss: 0.1444 - acc: 0.943 - ETA: 5s - loss: 0.1447 - acc: 0.942 - ETA: 5s - loss: 0.1458 - acc: 0.941 - ETA: 5s - loss: 0.1548 - acc: 0.938 - ETA: 5s - loss: 0.1551 - acc: 0.938 - ETA: 5s - loss: 0.1567 - acc: 0.937 - ETA: 5s - loss: 0.1575 - acc: 0.937 - ETA: 5s - loss: 0.1577 - acc: 0.937 - ETA: 5s - loss: 0.1602 - acc: 0.936 - ETA: 4s - loss: 0.1614 - acc: 0.936 - ETA: 4s - loss: 0.1604 - acc: 0.936 - ETA: 4s - loss: 0.1590 - acc: 0.937 - ETA: 4s - loss: 0.1584 - acc: 0.937 - ETA: 4s - loss: 0.1575 - acc: 0.938 - ETA: 4s - loss: 0.1565 - acc: 0.938 - ETA: 4s - loss: 0.1570 - acc: 0.938 - ETA: 4s - loss: 0.1566 - acc: 0.938 - ETA: 4s - loss: 0.1564 - acc: 0.938 - ETA: 4s - loss: 0.1556 - acc: 0.938 - ETA: 4s - loss: 0.1563 - acc: 0.938 - ETA: 4s - loss: 0.1568 - acc: 0.937 - ETA: 4s - loss: 0.1562 - acc: 0.938 - ETA: 4s - loss: 0.1548 - acc: 0.938 - ETA: 4s - loss: 0.1555 - acc: 0.938 - ETA: 4s - loss: 0.1558 - acc: 0.938 - ETA: 4s - loss: 0.1549 - acc: 0.938 - ETA: 3s - loss: 0.1550 - acc: 0.938 - ETA: 3s - loss: 0.1555 - acc: 0.938 - ETA: 3s - loss: 0.1561 - acc: 0.938 - ETA: 3s - loss: 0.1559 - acc: 0.938 - ETA: 3s - loss: 0.1566 - acc: 0.938 - ETA: 3s - loss: 0.1554 - acc: 0.938 - ETA: 3s - loss: 0.1555 - acc: 0.939 - ETA: 3s - loss: 0.1547 - acc: 0.939 - ETA: 3s - loss: 0.1545 - acc: 0.939 - ETA: 3s - loss: 0.1551 - acc: 0.939 - ETA: 3s - loss: 0.1550 - acc: 0.939 - ETA: 3s - loss: 0.1541 - acc: 0.939 - ETA: 3s - loss: 0.1537 - acc: 0.939 - ETA: 3s - loss: 0.1537 - acc: 0.939 - ETA: 3s - loss: 0.1532 - acc: 0.939 - ETA: 3s - loss: 0.1528 - acc: 0.939 - ETA: 3s - loss: 0.1530 - acc: 0.939 - ETA: 3s - loss: 0.1530 - acc: 0.940 - ETA: 3s - loss: 0.1524 - acc: 0.940 - ETA: 2s - loss: 0.1541 - acc: 0.940 - ETA: 2s - loss: 0.1549 - acc: 0.939 - ETA: 2s - loss: 0.1548 - acc: 0.940 - ETA: 2s - loss: 0.1549 - acc: 0.940 - ETA: 2s - loss: 0.1546 - acc: 0.940 - ETA: 2s - loss: 0.1540 - acc: 0.940 - ETA: 2s - loss: 0.1553 - acc: 0.940 - ETA: 2s - loss: 0.1552 - acc: 0.940 - ETA: 2s - loss: 0.1541 - acc: 0.940 - ETA: 2s - loss: 0.1543 - acc: 0.940 - ETA: 2s - loss: 0.1546 - acc: 0.940 - ETA: 2s - loss: 0.1546 - acc: 0.940 - ETA: 2s - loss: 0.1542 - acc: 0.940 - ETA: 2s - loss: 0.1542 - acc: 0.940 - ETA: 2s - loss: 0.1545 - acc: 0.940 - ETA: 2s - loss: 0.1538 - acc: 0.941 - ETA: 2s - loss: 0.1535 - acc: 0.941 - ETA: 1s - loss: 0.1543 - acc: 0.940 - ETA: 1s - loss: 0.1542 - acc: 0.941 - ETA: 1s - loss: 0.1548 - acc: 0.940 - ETA: 1s - loss: 0.1549 - acc: 0.940 - ETA: 1s - loss: 0.1549 - acc: 0.940 - ETA: 1s - loss: 0.1547 - acc: 0.940 - ETA: 1s - loss: 0.1544 - acc: 0.940 - ETA: 1s - loss: 0.1541 - acc: 0.941 - ETA: 1s - loss: 0.1549 - acc: 0.940 - ETA: 1s - loss: 0.1546 - acc: 0.941 - ETA: 1s - loss: 0.1544 - acc: 0.941 - ETA: 1s - loss: 0.1542 - acc: 0.941 - ETA: 1s - loss: 0.1541 - acc: 0.941 - ETA: 1s - loss: 0.1534 - acc: 0.941 - ETA: 1s - loss: 0.1535 - acc: 0.941 - ETA: 1s - loss: 0.1532 - acc: 0.941 - ETA: 1s - loss: 0.1539 - acc: 0.941 - ETA: 1s - loss: 0.1534 - acc: 0.941 - ETA: 0s - loss: 0.1541 - acc: 0.941 - ETA: 0s - loss: 0.1545 - acc: 0.941 - ETA: 0s - loss: 0.1545 - acc: 0.941 - ETA: 0s - loss: 0.1541 - acc: 0.941 - ETA: 0s - loss: 0.1532 - acc: 0.941 - ETA: 0s - loss: 0.1535 - acc: 0.941 - ETA: 0s - loss: 0.1533 - acc: 0.941 - ETA: 0s - loss: 0.1538 - acc: 0.941 - ETA: 0s - loss: 0.1538 - acc: 0.941 - ETA: 0s - loss: 0.1541 - acc: 0.941 - ETA: 0s - loss: 0.1541 - acc: 0.941 - ETA: 0s - loss: 0.1538 - acc: 0.941 - ETA: 0s - loss: 0.1533 - acc: 0.941 - ETA: 0s - loss: 0.1528 - acc: 0.941 - ETA: 0s - loss: 0.1539 - acc: 0.941 - ETA: 0s - loss: 0.1537 - acc: 0.941 - ETA: 0s - loss: 0.1534 - acc: 0.941 - ETA: 0s - loss: 0.1534 - acc: 0.941 - ETA: 0s - loss: 0.1543 - acc: 0.941 - 8s 2ms/step - loss: 0.1538 - acc: 0.9414 - val_loss: 0.1475 - val_acc: 0.9472\n",
      "\n",
      "Epoch 00025: val_loss improved from 0.15069 to 0.14752, saving model to model-tgs-salt-1.h5\n",
      "Epoch 26/30\n",
      "3600/3600 [==============================] - ETA: 7s - loss: 0.0619 - acc: 0.986 - ETA: 7s - loss: 0.2089 - acc: 0.901 - ETA: 7s - loss: 0.2099 - acc: 0.903 - ETA: 7s - loss: 0.2009 - acc: 0.910 - ETA: 7s - loss: 0.1757 - acc: 0.925 - ETA: 7s - loss: 0.1806 - acc: 0.921 - ETA: 7s - loss: 0.1831 - acc: 0.920 - ETA: 7s - loss: 0.1860 - acc: 0.918 - ETA: 7s - loss: 0.1805 - acc: 0.922 - ETA: 7s - loss: 0.1803 - acc: 0.924 - ETA: 7s - loss: 0.1837 - acc: 0.924 - ETA: 7s - loss: 0.1836 - acc: 0.924 - ETA: 7s - loss: 0.1768 - acc: 0.928 - ETA: 7s - loss: 0.1752 - acc: 0.930 - ETA: 7s - loss: 0.1675 - acc: 0.933 - ETA: 7s - loss: 0.1663 - acc: 0.934 - ETA: 7s - loss: 0.1721 - acc: 0.930 - ETA: 7s - loss: 0.1701 - acc: 0.931 - ETA: 6s - loss: 0.1650 - acc: 0.934 - ETA: 6s - loss: 0.1650 - acc: 0.934 - ETA: 6s - loss: 0.1628 - acc: 0.935 - ETA: 6s - loss: 0.1736 - acc: 0.931 - ETA: 6s - loss: 0.1732 - acc: 0.932 - ETA: 6s - loss: 0.1743 - acc: 0.932 - ETA: 6s - loss: 0.1751 - acc: 0.932 - ETA: 6s - loss: 0.1737 - acc: 0.932 - ETA: 6s - loss: 0.1730 - acc: 0.933 - ETA: 6s - loss: 0.1708 - acc: 0.934 - ETA: 6s - loss: 0.1768 - acc: 0.932 - ETA: 6s - loss: 0.1751 - acc: 0.933 - ETA: 6s - loss: 0.1766 - acc: 0.932 - ETA: 6s - loss: 0.1756 - acc: 0.933 - ETA: 6s - loss: 0.1747 - acc: 0.933 - ETA: 6s - loss: 0.1724 - acc: 0.934 - ETA: 6s - loss: 0.1691 - acc: 0.936 - ETA: 6s - loss: 0.1678 - acc: 0.936 - ETA: 5s - loss: 0.1671 - acc: 0.936 - ETA: 5s - loss: 0.1646 - acc: 0.937 - ETA: 5s - loss: 0.1665 - acc: 0.936 - ETA: 5s - loss: 0.1661 - acc: 0.937 - ETA: 5s - loss: 0.1654 - acc: 0.937 - ETA: 5s - loss: 0.1645 - acc: 0.937 - ETA: 5s - loss: 0.1626 - acc: 0.938 - ETA: 5s - loss: 0.1614 - acc: 0.939 - ETA: 5s - loss: 0.1624 - acc: 0.938 - ETA: 5s - loss: 0.1619 - acc: 0.938 - ETA: 5s - loss: 0.1628 - acc: 0.938 - ETA: 5s - loss: 0.1626 - acc: 0.938 - ETA: 5s - loss: 0.1631 - acc: 0.938 - ETA: 5s - loss: 0.1654 - acc: 0.937 - ETA: 5s - loss: 0.1667 - acc: 0.936 - ETA: 5s - loss: 0.1684 - acc: 0.935 - ETA: 4s - loss: 0.1714 - acc: 0.933 - ETA: 4s - loss: 0.1752 - acc: 0.932 - ETA: 4s - loss: 0.1750 - acc: 0.932 - ETA: 4s - loss: 0.1754 - acc: 0.932 - ETA: 4s - loss: 0.1751 - acc: 0.933 - ETA: 4s - loss: 0.1754 - acc: 0.933 - ETA: 4s - loss: 0.1756 - acc: 0.932 - ETA: 4s - loss: 0.1762 - acc: 0.932 - ETA: 4s - loss: 0.1776 - acc: 0.931 - ETA: 4s - loss: 0.1778 - acc: 0.932 - ETA: 4s - loss: 0.1782 - acc: 0.931 - ETA: 4s - loss: 0.1769 - acc: 0.932 - ETA: 4s - loss: 0.1777 - acc: 0.932 - ETA: 4s - loss: 0.1792 - acc: 0.931 - ETA: 4s - loss: 0.1790 - acc: 0.931 - ETA: 4s - loss: 0.1791 - acc: 0.931 - ETA: 4s - loss: 0.1795 - acc: 0.931 - ETA: 4s - loss: 0.1796 - acc: 0.931 - ETA: 4s - loss: 0.1790 - acc: 0.931 - ETA: 3s - loss: 0.1790 - acc: 0.931 - ETA: 3s - loss: 0.1779 - acc: 0.931 - ETA: 3s - loss: 0.1779 - acc: 0.931 - ETA: 3s - loss: 0.1772 - acc: 0.931 - ETA: 3s - loss: 0.1788 - acc: 0.931 - ETA: 3s - loss: 0.1777 - acc: 0.931 - ETA: 3s - loss: 0.1791 - acc: 0.930 - ETA: 3s - loss: 0.1786 - acc: 0.930 - ETA: 3s - loss: 0.1777 - acc: 0.931 - ETA: 3s - loss: 0.1775 - acc: 0.931 - ETA: 3s - loss: 0.1766 - acc: 0.931 - ETA: 3s - loss: 0.1757 - acc: 0.932 - ETA: 3s - loss: 0.1749 - acc: 0.932 - ETA: 3s - loss: 0.1739 - acc: 0.932 - ETA: 3s - loss: 0.1732 - acc: 0.933 - ETA: 3s - loss: 0.1730 - acc: 0.933 - ETA: 2s - loss: 0.1720 - acc: 0.933 - ETA: 2s - loss: 0.1712 - acc: 0.934 - ETA: 2s - loss: 0.1712 - acc: 0.934 - ETA: 2s - loss: 0.1717 - acc: 0.933 - ETA: 2s - loss: 0.1712 - acc: 0.934 - ETA: 2s - loss: 0.1704 - acc: 0.934 - ETA: 2s - loss: 0.1718 - acc: 0.933 - ETA: 2s - loss: 0.1713 - acc: 0.933 - ETA: 2s - loss: 0.1705 - acc: 0.934 - ETA: 2s - loss: 0.1700 - acc: 0.934 - ETA: 2s - loss: 0.1693 - acc: 0.934 - ETA: 2s - loss: 0.1698 - acc: 0.934 - ETA: 2s - loss: 0.1701 - acc: 0.934 - ETA: 2s - loss: 0.1694 - acc: 0.935 - ETA: 2s - loss: 0.1694 - acc: 0.935 - ETA: 2s - loss: 0.1691 - acc: 0.935 - ETA: 2s - loss: 0.1694 - acc: 0.935 - ETA: 2s - loss: 0.1699 - acc: 0.934 - ETA: 2s - loss: 0.1697 - acc: 0.934 - ETA: 1s - loss: 0.1694 - acc: 0.934 - ETA: 1s - loss: 0.1684 - acc: 0.935 - ETA: 1s - loss: 0.1674 - acc: 0.935 - ETA: 1s - loss: 0.1668 - acc: 0.936 - ETA: 1s - loss: 0.1665 - acc: 0.936 - ETA: 1s - loss: 0.1668 - acc: 0.936 - ETA: 1s - loss: 0.1662 - acc: 0.936 - ETA: 1s - loss: 0.1661 - acc: 0.936 - ETA: 1s - loss: 0.1660 - acc: 0.936 - ETA: 1s - loss: 0.1661 - acc: 0.936 - ETA: 1s - loss: 0.1654 - acc: 0.936 - ETA: 1s - loss: 0.1649 - acc: 0.937 - ETA: 1s - loss: 0.1641 - acc: 0.937 - ETA: 1s - loss: 0.1634 - acc: 0.937 - ETA: 1s - loss: 0.1631 - acc: 0.937 - ETA: 1s - loss: 0.1628 - acc: 0.938 - ETA: 1s - loss: 0.1625 - acc: 0.938 - ETA: 1s - loss: 0.1622 - acc: 0.938 - ETA: 0s - loss: 0.1616 - acc: 0.938 - ETA: 0s - loss: 0.1623 - acc: 0.938 - ETA: 0s - loss: 0.1627 - acc: 0.938 - ETA: 0s - loss: 0.1625 - acc: 0.938 - ETA: 0s - loss: 0.1620 - acc: 0.938 - ETA: 0s - loss: 0.1622 - acc: 0.938 - ETA: 0s - loss: 0.1626 - acc: 0.938 - ETA: 0s - loss: 0.1627 - acc: 0.938 - ETA: 0s - loss: 0.1630 - acc: 0.938 - ETA: 0s - loss: 0.1637 - acc: 0.938 - ETA: 0s - loss: 0.1632 - acc: 0.938 - ETA: 0s - loss: 0.1635 - acc: 0.938 - ETA: 0s - loss: 0.1641 - acc: 0.938 - ETA: 0s - loss: 0.1636 - acc: 0.938 - ETA: 0s - loss: 0.1630 - acc: 0.938 - ETA: 0s - loss: 0.1632 - acc: 0.938 - ETA: 0s - loss: 0.1631 - acc: 0.938 - ETA: 0s - loss: 0.1623 - acc: 0.938 - ETA: 0s - loss: 0.1628 - acc: 0.938 - 8s 2ms/step - loss: 0.1628 - acc: 0.9387 - val_loss: 0.1488 - val_acc: 0.9437\n",
      "\n",
      "Epoch 00026: val_loss did not improve from 0.14752\n",
      "Epoch 27/30\n"
     ]
    },
    {
     "name": "stdout",
     "output_type": "stream",
     "text": [
      "3600/3600 [==============================] - ETA: 8s - loss: 0.0279 - acc: 0.995 - ETA: 7s - loss: 0.1122 - acc: 0.960 - ETA: 7s - loss: 0.1048 - acc: 0.960 - ETA: 7s - loss: 0.1264 - acc: 0.950 - ETA: 7s - loss: 0.1147 - acc: 0.955 - ETA: 7s - loss: 0.1134 - acc: 0.957 - ETA: 7s - loss: 0.1095 - acc: 0.958 - ETA: 7s - loss: 0.1170 - acc: 0.955 - ETA: 7s - loss: 0.1223 - acc: 0.953 - ETA: 7s - loss: 0.1286 - acc: 0.951 - ETA: 7s - loss: 0.1369 - acc: 0.947 - ETA: 7s - loss: 0.1339 - acc: 0.948 - ETA: 7s - loss: 0.1353 - acc: 0.948 - ETA: 7s - loss: 0.1402 - acc: 0.946 - ETA: 7s - loss: 0.1425 - acc: 0.945 - ETA: 7s - loss: 0.1384 - acc: 0.947 - ETA: 6s - loss: 0.1429 - acc: 0.944 - ETA: 6s - loss: 0.1427 - acc: 0.945 - ETA: 6s - loss: 0.1420 - acc: 0.945 - ETA: 6s - loss: 0.1419 - acc: 0.944 - ETA: 6s - loss: 0.1413 - acc: 0.944 - ETA: 6s - loss: 0.1403 - acc: 0.944 - ETA: 6s - loss: 0.1389 - acc: 0.945 - ETA: 6s - loss: 0.1398 - acc: 0.944 - ETA: 6s - loss: 0.1399 - acc: 0.944 - ETA: 6s - loss: 0.1373 - acc: 0.945 - ETA: 6s - loss: 0.1405 - acc: 0.943 - ETA: 6s - loss: 0.1416 - acc: 0.943 - ETA: 6s - loss: 0.1417 - acc: 0.943 - ETA: 6s - loss: 0.1396 - acc: 0.944 - ETA: 6s - loss: 0.1378 - acc: 0.945 - ETA: 6s - loss: 0.1353 - acc: 0.947 - ETA: 6s - loss: 0.1348 - acc: 0.946 - ETA: 6s - loss: 0.1363 - acc: 0.946 - ETA: 5s - loss: 0.1366 - acc: 0.946 - ETA: 5s - loss: 0.1356 - acc: 0.946 - ETA: 5s - loss: 0.1338 - acc: 0.947 - ETA: 5s - loss: 0.1332 - acc: 0.947 - ETA: 5s - loss: 0.1322 - acc: 0.947 - ETA: 5s - loss: 0.1303 - acc: 0.948 - ETA: 5s - loss: 0.1298 - acc: 0.948 - ETA: 5s - loss: 0.1325 - acc: 0.947 - ETA: 5s - loss: 0.1316 - acc: 0.948 - ETA: 5s - loss: 0.1343 - acc: 0.947 - ETA: 5s - loss: 0.1347 - acc: 0.947 - ETA: 5s - loss: 0.1358 - acc: 0.946 - ETA: 5s - loss: 0.1363 - acc: 0.946 - ETA: 5s - loss: 0.1365 - acc: 0.946 - ETA: 5s - loss: 0.1363 - acc: 0.946 - ETA: 5s - loss: 0.1371 - acc: 0.945 - ETA: 5s - loss: 0.1369 - acc: 0.946 - ETA: 4s - loss: 0.1378 - acc: 0.945 - ETA: 4s - loss: 0.1383 - acc: 0.945 - ETA: 4s - loss: 0.1401 - acc: 0.944 - ETA: 4s - loss: 0.1409 - acc: 0.944 - ETA: 4s - loss: 0.1418 - acc: 0.943 - ETA: 4s - loss: 0.1422 - acc: 0.943 - ETA: 4s - loss: 0.1426 - acc: 0.943 - ETA: 4s - loss: 0.1422 - acc: 0.944 - ETA: 4s - loss: 0.1410 - acc: 0.944 - ETA: 4s - loss: 0.1405 - acc: 0.944 - ETA: 4s - loss: 0.1403 - acc: 0.944 - ETA: 4s - loss: 0.1402 - acc: 0.944 - ETA: 4s - loss: 0.1394 - acc: 0.945 - ETA: 4s - loss: 0.1388 - acc: 0.945 - ETA: 4s - loss: 0.1380 - acc: 0.945 - ETA: 4s - loss: 0.1393 - acc: 0.945 - ETA: 4s - loss: 0.1389 - acc: 0.945 - ETA: 4s - loss: 0.1395 - acc: 0.944 - ETA: 4s - loss: 0.1409 - acc: 0.944 - ETA: 3s - loss: 0.1412 - acc: 0.943 - ETA: 3s - loss: 0.1402 - acc: 0.944 - ETA: 3s - loss: 0.1409 - acc: 0.944 - ETA: 3s - loss: 0.1406 - acc: 0.944 - ETA: 3s - loss: 0.1405 - acc: 0.944 - ETA: 3s - loss: 0.1399 - acc: 0.944 - ETA: 3s - loss: 0.1406 - acc: 0.944 - ETA: 3s - loss: 0.1396 - acc: 0.944 - ETA: 3s - loss: 0.1384 - acc: 0.945 - ETA: 3s - loss: 0.1374 - acc: 0.945 - ETA: 3s - loss: 0.1367 - acc: 0.946 - ETA: 3s - loss: 0.1361 - acc: 0.946 - ETA: 3s - loss: 0.1361 - acc: 0.946 - ETA: 3s - loss: 0.1359 - acc: 0.946 - ETA: 3s - loss: 0.1350 - acc: 0.947 - ETA: 3s - loss: 0.1357 - acc: 0.946 - ETA: 2s - loss: 0.1349 - acc: 0.947 - ETA: 2s - loss: 0.1355 - acc: 0.946 - ETA: 2s - loss: 0.1349 - acc: 0.947 - ETA: 2s - loss: 0.1343 - acc: 0.947 - ETA: 2s - loss: 0.1336 - acc: 0.947 - ETA: 2s - loss: 0.1340 - acc: 0.947 - ETA: 2s - loss: 0.1337 - acc: 0.948 - ETA: 2s - loss: 0.1345 - acc: 0.947 - ETA: 2s - loss: 0.1342 - acc: 0.947 - ETA: 2s - loss: 0.1344 - acc: 0.947 - ETA: 2s - loss: 0.1354 - acc: 0.947 - ETA: 2s - loss: 0.1362 - acc: 0.946 - ETA: 2s - loss: 0.1357 - acc: 0.946 - ETA: 2s - loss: 0.1354 - acc: 0.947 - ETA: 2s - loss: 0.1351 - acc: 0.947 - ETA: 2s - loss: 0.1347 - acc: 0.947 - ETA: 2s - loss: 0.1363 - acc: 0.946 - ETA: 2s - loss: 0.1363 - acc: 0.946 - ETA: 2s - loss: 0.1372 - acc: 0.946 - ETA: 1s - loss: 0.1371 - acc: 0.946 - ETA: 1s - loss: 0.1374 - acc: 0.946 - ETA: 1s - loss: 0.1367 - acc: 0.946 - ETA: 1s - loss: 0.1369 - acc: 0.946 - ETA: 1s - loss: 0.1368 - acc: 0.946 - ETA: 1s - loss: 0.1367 - acc: 0.946 - ETA: 1s - loss: 0.1370 - acc: 0.946 - ETA: 1s - loss: 0.1373 - acc: 0.946 - ETA: 1s - loss: 0.1373 - acc: 0.946 - ETA: 1s - loss: 0.1370 - acc: 0.946 - ETA: 1s - loss: 0.1370 - acc: 0.946 - ETA: 1s - loss: 0.1365 - acc: 0.947 - ETA: 1s - loss: 0.1371 - acc: 0.946 - ETA: 1s - loss: 0.1368 - acc: 0.946 - ETA: 1s - loss: 0.1367 - acc: 0.946 - ETA: 1s - loss: 0.1365 - acc: 0.946 - ETA: 1s - loss: 0.1363 - acc: 0.947 - ETA: 1s - loss: 0.1364 - acc: 0.947 - ETA: 1s - loss: 0.1358 - acc: 0.947 - ETA: 0s - loss: 0.1354 - acc: 0.947 - ETA: 0s - loss: 0.1356 - acc: 0.947 - ETA: 0s - loss: 0.1358 - acc: 0.947 - ETA: 0s - loss: 0.1359 - acc: 0.947 - ETA: 0s - loss: 0.1360 - acc: 0.947 - ETA: 0s - loss: 0.1363 - acc: 0.947 - ETA: 0s - loss: 0.1372 - acc: 0.946 - ETA: 0s - loss: 0.1370 - acc: 0.946 - ETA: 0s - loss: 0.1372 - acc: 0.946 - ETA: 0s - loss: 0.1375 - acc: 0.946 - ETA: 0s - loss: 0.1372 - acc: 0.946 - ETA: 0s - loss: 0.1373 - acc: 0.946 - ETA: 0s - loss: 0.1373 - acc: 0.946 - ETA: 0s - loss: 0.1371 - acc: 0.946 - ETA: 0s - loss: 0.1373 - acc: 0.946 - ETA: 0s - loss: 0.1368 - acc: 0.946 - ETA: 0s - loss: 0.1367 - acc: 0.946 - ETA: 0s - loss: 0.1370 - acc: 0.946 - 8s 2ms/step - loss: 0.1368 - acc: 0.9466 - val_loss: 0.1469 - val_acc: 0.9464\n",
      "\n",
      "Epoch 00027: val_loss improved from 0.14752 to 0.14685, saving model to model-tgs-salt-1.h5\n",
      "Epoch 28/30\n",
      "3600/3600 [==============================] - ETA: 8s - loss: 0.0645 - acc: 0.983 - ETA: 8s - loss: 0.1850 - acc: 0.929 - ETA: 8s - loss: 0.1626 - acc: 0.941 - ETA: 7s - loss: 0.1381 - acc: 0.953 - ETA: 7s - loss: 0.1303 - acc: 0.956 - ETA: 7s - loss: 0.1329 - acc: 0.953 - ETA: 7s - loss: 0.1261 - acc: 0.956 - ETA: 7s - loss: 0.1325 - acc: 0.954 - ETA: 7s - loss: 0.1304 - acc: 0.953 - ETA: 7s - loss: 0.1290 - acc: 0.952 - ETA: 7s - loss: 0.1268 - acc: 0.953 - ETA: 7s - loss: 0.1229 - acc: 0.955 - ETA: 7s - loss: 0.1285 - acc: 0.953 - ETA: 7s - loss: 0.1271 - acc: 0.953 - ETA: 7s - loss: 0.1301 - acc: 0.951 - ETA: 7s - loss: 0.1289 - acc: 0.952 - ETA: 7s - loss: 0.1291 - acc: 0.952 - ETA: 7s - loss: 0.1318 - acc: 0.950 - ETA: 7s - loss: 0.1325 - acc: 0.950 - ETA: 7s - loss: 0.1355 - acc: 0.948 - ETA: 6s - loss: 0.1328 - acc: 0.949 - ETA: 6s - loss: 0.1368 - acc: 0.948 - ETA: 6s - loss: 0.1402 - acc: 0.946 - ETA: 6s - loss: 0.1414 - acc: 0.946 - ETA: 6s - loss: 0.1384 - acc: 0.947 - ETA: 6s - loss: 0.1355 - acc: 0.949 - ETA: 6s - loss: 0.1399 - acc: 0.947 - ETA: 6s - loss: 0.1394 - acc: 0.948 - ETA: 6s - loss: 0.1371 - acc: 0.949 - ETA: 6s - loss: 0.1343 - acc: 0.950 - ETA: 6s - loss: 0.1356 - acc: 0.949 - ETA: 5s - loss: 0.1343 - acc: 0.950 - ETA: 5s - loss: 0.1342 - acc: 0.950 - ETA: 5s - loss: 0.1331 - acc: 0.950 - ETA: 5s - loss: 0.1332 - acc: 0.950 - ETA: 5s - loss: 0.1315 - acc: 0.950 - ETA: 5s - loss: 0.1311 - acc: 0.950 - ETA: 5s - loss: 0.1347 - acc: 0.949 - ETA: 5s - loss: 0.1326 - acc: 0.950 - ETA: 5s - loss: 0.1328 - acc: 0.950 - ETA: 5s - loss: 0.1320 - acc: 0.950 - ETA: 5s - loss: 0.1315 - acc: 0.950 - ETA: 5s - loss: 0.1303 - acc: 0.951 - ETA: 5s - loss: 0.1284 - acc: 0.952 - ETA: 5s - loss: 0.1288 - acc: 0.952 - ETA: 5s - loss: 0.1299 - acc: 0.951 - ETA: 5s - loss: 0.1296 - acc: 0.951 - ETA: 5s - loss: 0.1298 - acc: 0.951 - ETA: 5s - loss: 0.1299 - acc: 0.951 - ETA: 5s - loss: 0.1288 - acc: 0.951 - ETA: 5s - loss: 0.1288 - acc: 0.951 - ETA: 5s - loss: 0.1279 - acc: 0.952 - ETA: 4s - loss: 0.1292 - acc: 0.951 - ETA: 4s - loss: 0.1297 - acc: 0.951 - ETA: 4s - loss: 0.1298 - acc: 0.951 - ETA: 4s - loss: 0.1286 - acc: 0.952 - ETA: 4s - loss: 0.1292 - acc: 0.951 - ETA: 4s - loss: 0.1303 - acc: 0.951 - ETA: 4s - loss: 0.1300 - acc: 0.951 - ETA: 4s - loss: 0.1295 - acc: 0.951 - ETA: 4s - loss: 0.1299 - acc: 0.951 - ETA: 4s - loss: 0.1300 - acc: 0.951 - ETA: 4s - loss: 0.1324 - acc: 0.950 - ETA: 4s - loss: 0.1320 - acc: 0.951 - ETA: 4s - loss: 0.1331 - acc: 0.950 - ETA: 4s - loss: 0.1340 - acc: 0.950 - ETA: 4s - loss: 0.1345 - acc: 0.949 - ETA: 4s - loss: 0.1345 - acc: 0.950 - ETA: 3s - loss: 0.1344 - acc: 0.950 - ETA: 3s - loss: 0.1342 - acc: 0.950 - ETA: 3s - loss: 0.1344 - acc: 0.950 - ETA: 3s - loss: 0.1348 - acc: 0.949 - ETA: 3s - loss: 0.1360 - acc: 0.949 - ETA: 3s - loss: 0.1354 - acc: 0.949 - ETA: 3s - loss: 0.1357 - acc: 0.949 - ETA: 3s - loss: 0.1351 - acc: 0.949 - ETA: 3s - loss: 0.1355 - acc: 0.949 - ETA: 3s - loss: 0.1352 - acc: 0.949 - ETA: 3s - loss: 0.1363 - acc: 0.948 - ETA: 3s - loss: 0.1369 - acc: 0.948 - ETA: 3s - loss: 0.1363 - acc: 0.948 - ETA: 3s - loss: 0.1359 - acc: 0.948 - ETA: 3s - loss: 0.1372 - acc: 0.948 - ETA: 3s - loss: 0.1375 - acc: 0.948 - ETA: 3s - loss: 0.1379 - acc: 0.948 - ETA: 3s - loss: 0.1376 - acc: 0.948 - ETA: 2s - loss: 0.1368 - acc: 0.948 - ETA: 2s - loss: 0.1365 - acc: 0.948 - ETA: 2s - loss: 0.1362 - acc: 0.948 - ETA: 2s - loss: 0.1355 - acc: 0.949 - ETA: 2s - loss: 0.1349 - acc: 0.949 - ETA: 2s - loss: 0.1351 - acc: 0.949 - ETA: 2s - loss: 0.1353 - acc: 0.948 - ETA: 2s - loss: 0.1357 - acc: 0.948 - ETA: 2s - loss: 0.1368 - acc: 0.948 - ETA: 2s - loss: 0.1367 - acc: 0.948 - ETA: 2s - loss: 0.1377 - acc: 0.947 - ETA: 2s - loss: 0.1374 - acc: 0.947 - ETA: 2s - loss: 0.1377 - acc: 0.947 - ETA: 2s - loss: 0.1375 - acc: 0.947 - ETA: 2s - loss: 0.1375 - acc: 0.947 - ETA: 2s - loss: 0.1389 - acc: 0.946 - ETA: 2s - loss: 0.1386 - acc: 0.947 - ETA: 2s - loss: 0.1385 - acc: 0.947 - ETA: 1s - loss: 0.1395 - acc: 0.946 - ETA: 1s - loss: 0.1394 - acc: 0.946 - ETA: 1s - loss: 0.1401 - acc: 0.945 - ETA: 1s - loss: 0.1403 - acc: 0.945 - ETA: 1s - loss: 0.1398 - acc: 0.946 - ETA: 1s - loss: 0.1397 - acc: 0.946 - ETA: 1s - loss: 0.1394 - acc: 0.946 - ETA: 1s - loss: 0.1401 - acc: 0.946 - ETA: 1s - loss: 0.1400 - acc: 0.946 - ETA: 1s - loss: 0.1396 - acc: 0.946 - ETA: 1s - loss: 0.1401 - acc: 0.946 - ETA: 1s - loss: 0.1403 - acc: 0.946 - ETA: 1s - loss: 0.1402 - acc: 0.946 - ETA: 1s - loss: 0.1403 - acc: 0.946 - ETA: 1s - loss: 0.1406 - acc: 0.945 - ETA: 1s - loss: 0.1400 - acc: 0.946 - ETA: 1s - loss: 0.1394 - acc: 0.946 - ETA: 0s - loss: 0.1397 - acc: 0.946 - ETA: 0s - loss: 0.1394 - acc: 0.946 - ETA: 0s - loss: 0.1392 - acc: 0.946 - ETA: 0s - loss: 0.1386 - acc: 0.946 - ETA: 0s - loss: 0.1384 - acc: 0.946 - ETA: 0s - loss: 0.1389 - acc: 0.946 - ETA: 0s - loss: 0.1394 - acc: 0.946 - ETA: 0s - loss: 0.1391 - acc: 0.946 - ETA: 0s - loss: 0.1397 - acc: 0.946 - ETA: 0s - loss: 0.1392 - acc: 0.946 - ETA: 0s - loss: 0.1387 - acc: 0.946 - ETA: 0s - loss: 0.1386 - acc: 0.946 - ETA: 0s - loss: 0.1384 - acc: 0.946 - ETA: 0s - loss: 0.1386 - acc: 0.946 - ETA: 0s - loss: 0.1383 - acc: 0.946 - ETA: 0s - loss: 0.1380 - acc: 0.946 - ETA: 0s - loss: 0.1375 - acc: 0.946 - ETA: 0s - loss: 0.1370 - acc: 0.947 - ETA: 0s - loss: 0.1368 - acc: 0.947 - 8s 2ms/step - loss: 0.1364 - acc: 0.9473 - val_loss: 0.1518 - val_acc: 0.9440\n",
      "\n",
      "Epoch 00028: val_loss did not improve from 0.14685\n",
      "Epoch 29/30\n"
     ]
    },
    {
     "name": "stdout",
     "output_type": "stream",
     "text": [
      "3600/3600 [==============================] - ETA: 7s - loss: 0.0571 - acc: 0.988 - ETA: 7s - loss: 0.1268 - acc: 0.952 - ETA: 7s - loss: 0.1231 - acc: 0.952 - ETA: 7s - loss: 0.1121 - acc: 0.958 - ETA: 8s - loss: 0.1108 - acc: 0.959 - ETA: 8s - loss: 0.1118 - acc: 0.958 - ETA: 7s - loss: 0.1197 - acc: 0.953 - ETA: 7s - loss: 0.1170 - acc: 0.954 - ETA: 7s - loss: 0.1110 - acc: 0.957 - ETA: 7s - loss: 0.1034 - acc: 0.961 - ETA: 7s - loss: 0.1019 - acc: 0.961 - ETA: 7s - loss: 0.1161 - acc: 0.956 - ETA: 7s - loss: 0.1124 - acc: 0.958 - ETA: 7s - loss: 0.1202 - acc: 0.954 - ETA: 7s - loss: 0.1247 - acc: 0.951 - ETA: 7s - loss: 0.1239 - acc: 0.952 - ETA: 7s - loss: 0.1246 - acc: 0.952 - ETA: 7s - loss: 0.1256 - acc: 0.952 - ETA: 7s - loss: 0.1276 - acc: 0.951 - ETA: 7s - loss: 0.1245 - acc: 0.952 - ETA: 7s - loss: 0.1227 - acc: 0.954 - ETA: 7s - loss: 0.1232 - acc: 0.954 - ETA: 7s - loss: 0.1208 - acc: 0.955 - ETA: 7s - loss: 0.1198 - acc: 0.956 - ETA: 7s - loss: 0.1187 - acc: 0.956 - ETA: 7s - loss: 0.1186 - acc: 0.956 - ETA: 7s - loss: 0.1172 - acc: 0.957 - ETA: 7s - loss: 0.1160 - acc: 0.957 - ETA: 6s - loss: 0.1162 - acc: 0.957 - ETA: 6s - loss: 0.1147 - acc: 0.957 - ETA: 6s - loss: 0.1157 - acc: 0.957 - ETA: 6s - loss: 0.1160 - acc: 0.957 - ETA: 6s - loss: 0.1192 - acc: 0.955 - ETA: 6s - loss: 0.1196 - acc: 0.955 - ETA: 6s - loss: 0.1192 - acc: 0.955 - ETA: 6s - loss: 0.1211 - acc: 0.953 - ETA: 6s - loss: 0.1238 - acc: 0.952 - ETA: 6s - loss: 0.1247 - acc: 0.952 - ETA: 6s - loss: 0.1250 - acc: 0.952 - ETA: 6s - loss: 0.1237 - acc: 0.953 - ETA: 6s - loss: 0.1228 - acc: 0.953 - ETA: 6s - loss: 0.1241 - acc: 0.952 - ETA: 6s - loss: 0.1226 - acc: 0.953 - ETA: 6s - loss: 0.1235 - acc: 0.953 - ETA: 5s - loss: 0.1235 - acc: 0.952 - ETA: 5s - loss: 0.1220 - acc: 0.953 - ETA: 5s - loss: 0.1218 - acc: 0.953 - ETA: 5s - loss: 0.1204 - acc: 0.954 - ETA: 5s - loss: 0.1212 - acc: 0.954 - ETA: 5s - loss: 0.1195 - acc: 0.954 - ETA: 5s - loss: 0.1185 - acc: 0.955 - ETA: 5s - loss: 0.1183 - acc: 0.955 - ETA: 5s - loss: 0.1173 - acc: 0.955 - ETA: 5s - loss: 0.1195 - acc: 0.954 - ETA: 5s - loss: 0.1187 - acc: 0.955 - ETA: 5s - loss: 0.1208 - acc: 0.954 - ETA: 5s - loss: 0.1225 - acc: 0.953 - ETA: 5s - loss: 0.1239 - acc: 0.952 - ETA: 5s - loss: 0.1236 - acc: 0.952 - ETA: 5s - loss: 0.1247 - acc: 0.952 - ETA: 5s - loss: 0.1254 - acc: 0.951 - ETA: 5s - loss: 0.1255 - acc: 0.952 - ETA: 5s - loss: 0.1259 - acc: 0.951 - ETA: 5s - loss: 0.1275 - acc: 0.951 - ETA: 5s - loss: 0.1268 - acc: 0.951 - ETA: 5s - loss: 0.1260 - acc: 0.951 - ETA: 5s - loss: 0.1253 - acc: 0.952 - ETA: 5s - loss: 0.1260 - acc: 0.952 - ETA: 5s - loss: 0.1259 - acc: 0.952 - ETA: 4s - loss: 0.1290 - acc: 0.951 - ETA: 4s - loss: 0.1281 - acc: 0.951 - ETA: 4s - loss: 0.1292 - acc: 0.951 - ETA: 4s - loss: 0.1301 - acc: 0.950 - ETA: 4s - loss: 0.1320 - acc: 0.949 - ETA: 4s - loss: 0.1318 - acc: 0.949 - ETA: 4s - loss: 0.1323 - acc: 0.949 - ETA: 4s - loss: 0.1325 - acc: 0.949 - ETA: 4s - loss: 0.1322 - acc: 0.949 - ETA: 4s - loss: 0.1320 - acc: 0.949 - ETA: 4s - loss: 0.1314 - acc: 0.950 - ETA: 4s - loss: 0.1307 - acc: 0.950 - ETA: 4s - loss: 0.1306 - acc: 0.950 - ETA: 4s - loss: 0.1308 - acc: 0.950 - ETA: 4s - loss: 0.1304 - acc: 0.950 - ETA: 4s - loss: 0.1319 - acc: 0.950 - ETA: 4s - loss: 0.1316 - acc: 0.950 - ETA: 3s - loss: 0.1322 - acc: 0.950 - ETA: 3s - loss: 0.1319 - acc: 0.950 - ETA: 3s - loss: 0.1336 - acc: 0.949 - ETA: 3s - loss: 0.1340 - acc: 0.949 - ETA: 3s - loss: 0.1334 - acc: 0.949 - ETA: 3s - loss: 0.1329 - acc: 0.950 - ETA: 3s - loss: 0.1326 - acc: 0.950 - ETA: 3s - loss: 0.1332 - acc: 0.949 - ETA: 3s - loss: 0.1322 - acc: 0.950 - ETA: 3s - loss: 0.1356 - acc: 0.949 - ETA: 3s - loss: 0.1367 - acc: 0.948 - ETA: 3s - loss: 0.1366 - acc: 0.948 - ETA: 3s - loss: 0.1371 - acc: 0.948 - ETA: 3s - loss: 0.1367 - acc: 0.948 - ETA: 3s - loss: 0.1370 - acc: 0.948 - ETA: 3s - loss: 0.1374 - acc: 0.947 - ETA: 2s - loss: 0.1370 - acc: 0.948 - ETA: 2s - loss: 0.1364 - acc: 0.948 - ETA: 2s - loss: 0.1358 - acc: 0.948 - ETA: 2s - loss: 0.1360 - acc: 0.948 - ETA: 2s - loss: 0.1364 - acc: 0.948 - ETA: 2s - loss: 0.1366 - acc: 0.948 - ETA: 2s - loss: 0.1372 - acc: 0.948 - ETA: 2s - loss: 0.1365 - acc: 0.948 - ETA: 2s - loss: 0.1370 - acc: 0.948 - ETA: 2s - loss: 0.1365 - acc: 0.948 - ETA: 2s - loss: 0.1367 - acc: 0.948 - ETA: 2s - loss: 0.1367 - acc: 0.948 - ETA: 2s - loss: 0.1367 - acc: 0.948 - ETA: 2s - loss: 0.1364 - acc: 0.948 - ETA: 2s - loss: 0.1362 - acc: 0.948 - ETA: 2s - loss: 0.1355 - acc: 0.949 - ETA: 2s - loss: 0.1353 - acc: 0.949 - ETA: 1s - loss: 0.1347 - acc: 0.949 - ETA: 1s - loss: 0.1359 - acc: 0.948 - ETA: 1s - loss: 0.1355 - acc: 0.949 - ETA: 1s - loss: 0.1352 - acc: 0.949 - ETA: 1s - loss: 0.1348 - acc: 0.949 - ETA: 1s - loss: 0.1355 - acc: 0.948 - ETA: 1s - loss: 0.1361 - acc: 0.948 - ETA: 1s - loss: 0.1359 - acc: 0.948 - ETA: 1s - loss: 0.1360 - acc: 0.948 - ETA: 1s - loss: 0.1360 - acc: 0.948 - ETA: 1s - loss: 0.1369 - acc: 0.948 - ETA: 1s - loss: 0.1365 - acc: 0.948 - ETA: 1s - loss: 0.1360 - acc: 0.948 - ETA: 1s - loss: 0.1363 - acc: 0.948 - ETA: 1s - loss: 0.1361 - acc: 0.948 - ETA: 0s - loss: 0.1363 - acc: 0.948 - ETA: 0s - loss: 0.1357 - acc: 0.948 - ETA: 0s - loss: 0.1353 - acc: 0.948 - ETA: 0s - loss: 0.1347 - acc: 0.949 - ETA: 0s - loss: 0.1343 - acc: 0.949 - ETA: 0s - loss: 0.1342 - acc: 0.949 - ETA: 0s - loss: 0.1345 - acc: 0.949 - ETA: 0s - loss: 0.1338 - acc: 0.949 - ETA: 0s - loss: 0.1340 - acc: 0.949 - ETA: 0s - loss: 0.1342 - acc: 0.949 - ETA: 0s - loss: 0.1339 - acc: 0.949 - ETA: 0s - loss: 0.1343 - acc: 0.949 - ETA: 0s - loss: 0.1346 - acc: 0.948 - ETA: 0s - loss: 0.1345 - acc: 0.949 - ETA: 0s - loss: 0.1349 - acc: 0.948 - ETA: 0s - loss: 0.1349 - acc: 0.948 - ETA: 0s - loss: 0.1344 - acc: 0.949 - 9s 2ms/step - loss: 0.1341 - acc: 0.9492 - val_loss: 0.1577 - val_acc: 0.9456\n",
      "\n",
      "Epoch 00029: val_loss did not improve from 0.14685\n",
      "Epoch 30/30\n",
      "3600/3600 [==============================] - ETA: 9s - loss: 0.4524 - acc: 0.927 - ETA: 8s - loss: 0.1882 - acc: 0.952 - ETA: 8s - loss: 0.2153 - acc: 0.936 - ETA: 8s - loss: 0.2039 - acc: 0.931 - ETA: 7s - loss: 0.1820 - acc: 0.940 - ETA: 7s - loss: 0.1738 - acc: 0.943 - ETA: 7s - loss: 0.1778 - acc: 0.940 - ETA: 7s - loss: 0.1837 - acc: 0.936 - ETA: 7s - loss: 0.1749 - acc: 0.938 - ETA: 7s - loss: 0.1744 - acc: 0.938 - ETA: 7s - loss: 0.1661 - acc: 0.941 - ETA: 7s - loss: 0.1571 - acc: 0.945 - ETA: 7s - loss: 0.1508 - acc: 0.947 - ETA: 7s - loss: 0.1486 - acc: 0.948 - ETA: 7s - loss: 0.1481 - acc: 0.947 - ETA: 7s - loss: 0.1443 - acc: 0.949 - ETA: 7s - loss: 0.1405 - acc: 0.950 - ETA: 7s - loss: 0.1370 - acc: 0.951 - ETA: 7s - loss: 0.1352 - acc: 0.952 - ETA: 6s - loss: 0.1350 - acc: 0.951 - ETA: 6s - loss: 0.1305 - acc: 0.953 - ETA: 6s - loss: 0.1292 - acc: 0.954 - ETA: 6s - loss: 0.1279 - acc: 0.954 - ETA: 6s - loss: 0.1265 - acc: 0.955 - ETA: 6s - loss: 0.1235 - acc: 0.956 - ETA: 6s - loss: 0.1211 - acc: 0.957 - ETA: 6s - loss: 0.1181 - acc: 0.958 - ETA: 6s - loss: 0.1184 - acc: 0.958 - ETA: 6s - loss: 0.1174 - acc: 0.958 - ETA: 6s - loss: 0.1177 - acc: 0.958 - ETA: 6s - loss: 0.1195 - acc: 0.957 - ETA: 6s - loss: 0.1209 - acc: 0.957 - ETA: 6s - loss: 0.1196 - acc: 0.958 - ETA: 6s - loss: 0.1192 - acc: 0.958 - ETA: 6s - loss: 0.1184 - acc: 0.958 - ETA: 6s - loss: 0.1175 - acc: 0.958 - ETA: 6s - loss: 0.1167 - acc: 0.959 - ETA: 6s - loss: 0.1186 - acc: 0.958 - ETA: 6s - loss: 0.1189 - acc: 0.957 - ETA: 5s - loss: 0.1198 - acc: 0.957 - ETA: 5s - loss: 0.1189 - acc: 0.957 - ETA: 5s - loss: 0.1188 - acc: 0.957 - ETA: 5s - loss: 0.1202 - acc: 0.956 - ETA: 5s - loss: 0.1201 - acc: 0.956 - ETA: 5s - loss: 0.1215 - acc: 0.955 - ETA: 5s - loss: 0.1208 - acc: 0.955 - ETA: 5s - loss: 0.1222 - acc: 0.955 - ETA: 5s - loss: 0.1216 - acc: 0.955 - ETA: 5s - loss: 0.1230 - acc: 0.954 - ETA: 5s - loss: 0.1229 - acc: 0.954 - ETA: 5s - loss: 0.1236 - acc: 0.954 - ETA: 5s - loss: 0.1228 - acc: 0.954 - ETA: 5s - loss: 0.1233 - acc: 0.954 - ETA: 5s - loss: 0.1237 - acc: 0.954 - ETA: 5s - loss: 0.1260 - acc: 0.953 - ETA: 4s - loss: 0.1293 - acc: 0.951 - ETA: 4s - loss: 0.1282 - acc: 0.952 - ETA: 4s - loss: 0.1277 - acc: 0.952 - ETA: 4s - loss: 0.1288 - acc: 0.952 - ETA: 4s - loss: 0.1301 - acc: 0.951 - ETA: 4s - loss: 0.1312 - acc: 0.951 - ETA: 4s - loss: 0.1329 - acc: 0.950 - ETA: 4s - loss: 0.1324 - acc: 0.951 - ETA: 4s - loss: 0.1324 - acc: 0.951 - ETA: 4s - loss: 0.1321 - acc: 0.951 - ETA: 4s - loss: 0.1321 - acc: 0.951 - ETA: 4s - loss: 0.1313 - acc: 0.951 - ETA: 4s - loss: 0.1315 - acc: 0.951 - ETA: 4s - loss: 0.1322 - acc: 0.951 - ETA: 4s - loss: 0.1340 - acc: 0.950 - ETA: 4s - loss: 0.1335 - acc: 0.950 - ETA: 4s - loss: 0.1334 - acc: 0.950 - ETA: 4s - loss: 0.1324 - acc: 0.951 - ETA: 4s - loss: 0.1318 - acc: 0.951 - ETA: 3s - loss: 0.1313 - acc: 0.951 - ETA: 3s - loss: 0.1311 - acc: 0.951 - ETA: 3s - loss: 0.1311 - acc: 0.951 - ETA: 3s - loss: 0.1322 - acc: 0.951 - ETA: 3s - loss: 0.1318 - acc: 0.951 - ETA: 3s - loss: 0.1317 - acc: 0.951 - ETA: 3s - loss: 0.1313 - acc: 0.951 - ETA: 3s - loss: 0.1317 - acc: 0.951 - ETA: 3s - loss: 0.1328 - acc: 0.951 - ETA: 3s - loss: 0.1329 - acc: 0.950 - ETA: 3s - loss: 0.1330 - acc: 0.950 - ETA: 3s - loss: 0.1321 - acc: 0.951 - ETA: 3s - loss: 0.1314 - acc: 0.951 - ETA: 3s - loss: 0.1307 - acc: 0.951 - ETA: 3s - loss: 0.1297 - acc: 0.952 - ETA: 3s - loss: 0.1298 - acc: 0.952 - ETA: 3s - loss: 0.1306 - acc: 0.951 - ETA: 3s - loss: 0.1314 - acc: 0.951 - ETA: 2s - loss: 0.1332 - acc: 0.950 - ETA: 2s - loss: 0.1342 - acc: 0.949 - ETA: 2s - loss: 0.1341 - acc: 0.949 - ETA: 2s - loss: 0.1340 - acc: 0.949 - ETA: 2s - loss: 0.1334 - acc: 0.950 - ETA: 2s - loss: 0.1338 - acc: 0.949 - ETA: 2s - loss: 0.1345 - acc: 0.949 - ETA: 2s - loss: 0.1349 - acc: 0.949 - ETA: 2s - loss: 0.1345 - acc: 0.949 - ETA: 2s - loss: 0.1343 - acc: 0.949 - ETA: 2s - loss: 0.1341 - acc: 0.949 - ETA: 2s - loss: 0.1336 - acc: 0.949 - ETA: 2s - loss: 0.1336 - acc: 0.949 - ETA: 2s - loss: 0.1339 - acc: 0.949 - ETA: 2s - loss: 0.1345 - acc: 0.949 - ETA: 2s - loss: 0.1340 - acc: 0.949 - ETA: 2s - loss: 0.1342 - acc: 0.949 - ETA: 2s - loss: 0.1343 - acc: 0.949 - ETA: 1s - loss: 0.1344 - acc: 0.949 - ETA: 1s - loss: 0.1349 - acc: 0.949 - ETA: 1s - loss: 0.1353 - acc: 0.948 - ETA: 1s - loss: 0.1345 - acc: 0.949 - ETA: 1s - loss: 0.1340 - acc: 0.949 - ETA: 1s - loss: 0.1339 - acc: 0.949 - ETA: 1s - loss: 0.1344 - acc: 0.949 - ETA: 1s - loss: 0.1342 - acc: 0.949 - ETA: 1s - loss: 0.1339 - acc: 0.949 - ETA: 1s - loss: 0.1342 - acc: 0.949 - ETA: 1s - loss: 0.1340 - acc: 0.949 - ETA: 1s - loss: 0.1337 - acc: 0.949 - ETA: 1s - loss: 0.1334 - acc: 0.949 - ETA: 1s - loss: 0.1329 - acc: 0.950 - ETA: 1s - loss: 0.1328 - acc: 0.949 - ETA: 1s - loss: 0.1327 - acc: 0.949 - ETA: 1s - loss: 0.1322 - acc: 0.950 - ETA: 0s - loss: 0.1326 - acc: 0.949 - ETA: 0s - loss: 0.1322 - acc: 0.950 - ETA: 0s - loss: 0.1324 - acc: 0.949 - ETA: 0s - loss: 0.1320 - acc: 0.950 - ETA: 0s - loss: 0.1318 - acc: 0.950 - ETA: 0s - loss: 0.1316 - acc: 0.950 - ETA: 0s - loss: 0.1323 - acc: 0.950 - ETA: 0s - loss: 0.1317 - acc: 0.950 - ETA: 0s - loss: 0.1322 - acc: 0.950 - ETA: 0s - loss: 0.1318 - acc: 0.950 - ETA: 0s - loss: 0.1314 - acc: 0.950 - ETA: 0s - loss: 0.1311 - acc: 0.950 - ETA: 0s - loss: 0.1316 - acc: 0.950 - ETA: 0s - loss: 0.1317 - acc: 0.950 - ETA: 0s - loss: 0.1317 - acc: 0.950 - ETA: 0s - loss: 0.1313 - acc: 0.950 - ETA: 0s - loss: 0.1325 - acc: 0.949 - ETA: 0s - loss: 0.1321 - acc: 0.950 - 8s 2ms/step - loss: 0.1318 - acc: 0.9502 - val_loss: 0.1741 - val_acc: 0.9312\n",
      "\n",
      "Epoch 00030: val_loss did not improve from 0.14685\n"
     ]
    }
   ],
   "source": [
    "earlystopper = EarlyStopping(patience=5, verbose=1)\n",
    "checkpointer = ModelCheckpoint('model-tgs-salt-1.h5', verbose=1, save_best_only=True)\n",
    "results = teacher_model.fit(X_train, Y_train, validation_split=0.1, batch_size=8, epochs=30, callbacks=[earlystopper, checkpointer])"
   ]
  },
  {
   "cell_type": "code",
   "execution_count": null,
   "metadata": {},
   "outputs": [],
   "source": [
    "teacher_model.save(\"teacher_model.h5\")"
   ]
  },
  {
   "cell_type": "code",
   "execution_count": 6,
   "metadata": {},
   "outputs": [],
   "source": [
    "# モデル構築\n",
    "from keras.models import load_model\n",
    "teacher_model = load_model(\"teacher_model.h5\", custom_objects={'mean_iou': mean_iou})"
   ]
  },
  {
   "cell_type": "code",
   "execution_count": 7,
   "metadata": {},
   "outputs": [
    {
     "data": {
      "text/plain": [
       "<keras.layers.core.Activation at 0x1d989ef4630>"
      ]
     },
     "execution_count": 7,
     "metadata": {},
     "output_type": "execute_result"
    }
   ],
   "source": [
    "# 重み固定\n",
    "for i in range(len(teacher_model.layers)):\n",
    "    teacher_model.layers[i].trainable = False\n",
    "teacher_model.compile(optimizer=\"adam\", loss=\"binary_crossentropy\")\n",
    "teacher_model.layers.pop()"
   ]
  },
  {
   "cell_type": "code",
   "execution_count": 8,
   "metadata": {},
   "outputs": [],
   "source": [
    "from keras.losses import binary_crossentropy as logloss\n",
    "lambda_ =  0.9\n",
    "def knowledge_distillation_loss(input_distillation):\n",
    "    y_pred, y_true, y_soft, y_pred_soft = input_distillation\n",
    "    return (1 - lambda_) * logloss(y_true, y_pred) + lambda_*T*T*logloss(y_soft, y_pred_soft)"
   ]
  },
  {
   "cell_type": "markdown",
   "metadata": {},
   "source": [
    "# テスト"
   ]
  },
  {
   "cell_type": "code",
   "execution_count": 9,
   "metadata": {
    "scrolled": false
   },
   "outputs": [
    {
     "name": "stdout",
     "output_type": "stream",
     "text": [
      "__________________________________________________________________________________________________\n",
      "Layer (type)                    Output Shape         Param #     Connected to                     \n",
      "==================================================================================================\n",
      "input_1 (InputLayer)            (None, 128, 128, 1)  0                                            \n",
      "__________________________________________________________________________________________________\n",
      "lambda_2 (Lambda)               (None, 128, 128, 1)  0           input_1[0][0]                    \n",
      "__________________________________________________________________________________________________\n",
      "tc1 (Conv2D)                    (None, 128, 128, 8)  80          lambda_2[0][0]                   \n",
      "__________________________________________________________________________________________________\n",
      "tp1 (MaxPooling2D)              (None, 64, 64, 8)    0           tc1[0][0]                        \n",
      "__________________________________________________________________________________________________\n",
      "tc2 (Conv2D)                    (None, 64, 64, 16)   1168        tp1[0][0]                        \n",
      "__________________________________________________________________________________________________\n",
      "tp2 (MaxPooling2D)              (None, 32, 32, 16)   0           tc2[0][0]                        \n",
      "__________________________________________________________________________________________________\n",
      "tu8_1 (Conv2DTranspose)         (None, 64, 64, 16)   1040        tp2[0][0]                        \n",
      "__________________________________________________________________________________________________\n",
      "tu8_2 (Concatenate)             (None, 64, 64, 32)   0           tu8_1[0][0]                      \n",
      "                                                                 tc2[0][0]                        \n",
      "__________________________________________________________________________________________________\n",
      "tu8_3 (Conv2D)                  (None, 64, 64, 16)   4624        tu8_2[0][0]                      \n",
      "__________________________________________________________________________________________________\n",
      "tu9_1 (Conv2DTranspose)         (None, 128, 128, 8)  520         tu8_3[0][0]                      \n",
      "__________________________________________________________________________________________________\n",
      "tu9_2 (Concatenate)             (None, 128, 128, 16) 0           tu9_1[0][0]                      \n",
      "                                                                 tc1[0][0]                        \n",
      "__________________________________________________________________________________________________\n",
      "tu9_3 (Conv2D)                  (None, 128, 128, 8)  1160        tu9_2[0][0]                      \n",
      "__________________________________________________________________________________________________\n",
      "tu10 (Conv2D)                   (None, 128, 128, 1)  9           tu9_3[0][0]                      \n",
      "__________________________________________________________________________________________________\n",
      "output (Activation)             (None, 128, 128, 1)  0           tu10[0][0]                       \n",
      "==================================================================================================\n",
      "Total params: 8,601\n",
      "Trainable params: 8,601\n",
      "Non-trainable params: 0\n",
      "__________________________________________________________________________________________________\n"
     ]
    }
   ],
   "source": [
    "from keras.layers.core import Activation\n",
    "# 教師モデル\n",
    "T = 20\n",
    "input_layer = teacher_model.input\n",
    "# 画素値を0～1に変換\n",
    "#input_layer = Lambda(lambda x:x /255.0)(inputs)\n",
    "\n",
    "theacher_logits = teacher_model.layers[-1].output\n",
    "theacher_logits_T = Lambda(lambda X: X/T)(theacher_logits)\n",
    "teacher_probabilities_T = Activation('sigmoid')(theacher_logits_T)\n",
    "\n",
    "# 生徒モデル\n",
    "# フィルタ:(3✕3) フィルタ数:8\n",
    "# N_out = (N_in + 2P - F)/s +1 \n",
    "#          = (128 +0 - 2)/2 + 1 \n",
    "#          = 64\n",
    "s = Lambda(lambda x:x /255.0)(input_layer)\n",
    "tc1 = Conv2D(8, (3, 3), activation='relu', padding='same', name=\"tc1\") (s)\n",
    "#tc1 = Conv2D(8, (3, 3), activation='relu', padding='same') (tc1)\n",
    "tp1 = MaxPooling2D((2, 2), name=\"tp1\") (tc1)\n",
    "# shape(64,64,8)\n",
    "\n",
    "# N_in(64,64,8)\n",
    "tc2 = Conv2D(16, (3, 3), activation='relu', padding='same', name=\"tc2\") (tp1)\n",
    "#tc2 = Conv2D(16, (3, 3), activation='relu', padding='same') (tc2)\n",
    "tp2 = MaxPooling2D((2, 2), name=\"tp2\") (tc2)\n",
    "# N_out(32,32,16)\n",
    "\n",
    "#tc3 = Conv2D(32, (3, 3), activation='relu', padding='same', name=\"tc3\") (tp2)\n",
    "#tc3 = Conv2D(32, (3, 3), activation='relu', padding='same') (tc3)\n",
    "#tp3 = MaxPooling2D((2, 2), name=\"tp3\") (tc3)\n",
    "# N_out(16, 16, 32)\n",
    "\n",
    "#tc4 = Conv2D(64, (3, 3), activation='relu', padding='same', name=\"tc4\") (tp3)\n",
    "#tc4 = Conv2D(64, (3, 3), activation='relu', padding='same') (tc4)\n",
    "#tp4 = MaxPooling2D(pool_size=(2, 2), name=\"tp4\") (tc4)\n",
    "# N_out(8,8,64)\n",
    "\n",
    "#tc5 = Conv2D(128, (3, 3), activation='relu', padding='same') (tp4)\n",
    "#tc5 = Conv2D(128, (3, 3), activation='relu', padding='same') (tc5)\n",
    "# N_out(8, 8, 128)\n",
    "\n",
    "#tu6 = Conv2DTranspose(64, (2, 2), strides=(2, 2), padding='same') (tc5)\n",
    "#tu6 = concatenate([tu6, tc4])\n",
    "#tc6 = Conv2D(64, (3, 3), activation='relu', padding='same') (tu6)\n",
    "#tc6 = Conv2D(64, (3, 3), activation='relu', padding='same') (tc6)\n",
    "# N_out(16,16, 64)\n",
    "\n",
    "#tu7 = Conv2DTranspose(32, (2, 2), strides=(2, 2), padding='same', name=\"tu7_1\") (tp3)\n",
    "#tu7 = concatenate([tu7, tc3], name=\"tu7_2\")\n",
    "#tc7 = Conv2D(32, (3, 3), activation='relu', padding='same', name=\"tu7_3\") (tu7)\n",
    "#tc7 = Conv2D(32, (3, 3), activation='relu', padding='same') (tc7)\n",
    "# N_out(32,32, 32)\n",
    "\n",
    "tu8 = Conv2DTranspose(16, (2, 2), strides=(2, 2), padding='same', name=\"tu8_1\") (tp2)\n",
    "tu8 = concatenate([tu8, tc2], name=\"tu8_2\")\n",
    "tc8 = Conv2D(16, (3, 3), activation='relu', padding='same', name=\"tu8_3\") (tu8)\n",
    "#tc8 = Conv2D(16, (3, 3), activation='relu', padding='same') (tc8)\n",
    "# N_out(64, 64, 16)\n",
    "\n",
    "tu9 = Conv2DTranspose(8, (2, 2), strides=(2, 2), padding='same', name=\"tu9_1\") (tc8)\n",
    "# N_out(128, 128, 8)\n",
    "tu9 = concatenate([tu9, tc1], axis=3, name=\"tu9_2\")\n",
    "tc9 = Conv2D(8, (3, 3), activation='relu', padding='same', name=\"tu9_3\") (tu9)\n",
    "#tc9 = Conv2D(8, (3, 3), activation='relu', padding='same') (tc9)\n",
    "\n",
    "tc10 = Conv2D(1, (1,1), name=\"tu10\")(tc9)\n",
    "output = Activation('sigmoid', name=\"output\")(tc10)\n",
    "logits_T =Lambda(lambda X: X/T)(tc10)\n",
    "probabilities_T  = Activation(\"sigmoid\", name=\"probabilities_T\")(logits_T)\n",
    "\n",
    "student_model = Model(inputs=[input_layer], outputs=[output])\n",
    "student_model.compile(optimizer='adam', loss='binary_crossentropy', metrics=[mean_iou])\n",
    "student_model.summary()"
   ]
  },
  {
   "cell_type": "code",
   "execution_count": 10,
   "metadata": {
    "scrolled": false
   },
   "outputs": [],
   "source": [
    "# 生徒モデル\n",
    "with tf.device('/cpu:0'):\n",
    "    student_model = Model(inputs=input_layer, outputs=output)\n",
    "    input_true = Input(name='input_true', shape=[im_height, im_width, im_chan])\n",
    "\n",
    "# モデル全体\n",
    "output_loss = Lambda(knowledge_distillation_loss, output_shape=(1,), name='kd_')(\n",
    "    [output, input_true, teacher_probabilities_T, probabilities_T]\n",
    ")\n",
    "inputs = [input_layer, input_true] \n",
    "with tf.device('/cpu:0'):\n",
    "    train_model = Model(inputs=inputs, outputs=output_loss)"
   ]
  },
  {
   "cell_type": "code",
   "execution_count": 11,
   "metadata": {},
   "outputs": [],
   "source": [
    "from tensorflow.python.client import device_lib\n",
    "def convert_gpu_model(org_model: Model) -> Model:\n",
    "    gpu_count = len(device_lib.list_local_devices()) - 1\n",
    "    if gpu_count > 1:\n",
    "        train_model = multi_gpu_model(org_model, gpu_count)\n",
    "    else:\n",
    "        train_model = org_model\n",
    "    return train_model\n",
    "\n",
    "train_model = convert_gpu_model(train_model)"
   ]
  },
  {
   "cell_type": "code",
   "execution_count": 12,
   "metadata": {},
   "outputs": [],
   "source": [
    "from keras.optimizers import Adam\n",
    "#keras.optimizers.Adam(lr=0.003, beta_1=0.9, beta_2=0.999, epsilon=1e-08)\n",
    "#train_model.compile(optimizer=Adam(lr=0.001, beta_1=0.9, beta_2=0.999, epsilon=None, decay=0.0, amsgrad=False), loss=lambda y_true, y_pred: y_pred)\n",
    "#train_model.compile(optimizer=Adam(lr=0.001, beta_1=0.9, beta_2=0.999, epsilon=None, decay=0.0, amsgrad=False), loss=lambda y_true, y_pred: output_loss)\n",
    "train_model.compile(optimizer='adam', loss= lambda y_true, y_pred: y_pred)"
   ]
  },
  {
   "cell_type": "code",
   "execution_count": 13,
   "metadata": {
    "scrolled": true
   },
   "outputs": [
    {
     "name": "stdout",
     "output_type": "stream",
     "text": [
      "__________________________________________________________________________________________________\n",
      "Layer (type)                    Output Shape         Param #     Connected to                     \n",
      "==================================================================================================\n",
      "input_1 (InputLayer)            (None, 128, 128, 1)  0                                            \n",
      "__________________________________________________________________________________________________\n",
      "lambda_13 (Lambda)              (None, 128, 128, 1)  0           input_1[0][0]                    \n",
      "__________________________________________________________________________________________________\n",
      "conv2d_1 (Conv2D)               (None, 128, 128, 8)  80          lambda_13[0][0]                  \n",
      "__________________________________________________________________________________________________\n",
      "conv2d_2 (Conv2D)               (None, 128, 128, 8)  584         conv2d_1[0][0]                   \n",
      "__________________________________________________________________________________________________\n",
      "max_pooling2d_1 (MaxPooling2D)  (None, 64, 64, 8)    0           conv2d_2[0][0]                   \n",
      "__________________________________________________________________________________________________\n",
      "conv2d_3 (Conv2D)               (None, 64, 64, 16)   1168        max_pooling2d_1[0][0]            \n",
      "__________________________________________________________________________________________________\n",
      "conv2d_4 (Conv2D)               (None, 64, 64, 16)   2320        conv2d_3[0][0]                   \n",
      "__________________________________________________________________________________________________\n",
      "max_pooling2d_2 (MaxPooling2D)  (None, 32, 32, 16)   0           conv2d_4[0][0]                   \n",
      "__________________________________________________________________________________________________\n",
      "conv2d_5 (Conv2D)               (None, 32, 32, 32)   4640        max_pooling2d_2[0][0]            \n",
      "__________________________________________________________________________________________________\n",
      "conv2d_6 (Conv2D)               (None, 32, 32, 32)   9248        conv2d_5[0][0]                   \n",
      "__________________________________________________________________________________________________\n",
      "max_pooling2d_3 (MaxPooling2D)  (None, 16, 16, 32)   0           conv2d_6[0][0]                   \n",
      "__________________________________________________________________________________________________\n",
      "conv2d_7 (Conv2D)               (None, 16, 16, 64)   18496       max_pooling2d_3[0][0]            \n",
      "__________________________________________________________________________________________________\n",
      "conv2d_8 (Conv2D)               (None, 16, 16, 64)   36928       conv2d_7[0][0]                   \n",
      "__________________________________________________________________________________________________\n",
      "max_pooling2d_4 (MaxPooling2D)  (None, 8, 8, 64)     0           conv2d_8[0][0]                   \n",
      "__________________________________________________________________________________________________\n",
      "conv2d_9 (Conv2D)               (None, 8, 8, 128)    73856       max_pooling2d_4[0][0]            \n",
      "__________________________________________________________________________________________________\n",
      "conv2d_10 (Conv2D)              (None, 8, 8, 128)    147584      conv2d_9[0][0]                   \n",
      "__________________________________________________________________________________________________\n",
      "conv2d_transpose_1 (Conv2DTrans (None, 16, 16, 64)   32832       conv2d_10[0][0]                  \n",
      "__________________________________________________________________________________________________\n",
      "concatenate_5 (Concatenate)     (None, 16, 16, 128)  0           conv2d_transpose_1[0][0]         \n",
      "                                                                 conv2d_8[0][0]                   \n",
      "__________________________________________________________________________________________________\n",
      "conv2d_11 (Conv2D)              (None, 16, 16, 64)   73792       concatenate_5[0][0]              \n",
      "__________________________________________________________________________________________________\n",
      "conv2d_12 (Conv2D)              (None, 16, 16, 64)   36928       conv2d_11[0][0]                  \n",
      "__________________________________________________________________________________________________\n",
      "conv2d_transpose_2 (Conv2DTrans (None, 32, 32, 32)   8224        conv2d_12[0][0]                  \n",
      "__________________________________________________________________________________________________\n",
      "lambda_2 (Lambda)               (None, 128, 128, 1)  0           input_1[0][0]                    \n",
      "__________________________________________________________________________________________________\n",
      "concatenate_6 (Concatenate)     (None, 32, 32, 64)   0           conv2d_transpose_2[0][0]         \n",
      "                                                                 conv2d_6[0][0]                   \n",
      "__________________________________________________________________________________________________\n",
      "tc1 (Conv2D)                    (None, 128, 128, 8)  80          lambda_2[0][0]                   \n",
      "__________________________________________________________________________________________________\n",
      "conv2d_13 (Conv2D)              (None, 32, 32, 32)   18464       concatenate_6[0][0]              \n",
      "__________________________________________________________________________________________________\n",
      "tp1 (MaxPooling2D)              (None, 64, 64, 8)    0           tc1[0][0]                        \n",
      "__________________________________________________________________________________________________\n",
      "conv2d_14 (Conv2D)              (None, 32, 32, 32)   9248        conv2d_13[0][0]                  \n",
      "__________________________________________________________________________________________________\n",
      "tc2 (Conv2D)                    (None, 64, 64, 16)   1168        tp1[0][0]                        \n",
      "__________________________________________________________________________________________________\n",
      "conv2d_transpose_3 (Conv2DTrans (None, 64, 64, 16)   2064        conv2d_14[0][0]                  \n",
      "__________________________________________________________________________________________________\n",
      "tp2 (MaxPooling2D)              (None, 32, 32, 16)   0           tc2[0][0]                        \n",
      "__________________________________________________________________________________________________\n",
      "concatenate_7 (Concatenate)     (None, 64, 64, 32)   0           conv2d_transpose_3[0][0]         \n",
      "                                                                 conv2d_4[0][0]                   \n",
      "__________________________________________________________________________________________________\n",
      "tu8_1 (Conv2DTranspose)         (None, 64, 64, 16)   1040        tp2[0][0]                        \n",
      "__________________________________________________________________________________________________\n",
      "conv2d_15 (Conv2D)              (None, 64, 64, 16)   4624        concatenate_7[0][0]              \n",
      "__________________________________________________________________________________________________\n",
      "tu8_2 (Concatenate)             (None, 64, 64, 32)   0           tu8_1[0][0]                      \n",
      "                                                                 tc2[0][0]                        \n",
      "__________________________________________________________________________________________________\n",
      "conv2d_16 (Conv2D)              (None, 64, 64, 16)   2320        conv2d_15[0][0]                  \n",
      "__________________________________________________________________________________________________\n",
      "tu8_3 (Conv2D)                  (None, 64, 64, 16)   4624        tu8_2[0][0]                      \n",
      "__________________________________________________________________________________________________\n",
      "conv2d_transpose_4 (Conv2DTrans (None, 128, 128, 8)  520         conv2d_16[0][0]                  \n",
      "__________________________________________________________________________________________________\n",
      "tu9_1 (Conv2DTranspose)         (None, 128, 128, 8)  520         tu8_3[0][0]                      \n",
      "__________________________________________________________________________________________________\n",
      "concatenate_8 (Concatenate)     (None, 128, 128, 16) 0           conv2d_transpose_4[0][0]         \n",
      "                                                                 conv2d_2[0][0]                   \n",
      "__________________________________________________________________________________________________\n",
      "tu9_2 (Concatenate)             (None, 128, 128, 16) 0           tu9_1[0][0]                      \n",
      "                                                                 tc1[0][0]                        \n",
      "__________________________________________________________________________________________________\n",
      "conv2d_17 (Conv2D)              (None, 128, 128, 8)  1160        concatenate_8[0][0]              \n",
      "__________________________________________________________________________________________________\n",
      "tu9_3 (Conv2D)                  (None, 128, 128, 8)  1160        tu9_2[0][0]                      \n",
      "__________________________________________________________________________________________________\n",
      "conv2d_18 (Conv2D)              (None, 128, 128, 8)  584         conv2d_17[0][0]                  \n",
      "__________________________________________________________________________________________________\n",
      "tu10 (Conv2D)                   (None, 128, 128, 1)  9           tu9_3[0][0]                      \n",
      "__________________________________________________________________________________________________\n",
      "conv2d_19 (Conv2D)              (None, 128, 128, 1)  9           conv2d_18[0][0]                  \n",
      "__________________________________________________________________________________________________\n",
      "lambda_1 (Lambda)               (None, 128, 128, 1)  0           conv2d_19[0][0]                  \n",
      "__________________________________________________________________________________________________\n",
      "lambda_3 (Lambda)               (None, 128, 128, 1)  0           tu10[0][0]                       \n",
      "__________________________________________________________________________________________________\n",
      "output (Activation)             (None, 128, 128, 1)  0           tu10[0][0]                       \n",
      "__________________________________________________________________________________________________\n",
      "input_true (InputLayer)         (None, 128, 128, 1)  0                                            \n",
      "__________________________________________________________________________________________________\n",
      "activation_1 (Activation)       (None, 128, 128, 1)  0           lambda_1[0][0]                   \n",
      "__________________________________________________________________________________________________\n",
      "probabilities_T (Activation)    (None, 128, 128, 1)  0           lambda_3[0][0]                   \n",
      "__________________________________________________________________________________________________\n",
      "kd_ (Lambda)                    (None, 1)            0           output[0][0]                     \n",
      "                                                                 input_true[0][0]                 \n",
      "                                                                 activation_1[0][0]               \n",
      "                                                                 probabilities_T[0][0]            \n",
      "==================================================================================================\n",
      "Total params: 494,274\n",
      "Trainable params: 8,601\n",
      "Non-trainable params: 485,673\n",
      "__________________________________________________________________________________________________\n"
     ]
    }
   ],
   "source": [
    "train_model.summary()"
   ]
  },
  {
   "cell_type": "code",
   "execution_count": 14,
   "metadata": {},
   "outputs": [],
   "source": [
    "import keras\n",
    "tb_cb = keras.callbacks.TensorBoard(log_dir=\"./tflog/\", histogram_freq=1)\n",
    "cbks = [tb_cb]"
   ]
  },
  {
   "cell_type": "code",
   "execution_count": 15,
   "metadata": {
    "scrolled": false
   },
   "outputs": [
    {
     "data": {
      "image/png": "[encoded data removed]",
      "text/plain": [
       "<Figure size 864x576 with 1 Axes>"
      ]
     },
     "metadata": {
      "needs_background": "light"
     },
     "output_type": "display_data"
    },
    {
     "name": "stdout",
     "output_type": "stream",
     "text": [
      "<lambda> (cost function):\n",
      "training   (min:  245.860, max:  249.369, cur:  245.872)\n",
      "validation (min:  246.341, max:  249.008, cur:  246.502)\n",
      "Epoch 00033: early stopping\n"
     ]
    }
   ],
   "source": [
    "from livelossplot.keras import PlotLossesCallback\n",
    "earlystopper = EarlyStopping(patience=5, verbose=1)\n",
    "results = train_model.fit([X_train, Y_train], Y_train, validation_split=0.1, epochs=100, batch_size=100, callbacks=[PlotLossesCallback(), earlystopper])\n",
    "#results = train_model.fit([X_train, Y_train], Y_train, validation_split=0.1, epochs=5, batch_size=100, callbacks=cbks)"
   ]
  },
  {
   "cell_type": "code",
   "execution_count": null,
   "metadata": {},
   "outputs": [],
   "source": []
  },
  {
   "cell_type": "code",
   "execution_count": 17,
   "metadata": {},
   "outputs": [],
   "source": [
    "from keras.utils import plot_model\n",
    "plot_model(student_model, to_file='student.png')"
   ]
  },
  {
   "cell_type": "code",
   "execution_count": 18,
   "metadata": {},
   "outputs": [],
   "source": [
    "student_model.save(\"student.h5\")"
   ]
  },
  {
   "cell_type": "code",
   "execution_count": 19,
   "metadata": {},
   "outputs": [],
   "source": [
    "train_model.save(\"train_model.h5\")"
   ]
  },
  {
   "cell_type": "code",
   "execution_count": 19,
   "metadata": {},
   "outputs": [
    {
     "name": "stdout",
     "output_type": "stream",
     "text": [
      "Getting and resizing test images ... \n"
     ]
    },
    {
     "data": {
      "application/vnd.jupyter.widget-view+json": {
       "model_id": "2c7c4458f8c94cd8b8e0149b0e36b2bc",
       "version_major": 2,
       "version_minor": 0
      },
      "text/plain": [
       "HBox(children=(IntProgress(value=0, max=18000), HTML(value='')))"
      ]
     },
     "metadata": {},
     "output_type": "display_data"
    },
    {
     "name": "stderr",
     "output_type": "stream",
     "text": [
      "C:\\Users\\G2\\Anaconda3\\lib\\site-packages\\skimage\\transform\\_warps.py:110: UserWarning: Anti-aliasing will be enabled by default in skimage 0.15 to avoid aliasing artifacts when down-sampling images.\n",
      "  warn(\"Anti-aliasing will be enabled by default in skimage 0.15 to \"\n"
     ]
    },
    {
     "name": "stdout",
     "output_type": "stream",
     "text": [
      "\n",
      "Done!\n"
     ]
    }
   ],
   "source": [
    "# Get and resize test images\n",
    "X_test = np.zeros((len(test_ids), im_height, im_width, im_chan), dtype=np.uint8)\n",
    "sizes_test = []\n",
    "print('Getting and resizing test images ... ')\n",
    "sys.stdout.flush()\n",
    "for n, id_ in tqdm_notebook(enumerate(test_ids), total=len(test_ids)):\n",
    "    path = path_test\n",
    "    img = load_img(path + \"/images/\" + id_)\n",
    "    x = img_to_array(img)[:,:,1]\n",
    "    sizes_test.append([x.shape[0], x.shape[1]])\n",
    "    x = resize(x, (128, 128, 1), mode=\"constant\", preserve_range=True)\n",
    "    X_test[n] = x\n",
    "    \n",
    "print(\"Done!\")"
   ]
  },
  {
   "cell_type": "code",
   "execution_count": 7,
   "metadata": {},
   "outputs": [
    {
     "name": "stdout",
     "output_type": "stream",
     "text": [
      "4000/4000 [==============================] - ETA: 3: - ETA: 32s - ETA: 16 - ETA: 11 - ETA: 8 - ETA:  - ETA:  - ETA:  - ETA:  - ETA:  - ETA:  - ETA:  - ETA:  - ETA:  - ETA:  - ETA:  - ETA:  - ETA:  - ETA:  - ETA:  - ETA:  - ETA:  - 3s 766us/step\n"
     ]
    }
   ],
   "source": [
    "model = load_model('student.h5', custom_objects={'mean_iou': mean_iou})\n",
    "#preds_train = student_model.predict(X_train[:int(X_train.shape[0]*0.9)], verbose=1)\n",
    "#preds_val = student_model.predict(X_train[int(X_train.shape[0]*0.9):], verbose=1)\n",
    "#preds_test = student_model.predict(X_test, verbose=1)\n",
    "preds_train = model.predict(X_train, verbose=1)\n",
    "\n",
    "# Threshold predictions\n",
    "preds_train_t = (preds_train > 0.5).astype(np.uint8)\n",
    "#preds_val_t = (preds_val > 0.5).astype(np.uint8)\n",
    "#preds_test_t = (preds_test > 0.5).astype(np.uint8)"
   ]
  },
  {
   "cell_type": "markdown",
   "metadata": {},
   "source": [
    "# 自作IOU"
   ]
  },
  {
   "cell_type": "code",
   "execution_count": 11,
   "metadata": {},
   "outputs": [
    {
     "data": {
      "text/plain": [
       "(4000, 128, 128, 1)"
      ]
     },
     "execution_count": 11,
     "metadata": {},
     "output_type": "execute_result"
    }
   ],
   "source": [
    "preds_train_t.shape"
   ]
  },
  {
   "cell_type": "code",
   "execution_count": 85,
   "metadata": {
    "scrolled": true
   },
   "outputs": [
    {
     "name": "stdout",
     "output_type": "stream",
     "text": [
      "(4000, 128, 128)\n",
      "(4000, 128, 128)\n"
     ]
    }
   ],
   "source": [
    "preds_train_tt = preds_train_t.reshape(4000,128, 128)\n",
    "print(preds_train_tt.shape)\n",
    "print(Y_train_t.shape)"
   ]
  },
  {
   "cell_type": "code",
   "execution_count": 91,
   "metadata": {},
   "outputs": [],
   "source": [
    "iou = []\n",
    "mean_iou = 0\n",
    "for i in range(preds_train_tt.shape[0]):\n",
    "    temp_or = np.sum(np.logical_or(Y_train_t[i], preds_train_tt[i]))\n",
    "    if (np.unique(temp_or) == 0):\n",
    "        tmp = 1\n",
    "    else:\n",
    "        tmp = np.nansum(np.logical_and(Y_train_t[i], preds_train_tt[i])) / temp_or\n",
    "    iou.append(tmp)\n",
    "\n",
    "mean_iou = np.mean(np.vstack(iou))"
   ]
  },
  {
   "cell_type": "code",
   "execution_count": 92,
   "metadata": {},
   "outputs": [
    {
     "data": {
      "text/plain": [
       "0.27922485471552416"
      ]
     },
     "execution_count": 92,
     "metadata": {},
     "output_type": "execute_result"
    }
   ],
   "source": [
    "mean_iou"
   ]
  },
  {
   "cell_type": "code",
   "execution_count": 54,
   "metadata": {},
   "outputs": [
    {
     "data": {
      "text/plain": [
       "(array([], dtype=int64), array([], dtype=int64), array([], dtype=int64))"
      ]
     },
     "execution_count": 54,
     "metadata": {},
     "output_type": "execute_result"
    }
   ],
   "source": [
    "np.where( np.isnan(Y_train_t))"
   ]
  },
  {
   "cell_type": "code",
   "execution_count": null,
   "metadata": {},
   "outputs": [],
   "source": []
  },
  {
   "cell_type": "code",
   "execution_count": 51,
   "metadata": {
    "scrolled": true
   },
   "outputs": [],
   "source": [
    "for i in iou:\n",
    "    #print(i)\n",
    "    if i is np.nan:\n",
    "        print(i)"
   ]
  },
  {
   "cell_type": "code",
   "execution_count": 58,
   "metadata": {},
   "outputs": [
    {
     "data": {
      "text/plain": [
       "(array([  71,  178,  218,  226,  269,  383,  398,  414,  455,  456,  463,\n",
       "         483,  503,  600,  653,  706,  820,  842,  900,  948,  962,  976,\n",
       "         995, 1193, 1221, 1319, 1333, 1338, 1345, 1366, 1369, 1410, 1425,\n",
       "        1453, 1509, 1606, 1633, 1704, 1710, 1795, 1817, 1839, 1978, 2051,\n",
       "        2114, 2125, 2147, 2197, 2259, 2284, 2326, 2346, 2359, 2389, 2415,\n",
       "        2551, 2556, 2570, 2577, 2579, 2593, 2600, 2638, 2660, 2684, 2687,\n",
       "        2696, 2729, 2735, 2787, 2794, 2833, 2850, 2859, 2898, 2920, 2951,\n",
       "        2993, 3037, 3040, 3062, 3065, 3135, 3194, 3249, 3258, 3266, 3291,\n",
       "        3346, 3388, 3394, 3444, 3503, 3509, 3575, 3608, 3616, 3624, 3686,\n",
       "        3750, 3752, 3783, 3787, 3893, 3992], dtype=int64),\n",
       " array([0, 0, 0, 0, 0, 0, 0, 0, 0, 0, 0, 0, 0, 0, 0, 0, 0, 0, 0, 0, 0, 0,\n",
       "        0, 0, 0, 0, 0, 0, 0, 0, 0, 0, 0, 0, 0, 0, 0, 0, 0, 0, 0, 0, 0, 0,\n",
       "        0, 0, 0, 0, 0, 0, 0, 0, 0, 0, 0, 0, 0, 0, 0, 0, 0, 0, 0, 0, 0, 0,\n",
       "        0, 0, 0, 0, 0, 0, 0, 0, 0, 0, 0, 0, 0, 0, 0, 0, 0, 0, 0, 0, 0, 0,\n",
       "        0, 0, 0, 0, 0, 0, 0, 0, 0, 0, 0, 0, 0, 0, 0, 0, 0], dtype=int64))"
      ]
     },
     "execution_count": 58,
     "metadata": {},
     "output_type": "execute_result"
    }
   ],
   "source": [
    "np.where(np.isnan(np.vstack(iou)))"
   ]
  },
  {
   "cell_type": "code",
   "execution_count": 66,
   "metadata": {},
   "outputs": [
    {
     "data": {
      "text/plain": [
       "nan"
      ]
     },
     "execution_count": 66,
     "metadata": {},
     "output_type": "execute_result"
    }
   ],
   "source": [
    "mean_iou"
   ]
  },
  {
   "cell_type": "code",
   "execution_count": 75,
   "metadata": {},
   "outputs": [
    {
     "name": "stdout",
     "output_type": "stream",
     "text": [
      "t\n"
     ]
    }
   ],
   "source": [
    "if np.unique(Y_train_t[218]) == 0:\n",
    "    print(\"t\")"
   ]
  },
  {
   "cell_type": "code",
   "execution_count": 65,
   "metadata": {},
   "outputs": [
    {
     "data": {
      "text/plain": [
       "array([0], dtype=uint8)"
      ]
     },
     "execution_count": 65,
     "metadata": {},
     "output_type": "execute_result"
    }
   ],
   "source": [
    "np.unique(preds_train_tt[218])"
   ]
  },
  {
   "cell_type": "code",
   "execution_count": 70,
   "metadata": {
    "scrolled": false
   },
   "outputs": [
    {
     "name": "stderr",
     "output_type": "stream",
     "text": [
      "C:\\Users\\G2\\Anaconda3\\lib\\site-packages\\ipykernel_launcher.py:1: RuntimeWarning: invalid value encountered in true_divide\n",
      "  \"\"\"Entry point for launching an IPython kernel.\n"
     ]
    },
    {
     "data": {
      "text/plain": [
       "nan"
      ]
     },
     "execution_count": 70,
     "metadata": {},
     "output_type": "execute_result"
    }
   ],
   "source": [
    "np.array(0) / np.array(0)"
   ]
  },
  {
   "cell_type": "code",
   "execution_count": 31,
   "metadata": {},
   "outputs": [
    {
     "data": {
      "text/plain": [
       "(4000, 128, 128, 1)"
      ]
     },
     "execution_count": 31,
     "metadata": {},
     "output_type": "execute_result"
    }
   ],
   "source": [
    "preds_train_t.shape"
   ]
  },
  {
   "cell_type": "code",
   "execution_count": 42,
   "metadata": {},
   "outputs": [],
   "source": [
    "preds_train_tt = preds_train_t.reshape(4000,128, 128)"
   ]
  },
  {
   "cell_type": "code",
   "execution_count": 9,
   "metadata": {},
   "outputs": [],
   "source": [
    "Y_train_t = np.squeeze(Y_train).astype(np.float32)"
   ]
  },
  {
   "cell_type": "code",
   "execution_count": 50,
   "metadata": {},
   "outputs": [
    {
     "data": {
      "text/plain": [
       "array([[[0., 0., 0., ..., 0., 0., 0.],\n",
       "        [0., 0., 0., ..., 0., 0., 0.],\n",
       "        [0., 0., 0., ..., 0., 0., 0.],\n",
       "        ...,\n",
       "        [0., 0., 0., ..., 0., 0., 0.],\n",
       "        [0., 0., 0., ..., 0., 0., 0.],\n",
       "        [0., 0., 0., ..., 0., 0., 0.]],\n",
       "\n",
       "       [[0., 0., 0., ..., 1., 1., 1.],\n",
       "        [0., 0., 0., ..., 1., 1., 1.],\n",
       "        [0., 0., 0., ..., 1., 1., 1.],\n",
       "        ...,\n",
       "        [0., 0., 0., ..., 0., 0., 0.],\n",
       "        [0., 0., 0., ..., 0., 0., 0.],\n",
       "        [0., 0., 0., ..., 0., 0., 0.]],\n",
       "\n",
       "       [[0., 0., 0., ..., 0., 0., 0.],\n",
       "        [0., 0., 0., ..., 0., 0., 0.],\n",
       "        [0., 0., 0., ..., 0., 0., 0.],\n",
       "        ...,\n",
       "        [0., 0., 0., ..., 0., 0., 0.],\n",
       "        [0., 0., 0., ..., 0., 0., 0.],\n",
       "        [0., 0., 0., ..., 0., 0., 0.]],\n",
       "\n",
       "       ...,\n",
       "\n",
       "       [[0., 0., 0., ..., 0., 0., 0.],\n",
       "        [0., 0., 0., ..., 0., 0., 0.],\n",
       "        [0., 0., 0., ..., 0., 0., 0.],\n",
       "        ...,\n",
       "        [0., 0., 0., ..., 0., 0., 0.],\n",
       "        [0., 0., 0., ..., 0., 0., 0.],\n",
       "        [0., 0., 0., ..., 0., 0., 0.]],\n",
       "\n",
       "       [[0., 0., 0., ..., 0., 0., 0.],\n",
       "        [0., 0., 0., ..., 0., 0., 0.],\n",
       "        [0., 0., 0., ..., 0., 0., 0.],\n",
       "        ...,\n",
       "        [0., 0., 0., ..., 1., 1., 1.],\n",
       "        [0., 0., 0., ..., 1., 1., 1.],\n",
       "        [0., 0., 0., ..., 1., 1., 1.]],\n",
       "\n",
       "       [[0., 0., 0., ..., 0., 0., 0.],\n",
       "        [0., 0., 0., ..., 0., 0., 0.],\n",
       "        [0., 0., 0., ..., 0., 0., 0.],\n",
       "        ...,\n",
       "        [1., 1., 1., ..., 1., 1., 1.],\n",
       "        [1., 1., 1., ..., 1., 1., 1.],\n",
       "        [1., 1., 1., ..., 1., 1., 1.]]], dtype=float32)"
      ]
     },
     "execution_count": 50,
     "metadata": {},
     "output_type": "execute_result"
    }
   ],
   "source": [
    "Y_train_t"
   ]
  },
  {
   "cell_type": "code",
   "execution_count": 46,
   "metadata": {},
   "outputs": [
    {
     "data": {
      "text/plain": [
       "10293458"
      ]
     },
     "execution_count": 46,
     "metadata": {},
     "output_type": "execute_result"
    }
   ],
   "source": [
    "np.sum(np.logical_and(Y_train_t, preds_train_tt))"
   ]
  },
  {
   "cell_type": "code",
   "execution_count": 47,
   "metadata": {},
   "outputs": [
    {
     "data": {
      "text/plain": [
       "65536000"
      ]
     },
     "execution_count": 47,
     "metadata": {},
     "output_type": "execute_result"
    }
   ],
   "source": [
    "128*128*4000"
   ]
  },
  {
   "cell_type": "code",
   "execution_count": null,
   "metadata": {},
   "outputs": [],
   "source": [
    "10293458\n",
    "65536000"
   ]
  },
  {
   "cell_type": "code",
   "execution_count": 48,
   "metadata": {},
   "outputs": [
    {
     "data": {
      "text/plain": [
       "21688135"
      ]
     },
     "execution_count": 48,
     "metadata": {},
     "output_type": "execute_result"
    }
   ],
   "source": [
    "np.sum(np.logical_or(Y_train_t, preds_train_tt))"
   ]
  },
  {
   "cell_type": "code",
   "execution_count": 21,
   "metadata": {},
   "outputs": [
    {
     "data": {
      "application/vnd.jupyter.widget-view+json": {
       "model_id": "22b042e3031c41bd892805b37c8904da",
       "version_major": 2,
       "version_minor": 0
      },
      "text/plain": [
       "HBox(children=(IntProgress(value=0, max=18000), HTML(value='')))"
      ]
     },
     "metadata": {},
     "output_type": "display_data"
    },
    {
     "name": "stdout",
     "output_type": "stream",
     "text": [
      "\n"
     ]
    }
   ],
   "source": [
    "# Create list of upsampled test masks\n",
    "preds_test_upsampled = []\n",
    "for i in tnrange(len(preds_test)):\n",
    "    preds_test_upsampled.append(resize(np.squeeze(preds_test[i]), \n",
    "                                       (sizes_test[i][0], sizes_test[i][1]), \n",
    "                                       mode='constant', preserve_range=True))"
   ]
  },
  {
   "cell_type": "code",
   "execution_count": 22,
   "metadata": {},
   "outputs": [
    {
     "data": {
      "text/plain": [
       "(101, 101)"
      ]
     },
     "execution_count": 22,
     "metadata": {},
     "output_type": "execute_result"
    }
   ],
   "source": [
    "preds_test_upsampled[0].shape"
   ]
  },
  {
   "cell_type": "code",
   "execution_count": 37,
   "metadata": {},
   "outputs": [
    {
     "data": {
      "image/png": "[encoded data removed]",
      "text/plain": [
       "<Figure size 432x288 with 1 Axes>"
      ]
     },
     "metadata": {
      "needs_background": "light"
     },
     "output_type": "display_data"
    },
    {
     "data": {
      "image/png": "[encoded data removed]",
      "text/plain": [
       "<Figure size 432x288 with 1 Axes>"
      ]
     },
     "metadata": {
      "needs_background": "light"
     },
     "output_type": "display_data"
    },
    {
     "data": {
      "image/png": "[encoded data removed]",
      "text/plain": [
       "<Figure size 432x288 with 1 Axes>"
      ]
     },
     "metadata": {
      "needs_background": "light"
     },
     "output_type": "display_data"
    }
   ],
   "source": [
    "# Perform a sanity check on some random training samples\n",
    "ix = random.randint(0, len(preds_train_t))\n",
    "ix = 1271\n",
    "plt.imshow(np.dstack((X_train[ix],X_train[ix],X_train[ix])))\n",
    "plt.show()\n",
    "tmp = np.squeeze(Y_train[ix]).astype(np.float32)\n",
    "plt.imshow(np.dstack((tmp,tmp,tmp)))\n",
    "plt.show()\n",
    "tmp = np.squeeze(preds_train_t[ix]).astype(np.float32)\n",
    "plt.imshow(np.dstack((tmp,tmp,tmp)))\n",
    "plt.show()"
   ]
  },
  {
   "cell_type": "markdown",
   "metadata": {},
   "source": [
    "988 722 2277 2351 1883 1353 2989 1387 192 1476 2762 1649 1271"
   ]
  },
  {
   "cell_type": "code",
   "execution_count": 20,
   "metadata": {},
   "outputs": [
    {
     "data": {
      "text/plain": [
       "2762"
      ]
     },
     "execution_count": 20,
     "metadata": {},
     "output_type": "execute_result"
    }
   ],
   "source": [
    "ix"
   ]
  },
  {
   "cell_type": "code",
   "execution_count": 24,
   "metadata": {},
   "outputs": [
    {
     "data": {
      "text/plain": [
       "1271"
      ]
     },
     "execution_count": 24,
     "metadata": {},
     "output_type": "execute_result"
    }
   ],
   "source": [
    "ix"
   ]
  },
  {
   "cell_type": "code",
   "execution_count": null,
   "metadata": {},
   "outputs": [],
   "source": [
    "from keras.utils import plot_model\n",
    "plot_model(student_model, to_file='smoll_student.png')"
   ]
  }
 ],
 "metadata": {
  "kernelspec": {
   "display_name": "Python 3",
   "language": "python",
   "name": "python3"
  },
  "language_info": {
   "codemirror_mode": {
    "name": "ipython",
    "version": 3
   },
   "file_extension": ".py",
   "mimetype": "text/x-python",
   "name": "python",
   "nbconvert_exporter": "python",
   "pygments_lexer": "ipython3",
   "version": "3.6.6"
  },
  "toc": {
   "base_numbering": 1,
   "nav_menu": {},
   "number_sections": true,
   "sideBar": true,
   "skip_h1_title": false,
   "title_cell": "Table of Contents",
   "title_sidebar": "Contents",
   "toc_cell": false,
   "toc_position": {},
   "toc_section_display": true,
   "toc_window_display": false
  }
 },
 "nbformat": 4,
 "nbformat_minor": 2
}
